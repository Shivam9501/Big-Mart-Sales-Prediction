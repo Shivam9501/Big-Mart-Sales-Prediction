{
 "cells": [
  {
   "cell_type": "markdown",
   "id": "2973245a",
   "metadata": {},
   "source": [
    "# BigMart - RandomForest (Hyperparameter Tuning)"
   ]
  },
  {
   "cell_type": "code",
   "execution_count": 1,
   "id": "6719fd55",
   "metadata": {},
   "outputs": [],
   "source": [
    "import numpy as np\n",
    "import pandas as pd\n",
    "import matplotlib.pyplot as plt\n",
    "import seaborn as sns\n",
    "import warnings\n",
    "from tqdm import tqdm, tqdm_notebook\n",
    "\n",
    "from sklearn.model_selection import KFold, train_test_split\n",
    "from sklearn.metrics import mean_squared_error as mse\n",
    "from sklearn.preprocessing import StandardScaler\n",
    "\n",
    "from sklearn.linear_model import LinearRegression\n",
    "from sklearn.tree import DecisionTreeRegressor\n",
    "from sklearn.ensemble import RandomForestRegressor\n",
    "from xgboost import XGBRegressor\n",
    "\n",
    "warnings.filterwarnings('ignore')\n",
    "%matplotlib inline"
   ]
  },
  {
   "cell_type": "code",
   "execution_count": 2,
   "id": "75caba32",
   "metadata": {},
   "outputs": [],
   "source": [
    "df = pd.read_csv('final_train.csv')"
   ]
  },
  {
   "cell_type": "code",
   "execution_count": 3,
   "id": "0394a8b4",
   "metadata": {},
   "outputs": [
    {
     "data": {
      "text/html": [
       "<div>\n",
       "<style scoped>\n",
       "    .dataframe tbody tr th:only-of-type {\n",
       "        vertical-align: middle;\n",
       "    }\n",
       "\n",
       "    .dataframe tbody tr th {\n",
       "        vertical-align: top;\n",
       "    }\n",
       "\n",
       "    .dataframe thead th {\n",
       "        text-align: right;\n",
       "    }\n",
       "</style>\n",
       "<table border=\"1\" class=\"dataframe\">\n",
       "  <thead>\n",
       "    <tr style=\"text-align: right;\">\n",
       "      <th></th>\n",
       "      <th>Item_Fat_Content</th>\n",
       "      <th>Item_Visibility</th>\n",
       "      <th>Item_MRP</th>\n",
       "      <th>Outlet_Establishment_Year</th>\n",
       "      <th>Outlet_Size</th>\n",
       "      <th>Outlet_Location_Type</th>\n",
       "      <th>Item_Weight_y</th>\n",
       "      <th>Item_Type_Baking Goods</th>\n",
       "      <th>Item_Type_Breads</th>\n",
       "      <th>Item_Type_Breakfast</th>\n",
       "      <th>...</th>\n",
       "      <th>Outlet_Identifier_OUT027</th>\n",
       "      <th>Outlet_Identifier_OUT035</th>\n",
       "      <th>Outlet_Identifier_OUT045</th>\n",
       "      <th>Outlet_Identifier_OUT046</th>\n",
       "      <th>Outlet_Identifier_OUT049</th>\n",
       "      <th>Outlet_Type_Grocery Store</th>\n",
       "      <th>Outlet_Type_Supermarket Type1</th>\n",
       "      <th>Outlet_Type_Supermarket Type2</th>\n",
       "      <th>Outlet_Type_Supermarket Type3</th>\n",
       "      <th>Item_Outlet_Sales</th>\n",
       "    </tr>\n",
       "  </thead>\n",
       "  <tbody>\n",
       "    <tr>\n",
       "      <th>0</th>\n",
       "      <td>-0.737887</td>\n",
       "      <td>-0.970891</td>\n",
       "      <td>1.763875</td>\n",
       "      <td>0.133879</td>\n",
       "      <td>0.285343</td>\n",
       "      <td>-1.365170</td>\n",
       "      <td>-0.768435</td>\n",
       "      <td>-0.28777</td>\n",
       "      <td>-0.174363</td>\n",
       "      <td>-0.114158</td>\n",
       "      <td>...</td>\n",
       "      <td>-0.344522</td>\n",
       "      <td>-0.350919</td>\n",
       "      <td>-0.35007</td>\n",
       "      <td>-0.350495</td>\n",
       "      <td>2.847938</td>\n",
       "      <td>-0.382818</td>\n",
       "      <td>0.723256</td>\n",
       "      <td>-0.350707</td>\n",
       "      <td>-0.344522</td>\n",
       "      <td>3735.1380</td>\n",
       "    </tr>\n",
       "    <tr>\n",
       "      <th>1</th>\n",
       "      <td>1.355222</td>\n",
       "      <td>-0.908348</td>\n",
       "      <td>-1.486518</td>\n",
       "      <td>1.331598</td>\n",
       "      <td>0.285343</td>\n",
       "      <td>1.095912</td>\n",
       "      <td>-1.496059</td>\n",
       "      <td>-0.28777</td>\n",
       "      <td>-0.174363</td>\n",
       "      <td>-0.114158</td>\n",
       "      <td>...</td>\n",
       "      <td>-0.344522</td>\n",
       "      <td>-0.350919</td>\n",
       "      <td>-0.35007</td>\n",
       "      <td>-0.350495</td>\n",
       "      <td>-0.351131</td>\n",
       "      <td>-0.382818</td>\n",
       "      <td>-1.382637</td>\n",
       "      <td>2.851384</td>\n",
       "      <td>-0.344522</td>\n",
       "      <td>443.4228</td>\n",
       "    </tr>\n",
       "  </tbody>\n",
       "</table>\n",
       "<p>2 rows × 38 columns</p>\n",
       "</div>"
      ],
      "text/plain": [
       "   Item_Fat_Content  Item_Visibility  Item_MRP  Outlet_Establishment_Year  \\\n",
       "0         -0.737887        -0.970891  1.763875                   0.133879   \n",
       "1          1.355222        -0.908348 -1.486518                   1.331598   \n",
       "\n",
       "   Outlet_Size  Outlet_Location_Type  Item_Weight_y  Item_Type_Baking Goods  \\\n",
       "0     0.285343             -1.365170      -0.768435                -0.28777   \n",
       "1     0.285343              1.095912      -1.496059                -0.28777   \n",
       "\n",
       "   Item_Type_Breads  Item_Type_Breakfast  ...  Outlet_Identifier_OUT027  \\\n",
       "0         -0.174363            -0.114158  ...                 -0.344522   \n",
       "1         -0.174363            -0.114158  ...                 -0.344522   \n",
       "\n",
       "   Outlet_Identifier_OUT035  Outlet_Identifier_OUT045  \\\n",
       "0                 -0.350919                  -0.35007   \n",
       "1                 -0.350919                  -0.35007   \n",
       "\n",
       "   Outlet_Identifier_OUT046  Outlet_Identifier_OUT049  \\\n",
       "0                 -0.350495                  2.847938   \n",
       "1                 -0.350495                 -0.351131   \n",
       "\n",
       "   Outlet_Type_Grocery Store  Outlet_Type_Supermarket Type1  \\\n",
       "0                  -0.382818                       0.723256   \n",
       "1                  -0.382818                      -1.382637   \n",
       "\n",
       "   Outlet_Type_Supermarket Type2  Outlet_Type_Supermarket Type3  \\\n",
       "0                      -0.350707                      -0.344522   \n",
       "1                       2.851384                      -0.344522   \n",
       "\n",
       "   Item_Outlet_Sales  \n",
       "0          3735.1380  \n",
       "1           443.4228  \n",
       "\n",
       "[2 rows x 38 columns]"
      ]
     },
     "execution_count": 3,
     "metadata": {},
     "output_type": "execute_result"
    }
   ],
   "source": [
    "# LEt's seggregate the target and independent variables first\n",
    "X = df.drop(columns= 'Item_Outlet_Sales', axis=1)\n",
    "Y = df['Item_Outlet_Sales']\n",
    "\n",
    "# Let's scale the independent variables and store them in a dataframe\n",
    "ss = StandardScaler()\n",
    "X_scaled = ss.fit_transform(X)\n",
    "x = pd.DataFrame(X_scaled, columns= X.columns)\n",
    "\n",
    "# merge the independent and target variables to create a new dataframe with scaled features\n",
    "scaled_df= pd.concat([x,Y], axis=1)\n",
    "scaled_df.head(2)"
   ]
  },
  {
   "cell_type": "markdown",
   "id": "016477cc",
   "metadata": {},
   "source": [
    "We will tune the following hyperparamters in the RandomForestRegressor:\n",
    "\n",
    "* n_estimators\n",
    "* max_depth\n",
    "* min_samples_split\n",
    "* min_samples_leaf\n",
    "\n",
    "### 1. n_estimators"
   ]
  },
  {
   "cell_type": "code",
   "execution_count": 8,
   "id": "22447a76",
   "metadata": {},
   "outputs": [],
   "source": [
    "def estimator_score(data, min_r=1, max_r=10):\n",
    "    \n",
    "    X = data.drop(columns = 'Item_Outlet_Sales', axis= 1)\n",
    "    Y = data['Item_Outlet_Sales']\n",
    "    \n",
    "    KF = KFold(n_splits= 5, shuffle= True, random_state= 0)\n",
    "    \n",
    "    results= []\n",
    "    \n",
    "    for n_est in tqdm_notebook(range(min_r, max_r, 20), desc=\"Processing\", leave=True):\n",
    "        x = {}\n",
    "        train_score = []\n",
    "        val_score = []\n",
    "        \n",
    "        for i, (train_index, val_index) in enumerate(KF.split(X, Y)):\n",
    "            xtr, xval = X.iloc[train_index], X.iloc[val_index]\n",
    "            ytr, yval = Y.iloc[train_index], Y.iloc[val_index]\n",
    "        \n",
    "            model= RandomForestRegressor(random_state= 0,\n",
    "                                     n_estimators= n_est,\n",
    "                                     max_depth= 5,\n",
    "                                     min_samples_split= 5,\n",
    "                                     min_samples_leaf= 5)\n",
    "    \n",
    "            model.fit(xtr, ytr)\n",
    "\n",
    "            train_preds = model.predict(xtr)\n",
    "            val_preds = model.predict(xval)\n",
    "\n",
    "            train_rmse = np.sqrt(mse(ytr, train_preds))\n",
    "            val_rmse = np.sqrt(mse(yval, val_preds))\n",
    "\n",
    "            train_score.append(train_rmse)\n",
    "            val_score.append(val_rmse)\n",
    "            \n",
    "            \n",
    "        mean_score_train = np.mean(train_score)\n",
    "        mean_score_valid = np.mean(val_score)\n",
    "\n",
    "        print('With n_estimators:\\t' + str(n_est) + '\\tMean_RMSLE_Train:\\t' + str(mean_score_train) + '\\tMean_RMSLE_Valid:\\t' + str(mean_score_valid))\n",
    "                 \n",
    "        x['estimators'] = n_est\n",
    "        x['train'] = mean_score_train\n",
    "        x['valid'] = mean_score_valid\n",
    "    \n",
    "        results.append(x)\n",
    "        \n",
    "    return pd.DataFrame(results)"
   ]
  },
  {
   "cell_type": "code",
   "execution_count": 13,
   "id": "beb38bce",
   "metadata": {},
   "outputs": [
    {
     "data": {
      "application/vnd.jupyter.widget-view+json": {
       "model_id": "0783c8f330064096ae3bec40dc0319e1",
       "version_major": 2,
       "version_minor": 0
      },
      "text/plain": [
       "Processing:   0%|          | 0/19 [00:00<?, ?it/s]"
      ]
     },
     "metadata": {},
     "output_type": "display_data"
    },
    {
     "name": "stdout",
     "output_type": "stream",
     "text": [
      "With n_estimators:\t20\tMean_RMSLE_Train:\t1019.1301455638477\tMean_RMSLE_Valid:\t1036.1643246553417\n",
      "With n_estimators:\t40\tMean_RMSLE_Train:\t1018.5418672095504\tMean_RMSLE_Valid:\t1035.7732059668438\n",
      "With n_estimators:\t60\tMean_RMSLE_Train:\t1018.5376862577647\tMean_RMSLE_Valid:\t1035.5452021517583\n",
      "With n_estimators:\t80\tMean_RMSLE_Train:\t1018.3541819239997\tMean_RMSLE_Valid:\t1035.139906611889\n",
      "With n_estimators:\t100\tMean_RMSLE_Train:\t1018.3463501071604\tMean_RMSLE_Valid:\t1035.107191180628\n",
      "With n_estimators:\t120\tMean_RMSLE_Train:\t1018.2437014333257\tMean_RMSLE_Valid:\t1035.112614533808\n",
      "With n_estimators:\t140\tMean_RMSLE_Train:\t1018.2586092546413\tMean_RMSLE_Valid:\t1034.927462838233\n",
      "With n_estimators:\t160\tMean_RMSLE_Train:\t1018.2488809384089\tMean_RMSLE_Valid:\t1034.9007419305178\n",
      "With n_estimators:\t180\tMean_RMSLE_Train:\t1018.2635603738652\tMean_RMSLE_Valid:\t1034.8620306645494\n",
      "With n_estimators:\t200\tMean_RMSLE_Train:\t1018.2764129530002\tMean_RMSLE_Valid:\t1034.8839499370838\n",
      "With n_estimators:\t220\tMean_RMSLE_Train:\t1018.2792087852428\tMean_RMSLE_Valid:\t1034.8927570850115\n",
      "With n_estimators:\t240\tMean_RMSLE_Train:\t1018.2740979747811\tMean_RMSLE_Valid:\t1034.8415176717126\n",
      "With n_estimators:\t260\tMean_RMSLE_Train:\t1018.2795062185263\tMean_RMSLE_Valid:\t1034.8371042132535\n",
      "With n_estimators:\t280\tMean_RMSLE_Train:\t1018.2625657888586\tMean_RMSLE_Valid:\t1034.848709656406\n",
      "With n_estimators:\t300\tMean_RMSLE_Train:\t1018.2449359131431\tMean_RMSLE_Valid:\t1034.8081230218345\n",
      "With n_estimators:\t320\tMean_RMSLE_Train:\t1018.2475123321459\tMean_RMSLE_Valid:\t1034.8267880543403\n",
      "With n_estimators:\t340\tMean_RMSLE_Train:\t1018.2545399526201\tMean_RMSLE_Valid:\t1034.8034813905915\n",
      "With n_estimators:\t360\tMean_RMSLE_Train:\t1018.264477209453\tMean_RMSLE_Valid:\t1034.8205479746682\n",
      "With n_estimators:\t380\tMean_RMSLE_Train:\t1018.2668034593502\tMean_RMSLE_Valid:\t1034.8281394761398\n"
     ]
    }
   ],
   "source": [
    "est_results = estimator_score(scaled_df, min_r= 20, max_r= 400)"
   ]
  },
  {
   "cell_type": "code",
   "execution_count": 15,
   "id": "451adca9",
   "metadata": {},
   "outputs": [
    {
     "data": {
      "image/png": "[encoded data removed]",
      "text/plain": [
       "<Figure size 1000x300 with 1 Axes>"
      ]
     },
     "metadata": {},
     "output_type": "display_data"
    }
   ],
   "source": [
    "plt.figure(figsize= (10,3), dpi= 100)\n",
    "#sns.lineplot(x= est_results['estimators'], y= est_results['train'], color = 'orange', marker= 'o', label= 'Train')\n",
    "sns.lineplot(x= est_results['estimators'], y= est_results['valid'], color = 'red', marker= 'o', label= 'Valid')\n",
    "plt.xlabel('n_estimators')\n",
    "plt.ylabel('RMSE')\n",
    "plt.legend()\n",
    "plt.show()"
   ]
  },
  {
   "cell_type": "markdown",
   "id": "5bc2a5e8",
   "metadata": {},
   "source": [
    "RMSE **(1034.837)** on Validation gets stabalized at around **n_estimators = 260**"
   ]
  },
  {
   "cell_type": "code",
   "execution_count": 16,
   "id": "2909ab2b",
   "metadata": {},
   "outputs": [],
   "source": [
    "def depth_score(data, min_r=1, max_r=10):\n",
    "    \n",
    "    X = data.drop(columns = 'Item_Outlet_Sales', axis= 1)\n",
    "    Y = data['Item_Outlet_Sales']\n",
    "    \n",
    "    KF = KFold(n_splits= 5, shuffle= True, random_state= 0)\n",
    "    \n",
    "    results= []\n",
    "    \n",
    "    for depth in tqdm_notebook(range(min_r, max_r, 1), desc=\"Processing\", leave=True):\n",
    "        x = {}\n",
    "        train_score = []\n",
    "        val_score = []\n",
    "        \n",
    "        for i, (train_index, val_index) in enumerate(KF.split(X, Y)):\n",
    "            xtr, xval = X.iloc[train_index], X.iloc[val_index]\n",
    "            ytr, yval = Y.iloc[train_index], Y.iloc[val_index]\n",
    "        \n",
    "            model= RandomForestRegressor(random_state= 0,\n",
    "                                     n_estimators= 260,\n",
    "                                     max_depth= depth,\n",
    "                                     min_samples_split= 5,\n",
    "                                     min_samples_leaf= 5)\n",
    "    \n",
    "            model.fit(xtr, ytr)\n",
    "\n",
    "            train_preds = model.predict(xtr)\n",
    "            val_preds = model.predict(xval)\n",
    "\n",
    "            train_rmse = np.sqrt(mse(ytr, train_preds))\n",
    "            val_rmse = np.sqrt(mse(yval, val_preds))\n",
    "\n",
    "            train_score.append(train_rmse)\n",
    "            val_score.append(val_rmse)\n",
    "            \n",
    "            \n",
    "        mean_score_train = np.mean(train_score)\n",
    "        mean_score_valid = np.mean(val_score)\n",
    "\n",
    "        print('With max_depth:\\t' + str(depth) + '\\tMean_RMSLE_Train:\\t' + str(mean_score_train) + '\\tMean_RMSLE_Valid:\\t' + str(mean_score_valid))\n",
    "                 \n",
    "        x['max_depth'] = depth\n",
    "        x['train'] = mean_score_train\n",
    "        x['valid'] = mean_score_valid\n",
    "    \n",
    "        results.append(x)\n",
    "        \n",
    "    return pd.DataFrame(results)"
   ]
  },
  {
   "cell_type": "code",
   "execution_count": 17,
   "id": "e433a978",
   "metadata": {},
   "outputs": [
    {
     "data": {
      "application/vnd.jupyter.widget-view+json": {
       "model_id": "c8742f8d3892419c845e8d94b87a4483",
       "version_major": 2,
       "version_minor": 0
      },
      "text/plain": [
       "Processing:   0%|          | 0/29 [00:00<?, ?it/s]"
      ]
     },
     "metadata": {},
     "output_type": "display_data"
    },
    {
     "name": "stdout",
     "output_type": "stream",
     "text": [
      "With max_depth:\t1\tMean_RMSLE_Train:\t1408.8235914567\tMean_RMSLE_Valid:\t1411.6001579190827\n",
      "With max_depth:\t2\tMean_RMSLE_Train:\t1184.279927691666\tMean_RMSLE_Valid:\t1187.8659476788412\n",
      "With max_depth:\t3\tMean_RMSLE_Train:\t1100.3799224290592\tMean_RMSLE_Valid:\t1104.3073291388841\n",
      "With max_depth:\t4\tMean_RMSLE_Train:\t1038.7849549260086\tMean_RMSLE_Valid:\t1046.578397813623\n",
      "With max_depth:\t5\tMean_RMSLE_Train:\t1018.2795062185263\tMean_RMSLE_Valid:\t1034.8371042132535\n",
      "With max_depth:\t6\tMean_RMSLE_Train:\t1002.3486123711443\tMean_RMSLE_Valid:\t1033.0066653043682\n",
      "With max_depth:\t7\tMean_RMSLE_Train:\t982.343783962132\tMean_RMSLE_Valid:\t1033.7381533218615\n",
      "With max_depth:\t8\tMean_RMSLE_Train:\t958.9489055423977\tMean_RMSLE_Valid:\t1035.6308920067972\n",
      "With max_depth:\t9\tMean_RMSLE_Train:\t932.6692298557833\tMean_RMSLE_Valid:\t1037.9879136144536\n",
      "With max_depth:\t10\tMean_RMSLE_Train:\t905.0613570080895\tMean_RMSLE_Valid:\t1040.5137364468167\n",
      "With max_depth:\t11\tMean_RMSLE_Train:\t877.847387625967\tMean_RMSLE_Valid:\t1043.2223720365273\n",
      "With max_depth:\t12\tMean_RMSLE_Train:\t852.0940067363838\tMean_RMSLE_Valid:\t1045.8867182231145\n",
      "With max_depth:\t13\tMean_RMSLE_Train:\t829.2252168195558\tMean_RMSLE_Valid:\t1047.8287886317298\n",
      "With max_depth:\t14\tMean_RMSLE_Train:\t809.6010557755205\tMean_RMSLE_Valid:\t1049.430111871719\n",
      "With max_depth:\t15\tMean_RMSLE_Train:\t793.5550207650336\tMean_RMSLE_Valid:\t1051.127730789843\n",
      "With max_depth:\t16\tMean_RMSLE_Train:\t780.8116793159564\tMean_RMSLE_Valid:\t1052.5570756000454\n",
      "With max_depth:\t17\tMean_RMSLE_Train:\t771.1505651451469\tMean_RMSLE_Valid:\t1053.346708449501\n",
      "With max_depth:\t18\tMean_RMSLE_Train:\t764.2398646491878\tMean_RMSLE_Valid:\t1053.9419920448563\n",
      "With max_depth:\t19\tMean_RMSLE_Train:\t759.4679611089891\tMean_RMSLE_Valid:\t1054.3892016347793\n",
      "With max_depth:\t20\tMean_RMSLE_Train:\t756.3667579132077\tMean_RMSLE_Valid:\t1054.6826132649226\n",
      "With max_depth:\t21\tMean_RMSLE_Train:\t754.3480202929811\tMean_RMSLE_Valid:\t1054.8638993274224\n",
      "With max_depth:\t22\tMean_RMSLE_Train:\t753.1107665578197\tMean_RMSLE_Valid:\t1055.0794302412028\n",
      "With max_depth:\t23\tMean_RMSLE_Train:\t752.3398296304765\tMean_RMSLE_Valid:\t1055.0900100768206\n",
      "With max_depth:\t24\tMean_RMSLE_Train:\t751.8925190539669\tMean_RMSLE_Valid:\t1055.097401207444\n",
      "With max_depth:\t25\tMean_RMSLE_Train:\t751.6341362613118\tMean_RMSLE_Valid:\t1055.110910711776\n",
      "With max_depth:\t26\tMean_RMSLE_Train:\t751.4916700122814\tMean_RMSLE_Valid:\t1055.1524289568333\n",
      "With max_depth:\t27\tMean_RMSLE_Train:\t751.4248982242765\tMean_RMSLE_Valid:\t1055.142195374043\n",
      "With max_depth:\t28\tMean_RMSLE_Train:\t751.3881063779834\tMean_RMSLE_Valid:\t1055.1385741548243\n",
      "With max_depth:\t29\tMean_RMSLE_Train:\t751.3743951050944\tMean_RMSLE_Valid:\t1055.1316236655825\n"
     ]
    }
   ],
   "source": [
    "depth_results = depth_score(scaled_df, min_r=1, max_r=30)"
   ]
  },
  {
   "cell_type": "code",
   "execution_count": 18,
   "id": "c1ec18a1",
   "metadata": {},
   "outputs": [
    {
     "data": {
      "image/png": "[encoded data removed]",
      "text/plain": [
       "<Figure size 1000x300 with 1 Axes>"
      ]
     },
     "metadata": {},
     "output_type": "display_data"
    }
   ],
   "source": [
    "plt.figure(figsize= (10,3), dpi= 100)\n",
    "sns.lineplot(x= depth_results['max_depth'], y= depth_results['train'], color = 'orange', marker= 'o', label= 'Train')\n",
    "sns.lineplot(x= depth_results['max_depth'], y= depth_results['valid'], color = 'red', marker= 'o', label= 'Valid')\n",
    "plt.xlabel('max_depth')\n",
    "plt.ylabel('RMSE')\n",
    "plt.legend()\n",
    "plt.show()"
   ]
  },
  {
   "cell_type": "markdown",
   "id": "1118d968",
   "metadata": {},
   "source": [
    "At **max_depth = 6** aldation RMSE **(1033.00)** is lowest. after this point the models is overfitting on training data.\n",
    "\n",
    "### 3. min_samples_leaf"
   ]
  },
  {
   "cell_type": "code",
   "execution_count": 4,
   "id": "3ba6a65e",
   "metadata": {},
   "outputs": [],
   "source": [
    "def min_leaf_score(data, min_r=1, max_r=10):\n",
    "    \n",
    "    X = data.drop(columns = 'Item_Outlet_Sales', axis= 1)\n",
    "    Y = data['Item_Outlet_Sales']\n",
    "    \n",
    "    KF = KFold(n_splits= 5, shuffle= True, random_state= 0)\n",
    "    \n",
    "    results= []\n",
    "    \n",
    "    for leaf in tqdm_notebook(range(min_r, max_r, 1), desc=\"Processing\", leave=True):\n",
    "        x = {}\n",
    "        train_score = []\n",
    "        val_score = []\n",
    "        \n",
    "        for i, (train_index, val_index) in enumerate(KF.split(X, Y)):\n",
    "            xtr, xval = X.iloc[train_index], X.iloc[val_index]\n",
    "            ytr, yval = Y.iloc[train_index], Y.iloc[val_index]\n",
    "        \n",
    "            model= RandomForestRegressor(random_state= 0,\n",
    "                                     n_estimators= 260,\n",
    "                                     max_depth= 6,\n",
    "                                     min_samples_split= 5,\n",
    "                                     min_samples_leaf= leaf)\n",
    "    \n",
    "            model.fit(xtr, ytr)\n",
    "\n",
    "            train_preds = model.predict(xtr)\n",
    "            val_preds = model.predict(xval)\n",
    "\n",
    "            train_rmse = np.sqrt(mse(ytr, train_preds))\n",
    "            val_rmse = np.sqrt(mse(yval, val_preds))\n",
    "\n",
    "            train_score.append(train_rmse)\n",
    "            val_score.append(val_rmse)\n",
    "            \n",
    "            \n",
    "        mean_score_train = np.mean(train_score)\n",
    "        mean_score_valid = np.mean(val_score)\n",
    "\n",
    "        print('With min_samples_leaf:\\t' + str(leaf) + '\\tMean_RMSLE_Train:\\t' + str(mean_score_train) + '\\tMean_RMSLE_Valid:\\t' + str(mean_score_valid))\n",
    "                 \n",
    "        x['min_leaf'] = leaf\n",
    "        x['train'] = mean_score_train\n",
    "        x['valid'] = mean_score_valid\n",
    "    \n",
    "        results.append(x)\n",
    "        \n",
    "    return pd.DataFrame(results)"
   ]
  },
  {
   "cell_type": "code",
   "execution_count": 5,
   "id": "00dfb719",
   "metadata": {},
   "outputs": [
    {
     "data": {
      "application/vnd.jupyter.widget-view+json": {
       "model_id": "23c7090b1e364cdc90a7055ee465526b",
       "version_major": 2,
       "version_minor": 0
      },
      "text/plain": [
       "Processing:   0%|          | 0/29 [00:00<?, ?it/s]"
      ]
     },
     "metadata": {},
     "output_type": "display_data"
    },
    {
     "name": "stdout",
     "output_type": "stream",
     "text": [
      "With min_samples_leaf:\t1\tMean_RMSLE_Train:\t1001.2037188838107\tMean_RMSLE_Valid:\t1033.5680320399401\n",
      "With min_samples_leaf:\t2\tMean_RMSLE_Train:\t1001.3479208412773\tMean_RMSLE_Valid:\t1033.4411003923774\n",
      "With min_samples_leaf:\t3\tMean_RMSLE_Train:\t1001.6211400364485\tMean_RMSLE_Valid:\t1033.2984170612374\n",
      "With min_samples_leaf:\t4\tMean_RMSLE_Train:\t1002.0085107417821\tMean_RMSLE_Valid:\t1033.2149477393523\n",
      "With min_samples_leaf:\t5\tMean_RMSLE_Train:\t1002.3486123711443\tMean_RMSLE_Valid:\t1033.0066653043682\n",
      "With min_samples_leaf:\t6\tMean_RMSLE_Train:\t1002.7431138281515\tMean_RMSLE_Valid:\t1032.8459841028598\n",
      "With min_samples_leaf:\t7\tMean_RMSLE_Train:\t1003.1237557255924\tMean_RMSLE_Valid:\t1032.6978948168482\n",
      "With min_samples_leaf:\t8\tMean_RMSLE_Train:\t1003.5030080119208\tMean_RMSLE_Valid:\t1032.5688196627943\n",
      "With min_samples_leaf:\t9\tMean_RMSLE_Train:\t1003.8512923111041\tMean_RMSLE_Valid:\t1032.5465398365516\n",
      "With min_samples_leaf:\t10\tMean_RMSLE_Train:\t1004.2465381851432\tMean_RMSLE_Valid:\t1032.5966323635914\n",
      "With min_samples_leaf:\t11\tMean_RMSLE_Train:\t1004.6709576054066\tMean_RMSLE_Valid:\t1032.5299222964497\n",
      "With min_samples_leaf:\t12\tMean_RMSLE_Train:\t1005.0701518379065\tMean_RMSLE_Valid:\t1032.4928736543654\n",
      "With min_samples_leaf:\t13\tMean_RMSLE_Train:\t1005.4737788426808\tMean_RMSLE_Valid:\t1032.4912568547443\n",
      "With min_samples_leaf:\t14\tMean_RMSLE_Train:\t1005.8387688101608\tMean_RMSLE_Valid:\t1032.5298872638773\n",
      "With min_samples_leaf:\t15\tMean_RMSLE_Train:\t1006.2441455931619\tMean_RMSLE_Valid:\t1032.4945040288972\n",
      "With min_samples_leaf:\t16\tMean_RMSLE_Train:\t1006.6148555857108\tMean_RMSLE_Valid:\t1032.5144686077979\n",
      "With min_samples_leaf:\t17\tMean_RMSLE_Train:\t1006.9977274741223\tMean_RMSLE_Valid:\t1032.4551918588538\n",
      "With min_samples_leaf:\t18\tMean_RMSLE_Train:\t1007.3539954274747\tMean_RMSLE_Valid:\t1032.4204759600975\n",
      "With min_samples_leaf:\t19\tMean_RMSLE_Train:\t1007.6540331453107\tMean_RMSLE_Valid:\t1032.373710163673\n",
      "With min_samples_leaf:\t20\tMean_RMSLE_Train:\t1007.9255117649561\tMean_RMSLE_Valid:\t1032.3721632613144\n",
      "With min_samples_leaf:\t21\tMean_RMSLE_Train:\t1008.1892528378273\tMean_RMSLE_Valid:\t1032.2589116034828\n",
      "With min_samples_leaf:\t22\tMean_RMSLE_Train:\t1008.4329506806704\tMean_RMSLE_Valid:\t1032.2005565620407\n",
      "With min_samples_leaf:\t23\tMean_RMSLE_Train:\t1008.6528719281098\tMean_RMSLE_Valid:\t1032.178988288089\n",
      "With min_samples_leaf:\t24\tMean_RMSLE_Train:\t1008.8928896413994\tMean_RMSLE_Valid:\t1032.1397615733613\n",
      "With min_samples_leaf:\t25\tMean_RMSLE_Train:\t1009.1200333503579\tMean_RMSLE_Valid:\t1032.1777432167323\n",
      "With min_samples_leaf:\t26\tMean_RMSLE_Train:\t1009.3669680308209\tMean_RMSLE_Valid:\t1032.1449243319298\n",
      "With min_samples_leaf:\t27\tMean_RMSLE_Train:\t1009.5656396322753\tMean_RMSLE_Valid:\t1032.1449820558018\n",
      "With min_samples_leaf:\t28\tMean_RMSLE_Train:\t1009.7868995322699\tMean_RMSLE_Valid:\t1032.1180731850766\n",
      "With min_samples_leaf:\t29\tMean_RMSLE_Train:\t1009.9936963288226\tMean_RMSLE_Valid:\t1032.1071295807149\n"
     ]
    }
   ],
   "source": [
    "leaf_results = min_leaf_score(scaled_df, min_r= 1, max_r= 30)"
   ]
  },
  {
   "cell_type": "code",
   "execution_count": 7,
   "id": "65daf20f",
   "metadata": {},
   "outputs": [
    {
     "data": {
      "image/png": "[encoded data removed]",
      "text/plain": [
       "<Figure size 1000x300 with 1 Axes>"
      ]
     },
     "metadata": {},
     "output_type": "display_data"
    }
   ],
   "source": [
    "plt.figure(figsize= (10,3), dpi= 100)\n",
    "#sns.lineplot(x= leaf_results['min_leaf'], y= leaf_results['train'], color = 'orange', marker= 'o', label= 'Train')\n",
    "sns.lineplot(x= leaf_results['min_leaf'], y= leaf_results['valid'], color = 'red', marker= 'o', label= 'Valid')\n",
    "plt.xlabel('min_samples_leaf')\n",
    "plt.ylabel('RMSE')\n",
    "plt.legend()\n",
    "plt.show()"
   ]
  },
  {
   "cell_type": "markdown",
   "id": "65847dee",
   "metadata": {},
   "source": [
    "There's no significant change in the RMSE because of this parameter so we will fix the **min_samples_leaf = 24** at valid **RMSE = 1032.13**\n",
    "\n",
    "### 4. min_samples_split"
   ]
  },
  {
   "cell_type": "code",
   "execution_count": 11,
   "id": "c8942ff0",
   "metadata": {},
   "outputs": [],
   "source": [
    "def min_split_score(data, min_r=1, max_r=10):\n",
    "    \n",
    "    X = data.drop(columns = 'Item_Outlet_Sales', axis= 1)\n",
    "    Y = data['Item_Outlet_Sales']\n",
    "    \n",
    "    KF = KFold(n_splits= 5, shuffle= True, random_state= 0)\n",
    "    \n",
    "    results= []\n",
    "    \n",
    "    for splits in tqdm_notebook(range(min_r, max_r, 1), desc=\"Processing\", leave=True):\n",
    "        x = {}\n",
    "        train_score = []\n",
    "        val_score = []\n",
    "        \n",
    "        for i, (train_index, val_index) in enumerate(KF.split(X, Y)):\n",
    "            xtr, xval = X.iloc[train_index], X.iloc[val_index]\n",
    "            ytr, yval = Y.iloc[train_index], Y.iloc[val_index]\n",
    "        \n",
    "            model= RandomForestRegressor(random_state= 0,\n",
    "                                     n_estimators= 260,\n",
    "                                     max_depth= 6,\n",
    "                                     min_samples_split= splits,\n",
    "                                     min_samples_leaf= 24)\n",
    "    \n",
    "            model.fit(xtr, ytr)\n",
    "\n",
    "            train_preds = model.predict(xtr)\n",
    "            val_preds = model.predict(xval)\n",
    "\n",
    "            train_rmse = np.sqrt(mse(ytr, train_preds))\n",
    "            val_rmse = np.sqrt(mse(yval, val_preds))\n",
    "\n",
    "            train_score.append(train_rmse)\n",
    "            val_score.append(val_rmse)\n",
    "            \n",
    "            \n",
    "        mean_score_train = np.mean(train_score)\n",
    "        mean_score_valid = np.mean(val_score)\n",
    "\n",
    "        print('With min_samples_split:\\t' + str(splits) + '\\tMean_RMSLE_Train:\\t' + str(mean_score_train) + '\\tMean_RMSLE_Valid:\\t' + str(mean_score_valid))\n",
    "                 \n",
    "        x['min_splits'] = splits\n",
    "        x['train'] = mean_score_train\n",
    "        x['valid'] = mean_score_valid\n",
    "    \n",
    "        results.append(x)\n",
    "        \n",
    "    return pd.DataFrame(results)"
   ]
  },
  {
   "cell_type": "code",
   "execution_count": 12,
   "id": "aeb2338a",
   "metadata": {},
   "outputs": [
    {
     "data": {
      "application/vnd.jupyter.widget-view+json": {
       "model_id": "fecb46cff9b140b59e44ffb1f28d3f03",
       "version_major": 2,
       "version_minor": 0
      },
      "text/plain": [
       "Processing:   0%|          | 0/29 [00:00<?, ?it/s]"
      ]
     },
     "metadata": {},
     "output_type": "display_data"
    },
    {
     "name": "stdout",
     "output_type": "stream",
     "text": [
      "With min_samples_split:\t1\tMean_RMSLE_Train:\t1008.8928896413994\tMean_RMSLE_Valid:\t1032.1397615733613\n",
      "With min_samples_split:\t2\tMean_RMSLE_Train:\t1008.8928896413994\tMean_RMSLE_Valid:\t1032.1397615733613\n",
      "With min_samples_split:\t3\tMean_RMSLE_Train:\t1008.8928896413994\tMean_RMSLE_Valid:\t1032.1397615733613\n",
      "With min_samples_split:\t4\tMean_RMSLE_Train:\t1008.8928896413994\tMean_RMSLE_Valid:\t1032.1397615733613\n",
      "With min_samples_split:\t5\tMean_RMSLE_Train:\t1008.8928896413994\tMean_RMSLE_Valid:\t1032.1397615733613\n",
      "With min_samples_split:\t6\tMean_RMSLE_Train:\t1008.8928896413994\tMean_RMSLE_Valid:\t1032.1397615733613\n",
      "With min_samples_split:\t7\tMean_RMSLE_Train:\t1008.8928896413994\tMean_RMSLE_Valid:\t1032.1397615733613\n",
      "With min_samples_split:\t8\tMean_RMSLE_Train:\t1008.8928896413994\tMean_RMSLE_Valid:\t1032.1397615733613\n",
      "With min_samples_split:\t9\tMean_RMSLE_Train:\t1008.8928896413994\tMean_RMSLE_Valid:\t1032.1397615733613\n",
      "With min_samples_split:\t10\tMean_RMSLE_Train:\t1008.8928896413994\tMean_RMSLE_Valid:\t1032.1397615733613\n",
      "With min_samples_split:\t11\tMean_RMSLE_Train:\t1008.8928896413994\tMean_RMSLE_Valid:\t1032.1397615733613\n",
      "With min_samples_split:\t12\tMean_RMSLE_Train:\t1008.8928896413994\tMean_RMSLE_Valid:\t1032.1397615733613\n",
      "With min_samples_split:\t13\tMean_RMSLE_Train:\t1008.8928896413994\tMean_RMSLE_Valid:\t1032.1397615733613\n",
      "With min_samples_split:\t14\tMean_RMSLE_Train:\t1008.8928896413994\tMean_RMSLE_Valid:\t1032.1397615733613\n",
      "With min_samples_split:\t15\tMean_RMSLE_Train:\t1008.8928896413994\tMean_RMSLE_Valid:\t1032.1397615733613\n",
      "With min_samples_split:\t16\tMean_RMSLE_Train:\t1008.8928896413994\tMean_RMSLE_Valid:\t1032.1397615733613\n",
      "With min_samples_split:\t17\tMean_RMSLE_Train:\t1008.8928896413994\tMean_RMSLE_Valid:\t1032.1397615733613\n",
      "With min_samples_split:\t18\tMean_RMSLE_Train:\t1008.8928896413994\tMean_RMSLE_Valid:\t1032.1397615733613\n",
      "With min_samples_split:\t19\tMean_RMSLE_Train:\t1008.8928896413994\tMean_RMSLE_Valid:\t1032.1397615733613\n",
      "With min_samples_split:\t20\tMean_RMSLE_Train:\t1008.8928896413994\tMean_RMSLE_Valid:\t1032.1397615733613\n",
      "With min_samples_split:\t21\tMean_RMSLE_Train:\t1008.8928896413994\tMean_RMSLE_Valid:\t1032.1397615733613\n",
      "With min_samples_split:\t22\tMean_RMSLE_Train:\t1008.8928896413994\tMean_RMSLE_Valid:\t1032.1397615733613\n",
      "With min_samples_split:\t23\tMean_RMSLE_Train:\t1008.8928896413994\tMean_RMSLE_Valid:\t1032.1397615733613\n",
      "With min_samples_split:\t24\tMean_RMSLE_Train:\t1008.8928896413994\tMean_RMSLE_Valid:\t1032.1397615733613\n",
      "With min_samples_split:\t25\tMean_RMSLE_Train:\t1008.8928896413994\tMean_RMSLE_Valid:\t1032.1397615733613\n",
      "With min_samples_split:\t26\tMean_RMSLE_Train:\t1008.8928896413994\tMean_RMSLE_Valid:\t1032.1397615733613\n",
      "With min_samples_split:\t27\tMean_RMSLE_Train:\t1008.8928896413994\tMean_RMSLE_Valid:\t1032.1397615733613\n",
      "With min_samples_split:\t28\tMean_RMSLE_Train:\t1008.8928896413994\tMean_RMSLE_Valid:\t1032.1397615733613\n",
      "With min_samples_split:\t29\tMean_RMSLE_Train:\t1008.8928896413994\tMean_RMSLE_Valid:\t1032.1397615733613\n"
     ]
    }
   ],
   "source": [
    "split_results = min_split_score(scaled_df, min_r= 1, max_r= 30)"
   ]
  },
  {
   "cell_type": "code",
   "execution_count": 13,
   "id": "ed13c74e",
   "metadata": {},
   "outputs": [
    {
     "data": {
      "image/png": "[encoded data removed]",
      "text/plain": [
       "<Figure size 1000x300 with 1 Axes>"
      ]
     },
     "metadata": {},
     "output_type": "display_data"
    }
   ],
   "source": [
    "plt.figure(figsize= (10,3), dpi= 100)\n",
    "sns.lineplot(x= split_results['min_splits'], y= split_results['train'], color = 'orange', marker= 'o', label= 'Train')\n",
    "sns.lineplot(x= split_results['min_splits'], y= split_results['valid'], color = 'red', marker= 'o', label= 'Valid')\n",
    "plt.xlabel('min_samples_split')\n",
    "plt.ylabel('RMSE')\n",
    "plt.legend()\n",
    "plt.show()"
   ]
  },
  {
   "cell_type": "markdown",
   "id": "92ad38ac",
   "metadata": {},
   "source": [
    "This hyperparameter is not affecting the RMSLE score at all. So we will keep it default value **min_samples_split = 5**.\n",
    "\n",
    "here are the final hyperparameters for the tuned model:\n",
    "* **n_estimators :** 260\n",
    "* **max_depth :** 6\n",
    "* **min_samples_split :** 5\n",
    "* **min_samples_leaf :** 24\n"
   ]
  },
  {
   "cell_type": "code",
   "execution_count": null,
   "id": "b20a7d64",
   "metadata": {},
   "outputs": [],
   "source": []
  },
  {
   "cell_type": "code",
   "execution_count": null,
   "id": "b0f63fd2",
   "metadata": {},
   "outputs": [],
   "source": []
  },
  {
   "cell_type": "code",
   "execution_count": null,
   "id": "0b70bd38",
   "metadata": {},
   "outputs": [],
   "source": []
  }
 ],
 "metadata": {
  "kernelspec": {
   "display_name": "Python 3 (ipykernel)",
   "language": "python",
   "name": "python3"
  },
  "language_info": {
   "codemirror_mode": {
    "name": "ipython",
    "version": 3
   },
   "file_extension": ".py",
   "mimetype": "text/x-python",
   "name": "python",
   "nbconvert_exporter": "python",
   "pygments_lexer": "ipython3",
   "version": "3.10.9"
  }
 },
 "nbformat": 4,
 "nbformat_minor": 5
}
