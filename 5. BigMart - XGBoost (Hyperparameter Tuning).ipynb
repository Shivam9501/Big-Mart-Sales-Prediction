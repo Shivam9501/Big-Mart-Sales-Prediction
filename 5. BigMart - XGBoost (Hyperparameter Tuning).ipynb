{
 "cells": [
  {
   "cell_type": "markdown",
   "id": "5defd71d",
   "metadata": {},
   "source": [
    "# BigMart - XGBoost (Hyperparameter Tuning)"
   ]
  },
  {
   "cell_type": "code",
   "execution_count": 1,
   "id": "515ff183",
   "metadata": {},
   "outputs": [],
   "source": [
    "import numpy as np\n",
    "import pandas as pd\n",
    "import matplotlib.pyplot as plt\n",
    "import seaborn as sns\n",
    "import warnings\n",
    "from tqdm import tqdm, tqdm_notebook\n",
    "\n",
    "from sklearn.model_selection import KFold, train_test_split\n",
    "from sklearn.metrics import mean_squared_error as mse\n",
    "from sklearn.preprocessing import StandardScaler\n",
    "\n",
    "from sklearn.linear_model import LinearRegression\n",
    "from sklearn.tree import DecisionTreeRegressor\n",
    "from sklearn.ensemble import RandomForestRegressor\n",
    "from xgboost import XGBRegressor\n",
    "\n",
    "warnings.filterwarnings('ignore')\n",
    "%matplotlib inline"
   ]
  },
  {
   "cell_type": "code",
   "execution_count": 2,
   "id": "820457f5",
   "metadata": {},
   "outputs": [],
   "source": [
    "df = pd.read_csv('final_train.csv')"
   ]
  },
  {
   "cell_type": "code",
   "execution_count": 3,
   "id": "2a5420b1",
   "metadata": {},
   "outputs": [
    {
     "data": {
      "text/html": [
       "<div>\n",
       "<style scoped>\n",
       "    .dataframe tbody tr th:only-of-type {\n",
       "        vertical-align: middle;\n",
       "    }\n",
       "\n",
       "    .dataframe tbody tr th {\n",
       "        vertical-align: top;\n",
       "    }\n",
       "\n",
       "    .dataframe thead th {\n",
       "        text-align: right;\n",
       "    }\n",
       "</style>\n",
       "<table border=\"1\" class=\"dataframe\">\n",
       "  <thead>\n",
       "    <tr style=\"text-align: right;\">\n",
       "      <th></th>\n",
       "      <th>Item_Fat_Content</th>\n",
       "      <th>Item_Visibility</th>\n",
       "      <th>Item_MRP</th>\n",
       "      <th>Outlet_Establishment_Year</th>\n",
       "      <th>Outlet_Size</th>\n",
       "      <th>Outlet_Location_Type</th>\n",
       "      <th>Item_Weight_y</th>\n",
       "      <th>Item_Type_Baking Goods</th>\n",
       "      <th>Item_Type_Breads</th>\n",
       "      <th>Item_Type_Breakfast</th>\n",
       "      <th>...</th>\n",
       "      <th>Outlet_Identifier_OUT027</th>\n",
       "      <th>Outlet_Identifier_OUT035</th>\n",
       "      <th>Outlet_Identifier_OUT045</th>\n",
       "      <th>Outlet_Identifier_OUT046</th>\n",
       "      <th>Outlet_Identifier_OUT049</th>\n",
       "      <th>Outlet_Type_Grocery Store</th>\n",
       "      <th>Outlet_Type_Supermarket Type1</th>\n",
       "      <th>Outlet_Type_Supermarket Type2</th>\n",
       "      <th>Outlet_Type_Supermarket Type3</th>\n",
       "      <th>Item_Outlet_Sales</th>\n",
       "    </tr>\n",
       "  </thead>\n",
       "  <tbody>\n",
       "    <tr>\n",
       "      <th>0</th>\n",
       "      <td>-0.737887</td>\n",
       "      <td>-0.970891</td>\n",
       "      <td>1.763875</td>\n",
       "      <td>0.133879</td>\n",
       "      <td>0.285343</td>\n",
       "      <td>-1.365170</td>\n",
       "      <td>-0.768435</td>\n",
       "      <td>-0.28777</td>\n",
       "      <td>-0.174363</td>\n",
       "      <td>-0.114158</td>\n",
       "      <td>...</td>\n",
       "      <td>-0.344522</td>\n",
       "      <td>-0.350919</td>\n",
       "      <td>-0.35007</td>\n",
       "      <td>-0.350495</td>\n",
       "      <td>2.847938</td>\n",
       "      <td>-0.382818</td>\n",
       "      <td>0.723256</td>\n",
       "      <td>-0.350707</td>\n",
       "      <td>-0.344522</td>\n",
       "      <td>3735.1380</td>\n",
       "    </tr>\n",
       "    <tr>\n",
       "      <th>1</th>\n",
       "      <td>1.355222</td>\n",
       "      <td>-0.908348</td>\n",
       "      <td>-1.486518</td>\n",
       "      <td>1.331598</td>\n",
       "      <td>0.285343</td>\n",
       "      <td>1.095912</td>\n",
       "      <td>-1.496059</td>\n",
       "      <td>-0.28777</td>\n",
       "      <td>-0.174363</td>\n",
       "      <td>-0.114158</td>\n",
       "      <td>...</td>\n",
       "      <td>-0.344522</td>\n",
       "      <td>-0.350919</td>\n",
       "      <td>-0.35007</td>\n",
       "      <td>-0.350495</td>\n",
       "      <td>-0.351131</td>\n",
       "      <td>-0.382818</td>\n",
       "      <td>-1.382637</td>\n",
       "      <td>2.851384</td>\n",
       "      <td>-0.344522</td>\n",
       "      <td>443.4228</td>\n",
       "    </tr>\n",
       "  </tbody>\n",
       "</table>\n",
       "<p>2 rows × 38 columns</p>\n",
       "</div>"
      ],
      "text/plain": [
       "   Item_Fat_Content  Item_Visibility  Item_MRP  Outlet_Establishment_Year  \\\n",
       "0         -0.737887        -0.970891  1.763875                   0.133879   \n",
       "1          1.355222        -0.908348 -1.486518                   1.331598   \n",
       "\n",
       "   Outlet_Size  Outlet_Location_Type  Item_Weight_y  Item_Type_Baking Goods  \\\n",
       "0     0.285343             -1.365170      -0.768435                -0.28777   \n",
       "1     0.285343              1.095912      -1.496059                -0.28777   \n",
       "\n",
       "   Item_Type_Breads  Item_Type_Breakfast  ...  Outlet_Identifier_OUT027  \\\n",
       "0         -0.174363            -0.114158  ...                 -0.344522   \n",
       "1         -0.174363            -0.114158  ...                 -0.344522   \n",
       "\n",
       "   Outlet_Identifier_OUT035  Outlet_Identifier_OUT045  \\\n",
       "0                 -0.350919                  -0.35007   \n",
       "1                 -0.350919                  -0.35007   \n",
       "\n",
       "   Outlet_Identifier_OUT046  Outlet_Identifier_OUT049  \\\n",
       "0                 -0.350495                  2.847938   \n",
       "1                 -0.350495                 -0.351131   \n",
       "\n",
       "   Outlet_Type_Grocery Store  Outlet_Type_Supermarket Type1  \\\n",
       "0                  -0.382818                       0.723256   \n",
       "1                  -0.382818                      -1.382637   \n",
       "\n",
       "   Outlet_Type_Supermarket Type2  Outlet_Type_Supermarket Type3  \\\n",
       "0                      -0.350707                      -0.344522   \n",
       "1                       2.851384                      -0.344522   \n",
       "\n",
       "   Item_Outlet_Sales  \n",
       "0          3735.1380  \n",
       "1           443.4228  \n",
       "\n",
       "[2 rows x 38 columns]"
      ]
     },
     "execution_count": 3,
     "metadata": {},
     "output_type": "execute_result"
    }
   ],
   "source": [
    "# LEt's seggregate the target and independent variables first\n",
    "X = df.drop(columns= 'Item_Outlet_Sales', axis=1)\n",
    "Y = df['Item_Outlet_Sales']\n",
    "\n",
    "# Let's scale the independent variables and store them in a dataframe\n",
    "ss = StandardScaler()\n",
    "X_scaled = ss.fit_transform(X)\n",
    "x = pd.DataFrame(X_scaled, columns= X.columns)\n",
    "\n",
    "# merge the independent and target variables to create a new dataframe with scaled features\n",
    "scaled_df= pd.concat([x,Y], axis=1)\n",
    "scaled_df.head(2)"
   ]
  },
  {
   "cell_type": "markdown",
   "id": "cf751d58",
   "metadata": {},
   "source": [
    "We will tune the following hyperparamters in the XGBRegressor:\n",
    "\n",
    "* n_estimators\n",
    "* max_depth\n",
    "* learning_rate\n",
    "* subsample\n",
    "* min_child_weight\n",
    "* gamma\n",
    "\n",
    "### 1. n_estimators"
   ]
  },
  {
   "cell_type": "code",
   "execution_count": 17,
   "id": "49ff6e4b",
   "metadata": {},
   "outputs": [],
   "source": [
    "def estimator_score(data, min_r=1, max_r=10):\n",
    "    \n",
    "    X = data.drop(columns = 'Item_Outlet_Sales', axis= 1)\n",
    "    Y = data['Item_Outlet_Sales']\n",
    "    \n",
    "    KF = KFold(n_splits= 5, shuffle= True, random_state= 0)\n",
    "    \n",
    "    results= []\n",
    "    \n",
    "    for n_est in tqdm_notebook(range(min_r, max_r, 20), desc=\"Processing\", leave=True):\n",
    "        x = {}\n",
    "        train_score = []\n",
    "        val_score = []\n",
    "        \n",
    "        for i, (train_index, val_index) in enumerate(KF.split(X, Y)):\n",
    "            xtr, xval = X.iloc[train_index], X.iloc[val_index]\n",
    "            ytr, yval = Y.iloc[train_index], Y.iloc[val_index]\n",
    "        \n",
    "            model = XGBRegressor(n_estimators = n_est,\n",
    "                                    learning_rate = 0.01,\n",
    "                                    n_jobs = 4,\n",
    "                                    random_state = 0,\n",
    "                                    objective = 'reg:squarederror')\n",
    "            \n",
    "            model.fit(xtr, ytr)\n",
    "\n",
    "            train_preds = model.predict(xtr)\n",
    "            val_preds = model.predict(xval)\n",
    "\n",
    "            train_rmse = np.sqrt(mse(ytr, train_preds))\n",
    "            val_rmse = np.sqrt(mse(yval, val_preds))\n",
    "\n",
    "            train_score.append(train_rmse)\n",
    "            val_score.append(val_rmse)\n",
    "            \n",
    "            \n",
    "        mean_score_train = np.mean(train_score)\n",
    "        mean_score_valid = np.mean(val_score)\n",
    "\n",
    "        print('With n_estimators:\\t' + str(n_est) + '\\tMean_RMSLE_Train:\\t' + str(mean_score_train) + '\\tMean_RMSLE_Valid:\\t' + str(mean_score_valid))\n",
    "                 \n",
    "        x['estimators'] = n_est\n",
    "        x['train'] = mean_score_train\n",
    "        x['valid'] = mean_score_valid\n",
    "    \n",
    "        results.append(x)\n",
    "        \n",
    "    return pd.DataFrame(results)"
   ]
  },
  {
   "cell_type": "code",
   "execution_count": 19,
   "id": "0e1c3ad3",
   "metadata": {},
   "outputs": [
    {
     "data": {
      "application/vnd.jupyter.widget-view+json": {
       "model_id": "ead1ccc2487a4e30af77685967e669a1",
       "version_major": 2,
       "version_minor": 0
      },
      "text/plain": [
       "Processing:   0%|          | 0/39 [00:00<?, ?it/s]"
      ]
     },
     "metadata": {},
     "output_type": "display_data"
    },
    {
     "name": "stdout",
     "output_type": "stream",
     "text": [
      "With n_estimators:\t20\tMean_RMSLE_Train:\t2274.6592854451656\tMean_RMSLE_Valid:\t2277.708227738834\n",
      "With n_estimators:\t40\tMean_RMSLE_Train:\t1950.7362394116037\tMean_RMSLE_Valid:\t1957.5117063276393\n",
      "With n_estimators:\t60\tMean_RMSLE_Train:\t1698.629176377808\tMean_RMSLE_Valid:\t1709.5555516050904\n",
      "With n_estimators:\t80\tMean_RMSLE_Train:\t1505.285309856376\tMean_RMSLE_Valid:\t1521.1422455157012\n",
      "With n_estimators:\t100\tMean_RMSLE_Train:\t1359.3586755794045\tMean_RMSLE_Valid:\t1379.962850096104\n",
      "With n_estimators:\t120\tMean_RMSLE_Train:\t1250.9864346367026\tMean_RMSLE_Valid:\t1276.5125518333036\n",
      "With n_estimators:\t140\tMean_RMSLE_Train:\t1171.710041890736\tMean_RMSLE_Valid:\t1202.308123944049\n",
      "With n_estimators:\t160\tMean_RMSLE_Train:\t1114.414745017765\tMean_RMSLE_Valid:\t1149.905551525284\n",
      "With n_estimators:\t180\tMean_RMSLE_Train:\t1073.3086429089713\tMean_RMSLE_Valid:\t1113.3275700849836\n",
      "With n_estimators:\t200\tMean_RMSLE_Train:\t1043.677432380588\tMean_RMSLE_Valid:\t1088.3814866279695\n",
      "With n_estimators:\t220\tMean_RMSLE_Train:\t1022.1981071421778\tMean_RMSLE_Valid:\t1071.5222273989377\n",
      "With n_estimators:\t240\tMean_RMSLE_Train:\t1006.1234424786187\tMean_RMSLE_Valid:\t1059.7604158300023\n",
      "With n_estimators:\t260\tMean_RMSLE_Train:\t994.053478773294\tMean_RMSLE_Valid:\t1051.8954638513908\n",
      "With n_estimators:\t280\tMean_RMSLE_Train:\t984.1812136007817\tMean_RMSLE_Valid:\t1046.8513842791358\n",
      "With n_estimators:\t300\tMean_RMSLE_Train:\t976.0017568774422\tMean_RMSLE_Valid:\t1043.6947551278497\n",
      "With n_estimators:\t320\tMean_RMSLE_Train:\t968.6197088384267\tMean_RMSLE_Valid:\t1041.80460881039\n",
      "With n_estimators:\t340\tMean_RMSLE_Train:\t961.5407674469973\tMean_RMSLE_Valid:\t1040.8866219180513\n",
      "With n_estimators:\t360\tMean_RMSLE_Train:\t955.3779682765029\tMean_RMSLE_Valid:\t1040.2300109168445\n",
      "With n_estimators:\t380\tMean_RMSLE_Train:\t949.6962074799349\tMean_RMSLE_Valid:\t1040.1029127571633\n",
      "With n_estimators:\t400\tMean_RMSLE_Train:\t944.4282533479491\tMean_RMSLE_Valid:\t1040.0484683275631\n",
      "With n_estimators:\t420\tMean_RMSLE_Train:\t939.7041629808467\tMean_RMSLE_Valid:\t1040.2809446961508\n",
      "With n_estimators:\t440\tMean_RMSLE_Train:\t935.3111813628408\tMean_RMSLE_Valid:\t1040.4517340004586\n",
      "With n_estimators:\t460\tMean_RMSLE_Train:\t931.3448478030894\tMean_RMSLE_Valid:\t1040.7806623788185\n",
      "With n_estimators:\t480\tMean_RMSLE_Train:\t927.5555466104936\tMean_RMSLE_Valid:\t1041.2464674474418\n",
      "With n_estimators:\t500\tMean_RMSLE_Train:\t924.1535519413701\tMean_RMSLE_Valid:\t1041.8913282425337\n",
      "With n_estimators:\t520\tMean_RMSLE_Train:\t920.7756579564284\tMean_RMSLE_Valid:\t1042.555207308052\n",
      "With n_estimators:\t540\tMean_RMSLE_Train:\t917.6356109943347\tMean_RMSLE_Valid:\t1043.061709901948\n",
      "With n_estimators:\t560\tMean_RMSLE_Train:\t914.3759030826825\tMean_RMSLE_Valid:\t1043.5332392391756\n",
      "With n_estimators:\t580\tMean_RMSLE_Train:\t910.96669019559\tMean_RMSLE_Valid:\t1043.991174654409\n",
      "With n_estimators:\t600\tMean_RMSLE_Train:\t907.7626608226723\tMean_RMSLE_Valid:\t1044.5265373753314\n",
      "With n_estimators:\t620\tMean_RMSLE_Train:\t904.5397967156321\tMean_RMSLE_Valid:\t1045.0004818256434\n",
      "With n_estimators:\t640\tMean_RMSLE_Train:\t901.0471231996522\tMean_RMSLE_Valid:\t1045.5618671241923\n",
      "With n_estimators:\t660\tMean_RMSLE_Train:\t897.9043284899135\tMean_RMSLE_Valid:\t1046.0153773296602\n",
      "With n_estimators:\t680\tMean_RMSLE_Train:\t894.753107544622\tMean_RMSLE_Valid:\t1046.539833608489\n",
      "With n_estimators:\t700\tMean_RMSLE_Train:\t891.9335592825761\tMean_RMSLE_Valid:\t1047.024026852733\n",
      "With n_estimators:\t720\tMean_RMSLE_Train:\t889.1870002905658\tMean_RMSLE_Valid:\t1047.570266348171\n",
      "With n_estimators:\t740\tMean_RMSLE_Train:\t886.5079568643836\tMean_RMSLE_Valid:\t1047.9642189550916\n",
      "With n_estimators:\t760\tMean_RMSLE_Train:\t883.5225917731702\tMean_RMSLE_Valid:\t1048.5886310896956\n",
      "With n_estimators:\t780\tMean_RMSLE_Train:\t880.5050823099518\tMean_RMSLE_Valid:\t1049.122632503754\n"
     ]
    }
   ],
   "source": [
    "est_results = estimator_score(scaled_df, min_r= 20, max_r= 800)"
   ]
  },
  {
   "cell_type": "code",
   "execution_count": 21,
   "id": "f8595216",
   "metadata": {},
   "outputs": [
    {
     "data": {
      "image/png": "[encoded data removed]",
      "text/plain": [
       "<Figure size 1000x300 with 1 Axes>"
      ]
     },
     "metadata": {},
     "output_type": "display_data"
    }
   ],
   "source": [
    "plt.figure(figsize= (10,3), dpi= 100)\n",
    "#sns.lineplot(x= est_results['estimators'], y= est_results['train'], color = 'orange', marker= 'o', label= 'Train')\n",
    "sns.lineplot(x= est_results['estimators'], y= est_results['valid'], color = 'red', marker= 'o', label= 'Valid')\n",
    "plt.xlabel('n_estimators')\n",
    "plt.ylabel('RMSE')\n",
    "plt.legend()\n",
    "plt.show()"
   ]
  },
  {
   "cell_type": "markdown",
   "id": "b0ffd0d1",
   "metadata": {},
   "source": [
    "The **RMSE (1043.69)** is getting stable at **n_estimators = 300**\n",
    "\n",
    "### 2. max_depth"
   ]
  },
  {
   "cell_type": "code",
   "execution_count": 22,
   "id": "cea1793d",
   "metadata": {},
   "outputs": [],
   "source": [
    "def depth_score(data, min_r=1, max_r=10):\n",
    "    \n",
    "    X = data.drop(columns = 'Item_Outlet_Sales', axis= 1)\n",
    "    Y = data['Item_Outlet_Sales']\n",
    "    \n",
    "    KF = KFold(n_splits= 5, shuffle= True, random_state= 0)\n",
    "    \n",
    "    results= []\n",
    "    \n",
    "    for depth in tqdm_notebook(range(min_r, max_r, 1), desc=\"Processing\", leave=True):\n",
    "        x = {}\n",
    "        train_score = []\n",
    "        val_score = []\n",
    "        \n",
    "        for i, (train_index, val_index) in enumerate(KF.split(X, Y)):\n",
    "            xtr, xval = X.iloc[train_index], X.iloc[val_index]\n",
    "            ytr, yval = Y.iloc[train_index], Y.iloc[val_index]\n",
    "        \n",
    "            model = XGBRegressor(n_estimators = 300,\n",
    "                                 max_depth = depth,\n",
    "                                    learning_rate = 0.01,\n",
    "                                    n_jobs = 4,\n",
    "                                    random_state = 0,\n",
    "                                    objective = 'reg:squarederror')\n",
    "            \n",
    "            model.fit(xtr, ytr)\n",
    "\n",
    "            train_preds = model.predict(xtr)\n",
    "            val_preds = model.predict(xval)\n",
    "\n",
    "            train_rmse = np.sqrt(mse(ytr, train_preds))\n",
    "            val_rmse = np.sqrt(mse(yval, val_preds))\n",
    "\n",
    "            train_score.append(train_rmse)\n",
    "            val_score.append(val_rmse)\n",
    "            \n",
    "            \n",
    "        mean_score_train = np.mean(train_score)\n",
    "        mean_score_valid = np.mean(val_score)\n",
    "\n",
    "        print('With max_depth:\\t' + str(depth) + '\\tMean_RMSLE_Train:\\t' + str(mean_score_train) + '\\tMean_RMSLE_Valid:\\t' + str(mean_score_valid))\n",
    "                 \n",
    "        x['max_depth'] = depth\n",
    "        x['train'] = mean_score_train\n",
    "        x['valid'] = mean_score_valid\n",
    "    \n",
    "        results.append(x)\n",
    "        \n",
    "    return pd.DataFrame(results)"
   ]
  },
  {
   "cell_type": "code",
   "execution_count": 23,
   "id": "039d816f",
   "metadata": {},
   "outputs": [
    {
     "data": {
      "application/vnd.jupyter.widget-view+json": {
       "model_id": "32ccaf9d633b4b4fa9ac4087045cb330",
       "version_major": 2,
       "version_minor": 0
      },
      "text/plain": [
       "Processing:   0%|          | 0/29 [00:00<?, ?it/s]"
      ]
     },
     "metadata": {},
     "output_type": "display_data"
    },
    {
     "name": "stdout",
     "output_type": "stream",
     "text": [
      "With max_depth:\t1\tMean_RMSLE_Train:\t1190.189670665206\tMean_RMSLE_Valid:\t1194.4104639557797\n",
      "With max_depth:\t2\tMean_RMSLE_Train:\t1056.0303165646442\tMean_RMSLE_Valid:\t1063.2042511904408\n",
      "With max_depth:\t3\tMean_RMSLE_Train:\t1030.4515041975342\tMean_RMSLE_Valid:\t1042.2809390505752\n",
      "With max_depth:\t4\tMean_RMSLE_Train:\t1017.5896971062368\tMean_RMSLE_Valid:\t1038.5904184311034\n",
      "With max_depth:\t5\tMean_RMSLE_Train:\t1001.4753354204768\tMean_RMSLE_Valid:\t1040.1393922027553\n",
      "With max_depth:\t6\tMean_RMSLE_Train:\t976.0017568774422\tMean_RMSLE_Valid:\t1043.6947551278497\n",
      "With max_depth:\t7\tMean_RMSLE_Train:\t940.6870368652347\tMean_RMSLE_Valid:\t1049.8858072465605\n",
      "With max_depth:\t8\tMean_RMSLE_Train:\t897.9211549839371\tMean_RMSLE_Valid:\t1057.7494300818466\n",
      "With max_depth:\t9\tMean_RMSLE_Train:\t850.2294042735593\tMean_RMSLE_Valid:\t1066.1510627260254\n",
      "With max_depth:\t10\tMean_RMSLE_Train:\t797.4180337629205\tMean_RMSLE_Valid:\t1072.4599987559136\n",
      "With max_depth:\t11\tMean_RMSLE_Train:\t742.7098743817099\tMean_RMSLE_Valid:\t1081.86804275967\n",
      "With max_depth:\t12\tMean_RMSLE_Train:\t686.186891099339\tMean_RMSLE_Valid:\t1090.1867300840272\n",
      "With max_depth:\t13\tMean_RMSLE_Train:\t629.9767370732754\tMean_RMSLE_Valid:\t1100.483497000991\n",
      "With max_depth:\t14\tMean_RMSLE_Train:\t574.1131713449917\tMean_RMSLE_Valid:\t1109.4085956444742\n",
      "With max_depth:\t15\tMean_RMSLE_Train:\t526.2128647973535\tMean_RMSLE_Valid:\t1113.3729474693037\n",
      "With max_depth:\t16\tMean_RMSLE_Train:\t478.2847318800024\tMean_RMSLE_Valid:\t1120.2325207683584\n",
      "With max_depth:\t17\tMean_RMSLE_Train:\t437.4843376613388\tMean_RMSLE_Valid:\t1128.456074722639\n",
      "With max_depth:\t18\tMean_RMSLE_Train:\t404.47813087887056\tMean_RMSLE_Valid:\t1129.9871518605405\n",
      "With max_depth:\t19\tMean_RMSLE_Train:\t374.3604094864814\tMean_RMSLE_Valid:\t1136.320448505869\n",
      "With max_depth:\t20\tMean_RMSLE_Train:\t347.4966722803285\tMean_RMSLE_Valid:\t1141.7894131232524\n",
      "With max_depth:\t21\tMean_RMSLE_Train:\t329.7915122739911\tMean_RMSLE_Valid:\t1142.6160256292924\n",
      "With max_depth:\t22\tMean_RMSLE_Train:\t323.52793974355257\tMean_RMSLE_Valid:\t1144.607340065049\n",
      "With max_depth:\t23\tMean_RMSLE_Train:\t313.59534950124845\tMean_RMSLE_Valid:\t1151.3395778308952\n",
      "With max_depth:\t24\tMean_RMSLE_Train:\t309.91181571497646\tMean_RMSLE_Valid:\t1148.6069688093028\n",
      "With max_depth:\t25\tMean_RMSLE_Train:\t303.616094374357\tMean_RMSLE_Valid:\t1149.3597775301143\n",
      "With max_depth:\t26\tMean_RMSLE_Train:\t302.6713862388098\tMean_RMSLE_Valid:\t1152.1898805249289\n",
      "With max_depth:\t27\tMean_RMSLE_Train:\t300.2384476633143\tMean_RMSLE_Valid:\t1153.3019241615027\n",
      "With max_depth:\t28\tMean_RMSLE_Train:\t298.753798259945\tMean_RMSLE_Valid:\t1154.614383041947\n",
      "With max_depth:\t29\tMean_RMSLE_Train:\t297.79010524603325\tMean_RMSLE_Valid:\t1154.8684810840768\n"
     ]
    }
   ],
   "source": [
    "depth_result = depth_score(scaled_df, min_r= 1, max_r= 30)"
   ]
  },
  {
   "cell_type": "code",
   "execution_count": 24,
   "id": "85cae8d8",
   "metadata": {},
   "outputs": [
    {
     "data": {
      "image/png": "[encoded data removed]",
      "text/plain": [
       "<Figure size 1000x300 with 1 Axes>"
      ]
     },
     "metadata": {},
     "output_type": "display_data"
    }
   ],
   "source": [
    "plt.figure(figsize= (10,3), dpi= 100)\n",
    "sns.lineplot(x= depth_result['max_depth'], y= depth_result['train'], color = 'orange', marker= 'o', label= 'Train')\n",
    "sns.lineplot(x= depth_result['max_depth'], y= depth_result['valid'], color = 'red', marker= 'o', label= 'Valid')\n",
    "plt.xlabel('max_depth')\n",
    "plt.ylabel('RMSE')\n",
    "plt.legend()\n",
    "plt.show()"
   ]
  },
  {
   "cell_type": "markdown",
   "id": "5b521b1b",
   "metadata": {},
   "source": [
    "For **max_depth = 4**, the validation **RMSE (1038.59)** is the lowest. After this value the model has started to overfit on the training data.\n",
    "\n",
    "### 3. min_child_weight"
   ]
  },
  {
   "cell_type": "code",
   "execution_count": 4,
   "id": "4b302feb",
   "metadata": {},
   "outputs": [],
   "source": [
    "def mcw_score(data, min_r=1, max_r=10):\n",
    "    \n",
    "    X = data.drop(columns = 'Item_Outlet_Sales', axis= 1)\n",
    "    Y = data['Item_Outlet_Sales']\n",
    "    \n",
    "    KF = KFold(n_splits= 5, shuffle= True, random_state= 0)\n",
    "    \n",
    "    results= []\n",
    "    \n",
    "    for mcw in tqdm_notebook(range(min_r, max_r, 1), desc=\"Processing\", leave=True):\n",
    "        x = {}\n",
    "        train_score = []\n",
    "        val_score = []\n",
    "        \n",
    "        for i, (train_index, val_index) in enumerate(KF.split(X, Y)):\n",
    "            xtr, xval = X.iloc[train_index], X.iloc[val_index]\n",
    "            ytr, yval = Y.iloc[train_index], Y.iloc[val_index]\n",
    "        \n",
    "            model = XGBRegressor(n_estimators = 300,\n",
    "                                 max_depth = 4,\n",
    "                                    learning_rate = 0.01,\n",
    "                                 min_child_weight = mcw,\n",
    "                                    n_jobs = 4,\n",
    "                                    random_state = 0,\n",
    "                                    objective = 'reg:squarederror')\n",
    "            \n",
    "            model.fit(xtr, ytr)\n",
    "\n",
    "            train_preds = model.predict(xtr)\n",
    "            val_preds = model.predict(xval)\n",
    "\n",
    "            train_rmse = np.sqrt(mse(ytr, train_preds))\n",
    "            val_rmse = np.sqrt(mse(yval, val_preds))\n",
    "\n",
    "            train_score.append(train_rmse)\n",
    "            val_score.append(val_rmse)\n",
    "            \n",
    "            \n",
    "        mean_score_train = np.mean(train_score)\n",
    "        mean_score_valid = np.mean(val_score)\n",
    "\n",
    "        print('With min_child_weight:\\t' + str(mcw) + '\\tMean_RMSLE_Train:\\t' + str(mean_score_train) + '\\tMean_RMSLE_Valid:\\t' + str(mean_score_valid))\n",
    "                 \n",
    "        x['mcw'] = mcw\n",
    "        x['train'] = mean_score_train\n",
    "        x['valid'] = mean_score_valid\n",
    "    \n",
    "        results.append(x)\n",
    "        \n",
    "    return pd.DataFrame(results)"
   ]
  },
  {
   "cell_type": "code",
   "execution_count": 7,
   "id": "f7e398d5",
   "metadata": {},
   "outputs": [
    {
     "data": {
      "application/vnd.jupyter.widget-view+json": {
       "model_id": "6319240aaf9748ed93bb96afdfea3cbc",
       "version_major": 2,
       "version_minor": 0
      },
      "text/plain": [
       "Processing:   0%|          | 0/19 [00:00<?, ?it/s]"
      ]
     },
     "metadata": {},
     "output_type": "display_data"
    },
    {
     "name": "stdout",
     "output_type": "stream",
     "text": [
      "With min_child_weight:\t1\tMean_RMSLE_Train:\t1017.5896971062368\tMean_RMSLE_Valid:\t1038.5904184311034\n",
      "With min_child_weight:\t2\tMean_RMSLE_Train:\t1017.7214777801906\tMean_RMSLE_Valid:\t1038.5558571455651\n",
      "With min_child_weight:\t3\tMean_RMSLE_Train:\t1017.7120741962417\tMean_RMSLE_Valid:\t1038.605359292263\n",
      "With min_child_weight:\t4\tMean_RMSLE_Train:\t1018.0080284356318\tMean_RMSLE_Valid:\t1038.3888673664285\n",
      "With min_child_weight:\t5\tMean_RMSLE_Train:\t1018.0717642421627\tMean_RMSLE_Valid:\t1038.286164513414\n",
      "With min_child_weight:\t6\tMean_RMSLE_Train:\t1018.2345745880879\tMean_RMSLE_Valid:\t1038.4101176989438\n",
      "With min_child_weight:\t7\tMean_RMSLE_Train:\t1018.3746767476885\tMean_RMSLE_Valid:\t1038.2231064182615\n",
      "With min_child_weight:\t8\tMean_RMSLE_Train:\t1018.484704930921\tMean_RMSLE_Valid:\t1038.1106775095222\n",
      "With min_child_weight:\t9\tMean_RMSLE_Train:\t1018.5622849773578\tMean_RMSLE_Valid:\t1037.989264352382\n",
      "With min_child_weight:\t10\tMean_RMSLE_Train:\t1018.6221044417343\tMean_RMSLE_Valid:\t1037.931487054667\n",
      "With min_child_weight:\t11\tMean_RMSLE_Train:\t1018.6417741657973\tMean_RMSLE_Valid:\t1037.9328138073863\n",
      "With min_child_weight:\t12\tMean_RMSLE_Train:\t1018.6996591937661\tMean_RMSLE_Valid:\t1038.0401672002322\n",
      "With min_child_weight:\t13\tMean_RMSLE_Train:\t1018.7970418993245\tMean_RMSLE_Valid:\t1038.0339779886792\n",
      "With min_child_weight:\t14\tMean_RMSLE_Train:\t1018.837559823511\tMean_RMSLE_Valid:\t1038.0112716365722\n",
      "With min_child_weight:\t15\tMean_RMSLE_Train:\t1018.9411985130777\tMean_RMSLE_Valid:\t1037.96290848209\n",
      "With min_child_weight:\t16\tMean_RMSLE_Train:\t1019.0533634188168\tMean_RMSLE_Valid:\t1038.0177406996513\n",
      "With min_child_weight:\t17\tMean_RMSLE_Train:\t1019.0375549521692\tMean_RMSLE_Valid:\t1038.0201685691345\n",
      "With min_child_weight:\t18\tMean_RMSLE_Train:\t1019.0809967295121\tMean_RMSLE_Valid:\t1038.0599452281917\n",
      "With min_child_weight:\t19\tMean_RMSLE_Train:\t1019.1207377749519\tMean_RMSLE_Valid:\t1038.0323439596614\n"
     ]
    }
   ],
   "source": [
    "mcw_results = mcw_score(scaled_df, min_r=1, max_r= 20)"
   ]
  },
  {
   "cell_type": "code",
   "execution_count": 14,
   "id": "578c3acc",
   "metadata": {},
   "outputs": [
    {
     "data": {
      "image/png": "[encoded data removed]",
      "text/plain": [
       "<Figure size 1000x300 with 1 Axes>"
      ]
     },
     "metadata": {},
     "output_type": "display_data"
    }
   ],
   "source": [
    "plt.figure(figsize= (10,3), dpi= 100)\n",
    "#sns.lineplot(x= mcw_results['mcw'], y= mcw_results['train'], color = 'orange', marker= 'o', label= 'Train')\n",
    "sns.lineplot(x= mcw_results['mcw'], y= mcw_results['valid'], color = 'red', marker= 'o', label= 'Valid')\n",
    "plt.xlabel('min_child_weight')\n",
    "plt.ylabel('RMSE')\n",
    "plt.legend()\n",
    "plt.show()"
   ]
  },
  {
   "cell_type": "markdown",
   "id": "5f78c016",
   "metadata": {},
   "source": [
    "At **min_child_weight = 10** the **RMSE (1037.93)** is the lowest.\n",
    "\n",
    "### 4. Gamma"
   ]
  },
  {
   "cell_type": "code",
   "execution_count": 23,
   "id": "4ca9fa1d",
   "metadata": {},
   "outputs": [],
   "source": [
    "def gamma_score(data):\n",
    "    \n",
    "    X = data.drop(columns = 'Item_Outlet_Sales', axis= 1)\n",
    "    Y = data['Item_Outlet_Sales']\n",
    "    \n",
    "    KF = KFold(n_splits= 5, shuffle= True, random_state= 0)\n",
    "    \n",
    "    results= []\n",
    "    \n",
    "    for g in tqdm_notebook([0, 0.01, 0.1, 0.5, 1, 10, 100], desc=\"Processing\", leave=True):\n",
    "        x = {}\n",
    "        train_score = []\n",
    "        val_score = []\n",
    "        \n",
    "        for i, (train_index, val_index) in enumerate(KF.split(X, Y)):\n",
    "            xtr, xval = X.iloc[train_index], X.iloc[val_index]\n",
    "            ytr, yval = Y.iloc[train_index], Y.iloc[val_index]\n",
    "        \n",
    "            model = XGBRegressor(n_estimators = 300,\n",
    "                                 max_depth = 4,\n",
    "                                    learning_rate = 0.01,\n",
    "                                 min_child_weight = 10,\n",
    "                                 gamma = g,\n",
    "                                    n_jobs = 4,\n",
    "                                    random_state = 0,\n",
    "                                    objective = 'reg:squarederror')\n",
    "            \n",
    "            model.fit(xtr, ytr)\n",
    "\n",
    "            train_preds = model.predict(xtr)\n",
    "            val_preds = model.predict(xval)\n",
    "\n",
    "            train_rmse = np.sqrt(mse(ytr, train_preds))\n",
    "            val_rmse = np.sqrt(mse(yval, val_preds))\n",
    "\n",
    "            train_score.append(train_rmse)\n",
    "            val_score.append(val_rmse)\n",
    "            \n",
    "            \n",
    "        mean_score_train = np.mean(train_score)\n",
    "        mean_score_valid = np.mean(val_score)\n",
    "\n",
    "        print('With gamma:\\t' + str(g) + '\\tMean_RMSLE_Train:\\t' + str(mean_score_train) + '\\tMean_RMSLE_Valid:\\t' + str(mean_score_valid))\n",
    "                 \n",
    "        x['gamma'] = g\n",
    "        x['train'] = mean_score_train\n",
    "        x['valid'] = mean_score_valid\n",
    "    \n",
    "        results.append(x)\n",
    "        \n",
    "    return pd.DataFrame(results)"
   ]
  },
  {
   "cell_type": "code",
   "execution_count": 16,
   "id": "a126558b",
   "metadata": {},
   "outputs": [
    {
     "data": {
      "application/vnd.jupyter.widget-view+json": {
       "model_id": "c93bcab5595a48cebbd15aa55849cd07",
       "version_major": 2,
       "version_minor": 0
      },
      "text/plain": [
       "Processing:   0%|          | 0/7 [00:00<?, ?it/s]"
      ]
     },
     "metadata": {},
     "output_type": "display_data"
    },
    {
     "name": "stdout",
     "output_type": "stream",
     "text": [
      "With gamma:\t0\tMean_RMSLE_Train:\t1018.6221044417343\tMean_RMSLE_Valid:\t1037.931487054667\n",
      "With gamma:\t0.01\tMean_RMSLE_Train:\t1018.6221044417343\tMean_RMSLE_Valid:\t1037.931487054667\n",
      "With gamma:\t0.1\tMean_RMSLE_Train:\t1018.6221044417343\tMean_RMSLE_Valid:\t1037.931487054667\n",
      "With gamma:\t0.5\tMean_RMSLE_Train:\t1018.6221044417343\tMean_RMSLE_Valid:\t1037.931487054667\n",
      "With gamma:\t1\tMean_RMSLE_Train:\t1018.6221044417343\tMean_RMSLE_Valid:\t1037.931487054667\n",
      "With gamma:\t10\tMean_RMSLE_Train:\t1018.6221044417343\tMean_RMSLE_Valid:\t1037.931487054667\n",
      "With gamma:\t100\tMean_RMSLE_Train:\t1018.6221044417343\tMean_RMSLE_Valid:\t1037.931487054667\n"
     ]
    }
   ],
   "source": [
    "gamma_results = gamma_score(scaled_df)"
   ]
  },
  {
   "cell_type": "code",
   "execution_count": 26,
   "id": "59adcc3e",
   "metadata": {},
   "outputs": [
    {
     "data": {
      "image/png": "[encoded data removed]",
      "text/plain": [
       "<Figure size 1000x300 with 1 Axes>"
      ]
     },
     "metadata": {},
     "output_type": "display_data"
    }
   ],
   "source": [
    "plt.figure(figsize= (10,3), dpi= 100)\n",
    "sns.lineplot(x= gamma_results['gamma'], y= gamma_results['train'], color = 'orange', marker= 'o', label= 'Train')\n",
    "sns.lineplot(x= gamma_results['gamma'], y= gamma_results['valid'], color = 'red', marker= 'o', label= 'Valid')\n",
    "plt.xlabel('gamma')\n",
    "plt.ylabel('RMSE')\n",
    "plt.legend()\n",
    "plt.show()"
   ]
  },
  {
   "cell_type": "markdown",
   "id": "653cba08",
   "metadata": {},
   "source": [
    "* The value of gamma is also not making much difference to the model performance.\n",
    "* We will keep the value of gamma fixed to 0.\n",
    "\n",
    "### 5. subsample"
   ]
  },
  {
   "cell_type": "code",
   "execution_count": 19,
   "id": "3fae24b1",
   "metadata": {},
   "outputs": [],
   "source": [
    "def ss_score(data):\n",
    "    \n",
    "    X = data.drop(columns = 'Item_Outlet_Sales', axis= 1)\n",
    "    Y = data['Item_Outlet_Sales']\n",
    "    \n",
    "    KF = KFold(n_splits= 5, shuffle= True, random_state= 0)\n",
    "    \n",
    "    results= []\n",
    "    \n",
    "    for ss in tqdm_notebook([ 0.01, 0.05, 0.075, 0.1, 0.4, 0.6, 0.7, 0.8, 0.9, 0.95, 0.97, 0.99, 0.999, 1], desc=\"Processing\", leave=True):\n",
    "        x = {}\n",
    "        train_score = []\n",
    "        val_score = []\n",
    "        \n",
    "        for i, (train_index, val_index) in enumerate(KF.split(X, Y)):\n",
    "            xtr, xval = X.iloc[train_index], X.iloc[val_index]\n",
    "            ytr, yval = Y.iloc[train_index], Y.iloc[val_index]\n",
    "        \n",
    "            model = XGBRegressor(n_estimators = 300,\n",
    "                                 max_depth = 4,\n",
    "                                    learning_rate = 0.01,\n",
    "                                 min_child_weight = 10,\n",
    "                                 gamma = 0,\n",
    "                                 subsample= ss,\n",
    "                                    n_jobs = 4,\n",
    "                                    random_state = 0,\n",
    "                                    objective = 'reg:squarederror')\n",
    "            \n",
    "            model.fit(xtr, ytr)\n",
    "\n",
    "            train_preds = model.predict(xtr)\n",
    "            val_preds = model.predict(xval)\n",
    "\n",
    "            train_rmse = np.sqrt(mse(ytr, train_preds))\n",
    "            val_rmse = np.sqrt(mse(yval, val_preds))\n",
    "\n",
    "            train_score.append(train_rmse)\n",
    "            val_score.append(val_rmse)\n",
    "            \n",
    "            \n",
    "        mean_score_train = np.mean(train_score)\n",
    "        mean_score_valid = np.mean(val_score)\n",
    "\n",
    "        print('With subsample:\\t' + str(ss) + '\\tMean_RMSLE_Train:\\t' + str(mean_score_train) + '\\tMean_RMSLE_Valid:\\t' + str(mean_score_valid))\n",
    "                 \n",
    "        x['subsample'] = ss\n",
    "        x['train'] = mean_score_train\n",
    "        x['valid'] = mean_score_valid\n",
    "    \n",
    "        results.append(x)\n",
    "        \n",
    "    return pd.DataFrame(results)"
   ]
  },
  {
   "cell_type": "code",
   "execution_count": 20,
   "id": "85b6d408",
   "metadata": {},
   "outputs": [
    {
     "data": {
      "application/vnd.jupyter.widget-view+json": {
       "model_id": "8c3906843fbe43f7810f1372d2477ef7",
       "version_major": 2,
       "version_minor": 0
      },
      "text/plain": [
       "Processing:   0%|          | 0/14 [00:00<?, ?it/s]"
      ]
     },
     "metadata": {},
     "output_type": "display_data"
    },
    {
     "name": "stdout",
     "output_type": "stream",
     "text": [
      "With subsample:\t0.01\tMean_RMSLE_Train:\t1124.488967951367\tMean_RMSLE_Valid:\t1129.0526689751991\n",
      "With subsample:\t0.05\tMean_RMSLE_Train:\t1032.5635415294564\tMean_RMSLE_Valid:\t1046.8420712763927\n",
      "With subsample:\t0.075\tMean_RMSLE_Train:\t1026.3453002403999\tMean_RMSLE_Valid:\t1042.9651117540511\n",
      "With subsample:\t0.1\tMean_RMSLE_Train:\t1023.6058819398602\tMean_RMSLE_Valid:\t1040.1015043203272\n",
      "With subsample:\t0.4\tMean_RMSLE_Train:\t1017.1557041801916\tMean_RMSLE_Valid:\t1037.7575441908068\n",
      "With subsample:\t0.6\tMean_RMSLE_Train:\t1017.2833883305245\tMean_RMSLE_Valid:\t1037.252663183968\n",
      "With subsample:\t0.7\tMean_RMSLE_Train:\t1017.4516171536418\tMean_RMSLE_Valid:\t1037.6453418398917\n",
      "With subsample:\t0.8\tMean_RMSLE_Train:\t1017.7038012772467\tMean_RMSLE_Valid:\t1037.6365655650638\n",
      "With subsample:\t0.9\tMean_RMSLE_Train:\t1018.3124678284373\tMean_RMSLE_Valid:\t1037.5468007791885\n",
      "With subsample:\t0.95\tMean_RMSLE_Train:\t1018.3751065278184\tMean_RMSLE_Valid:\t1037.5701842283067\n",
      "With subsample:\t0.97\tMean_RMSLE_Train:\t1018.5990782699289\tMean_RMSLE_Valid:\t1037.6300583193392\n",
      "With subsample:\t0.99\tMean_RMSLE_Train:\t1018.5233911537456\tMean_RMSLE_Valid:\t1037.8479441589836\n",
      "With subsample:\t0.999\tMean_RMSLE_Train:\t1018.6301065289433\tMean_RMSLE_Valid:\t1037.7939085536964\n",
      "With subsample:\t1\tMean_RMSLE_Train:\t1018.6221044417343\tMean_RMSLE_Valid:\t1037.931487054667\n"
     ]
    }
   ],
   "source": [
    "ss_results = ss_score(scaled_df)"
   ]
  },
  {
   "cell_type": "code",
   "execution_count": 24,
   "id": "ca89f4e0",
   "metadata": {},
   "outputs": [
    {
     "data": {
      "image/png": "[encoded data removed]",
      "text/plain": [
       "<Figure size 1000x300 with 1 Axes>"
      ]
     },
     "metadata": {},
     "output_type": "display_data"
    }
   ],
   "source": [
    "plt.figure(figsize= (10,3), dpi= 100)\n",
    "sns.lineplot(x= ss_results['subsample'], y= ss_results['train'], color = 'orange', marker= 'o', label= 'Train')\n",
    "sns.lineplot(x= ss_results['subsample'], y= ss_results['valid'], color = 'red', marker= 'o', label= 'Valid')\n",
    "plt.xlabel('subsample')\n",
    "plt.ylabel('RMSE')\n",
    "plt.legend()\n",
    "plt.show()"
   ]
  },
  {
   "cell_type": "markdown",
   "id": "c457fb18",
   "metadata": {},
   "source": [
    "validation **RMSE (1037.25)** is lowest at **subsample = 0.6**\n",
    "\n",
    "### CONCLUSION:\n",
    "Best hyperparameters for XGBoostRegresor are:\n",
    "* n_estimators: 300\n",
    "* max_depth: 4\n",
    "* min_child_weight: 10\n",
    "* gamma: 0\n",
    "* subsample: 0.6"
   ]
  },
  {
   "cell_type": "code",
   "execution_count": null,
   "id": "67d7ed9e",
   "metadata": {},
   "outputs": [],
   "source": []
  },
  {
   "cell_type": "code",
   "execution_count": null,
   "id": "e131df20",
   "metadata": {},
   "outputs": [],
   "source": []
  },
  {
   "cell_type": "code",
   "execution_count": null,
   "id": "83e64b28",
   "metadata": {},
   "outputs": [],
   "source": []
  },
  {
   "cell_type": "code",
   "execution_count": null,
   "id": "c9807e4f",
   "metadata": {},
   "outputs": [],
   "source": []
  },
  {
   "cell_type": "code",
   "execution_count": null,
   "id": "4a29b7e8",
   "metadata": {},
   "outputs": [],
   "source": []
  },
  {
   "cell_type": "code",
   "execution_count": null,
   "id": "76184ac9",
   "metadata": {},
   "outputs": [],
   "source": []
  },
  {
   "cell_type": "code",
   "execution_count": null,
   "id": "9fb13430",
   "metadata": {},
   "outputs": [],
   "source": []
  },
  {
   "cell_type": "code",
   "execution_count": null,
   "id": "eec71b52",
   "metadata": {},
   "outputs": [],
   "source": []
  },
  {
   "cell_type": "code",
   "execution_count": null,
   "id": "6f3bbdb5",
   "metadata": {},
   "outputs": [],
   "source": []
  },
  {
   "cell_type": "code",
   "execution_count": null,
   "id": "10d1cdb6",
   "metadata": {},
   "outputs": [],
   "source": []
  },
  {
   "cell_type": "code",
   "execution_count": null,
   "id": "bcbc209a",
   "metadata": {},
   "outputs": [],
   "source": []
  },
  {
   "cell_type": "code",
   "execution_count": null,
   "id": "56b50b44",
   "metadata": {},
   "outputs": [],
   "source": []
  },
  {
   "cell_type": "code",
   "execution_count": null,
   "id": "f002dec1",
   "metadata": {},
   "outputs": [],
   "source": []
  },
  {
   "cell_type": "code",
   "execution_count": null,
   "id": "32ca906d",
   "metadata": {},
   "outputs": [],
   "source": []
  },
  {
   "cell_type": "code",
   "execution_count": null,
   "id": "3702ecfe",
   "metadata": {},
   "outputs": [],
   "source": []
  },
  {
   "cell_type": "code",
   "execution_count": null,
   "id": "941b2880",
   "metadata": {},
   "outputs": [],
   "source": []
  },
  {
   "cell_type": "code",
   "execution_count": null,
   "id": "fa1f382b",
   "metadata": {},
   "outputs": [],
   "source": []
  },
  {
   "cell_type": "code",
   "execution_count": null,
   "id": "be6bb1ce",
   "metadata": {},
   "outputs": [],
   "source": []
  },
  {
   "cell_type": "code",
   "execution_count": null,
   "id": "2134fa00",
   "metadata": {},
   "outputs": [],
   "source": []
  },
  {
   "cell_type": "code",
   "execution_count": null,
   "id": "9c06d549",
   "metadata": {},
   "outputs": [],
   "source": []
  },
  {
   "cell_type": "code",
   "execution_count": null,
   "id": "1ca17a74",
   "metadata": {},
   "outputs": [],
   "source": []
  },
  {
   "cell_type": "code",
   "execution_count": null,
   "id": "b2de3e86",
   "metadata": {},
   "outputs": [],
   "source": []
  },
  {
   "cell_type": "code",
   "execution_count": null,
   "id": "c72cd2c0",
   "metadata": {},
   "outputs": [],
   "source": []
  },
  {
   "cell_type": "code",
   "execution_count": null,
   "id": "60ed108c",
   "metadata": {},
   "outputs": [],
   "source": []
  },
  {
   "cell_type": "code",
   "execution_count": null,
   "id": "35d0a189",
   "metadata": {},
   "outputs": [],
   "source": []
  },
  {
   "cell_type": "code",
   "execution_count": null,
   "id": "49573494",
   "metadata": {},
   "outputs": [],
   "source": []
  },
  {
   "cell_type": "code",
   "execution_count": null,
   "id": "44459e72",
   "metadata": {},
   "outputs": [],
   "source": []
  },
  {
   "cell_type": "code",
   "execution_count": null,
   "id": "fb40538a",
   "metadata": {},
   "outputs": [],
   "source": []
  },
  {
   "cell_type": "code",
   "execution_count": null,
   "id": "f7610681",
   "metadata": {},
   "outputs": [],
   "source": []
  },
  {
   "cell_type": "code",
   "execution_count": null,
   "id": "472f2e6b",
   "metadata": {},
   "outputs": [],
   "source": []
  },
  {
   "cell_type": "code",
   "execution_count": null,
   "id": "7c4a07f9",
   "metadata": {},
   "outputs": [],
   "source": []
  },
  {
   "cell_type": "code",
   "execution_count": null,
   "id": "ee95303c",
   "metadata": {},
   "outputs": [],
   "source": []
  },
  {
   "cell_type": "code",
   "execution_count": null,
   "id": "81bf8a02",
   "metadata": {},
   "outputs": [],
   "source": []
  },
  {
   "cell_type": "code",
   "execution_count": null,
   "id": "1fcd9783",
   "metadata": {},
   "outputs": [],
   "source": []
  },
  {
   "cell_type": "code",
   "execution_count": null,
   "id": "d197ab81",
   "metadata": {},
   "outputs": [],
   "source": []
  },
  {
   "cell_type": "code",
   "execution_count": null,
   "id": "10d44996",
   "metadata": {},
   "outputs": [],
   "source": []
  },
  {
   "cell_type": "code",
   "execution_count": null,
   "id": "a4f0b1e3",
   "metadata": {},
   "outputs": [],
   "source": []
  },
  {
   "cell_type": "code",
   "execution_count": null,
   "id": "97a265a3",
   "metadata": {},
   "outputs": [],
   "source": []
  },
  {
   "cell_type": "code",
   "execution_count": null,
   "id": "1bf42623",
   "metadata": {},
   "outputs": [],
   "source": []
  },
  {
   "cell_type": "code",
   "execution_count": null,
   "id": "b9a5cdf0",
   "metadata": {},
   "outputs": [],
   "source": []
  },
  {
   "cell_type": "code",
   "execution_count": null,
   "id": "1eb4d3b7",
   "metadata": {},
   "outputs": [],
   "source": []
  },
  {
   "cell_type": "code",
   "execution_count": null,
   "id": "a14774cb",
   "metadata": {},
   "outputs": [],
   "source": []
  },
  {
   "cell_type": "code",
   "execution_count": null,
   "id": "cc7e811d",
   "metadata": {},
   "outputs": [],
   "source": []
  },
  {
   "cell_type": "code",
   "execution_count": null,
   "id": "d5bc4988",
   "metadata": {},
   "outputs": [],
   "source": []
  },
  {
   "cell_type": "code",
   "execution_count": null,
   "id": "f1e07337",
   "metadata": {},
   "outputs": [],
   "source": []
  },
  {
   "cell_type": "code",
   "execution_count": null,
   "id": "943776b9",
   "metadata": {},
   "outputs": [],
   "source": []
  },
  {
   "cell_type": "code",
   "execution_count": null,
   "id": "f7f3bf15",
   "metadata": {},
   "outputs": [],
   "source": []
  },
  {
   "cell_type": "code",
   "execution_count": null,
   "id": "51d30595",
   "metadata": {},
   "outputs": [],
   "source": []
  },
  {
   "cell_type": "code",
   "execution_count": null,
   "id": "cb48ea2b",
   "metadata": {},
   "outputs": [],
   "source": []
  },
  {
   "cell_type": "code",
   "execution_count": null,
   "id": "e6f86579",
   "metadata": {},
   "outputs": [],
   "source": []
  },
  {
   "cell_type": "code",
   "execution_count": null,
   "id": "e66e328e",
   "metadata": {},
   "outputs": [],
   "source": []
  },
  {
   "cell_type": "code",
   "execution_count": null,
   "id": "ebfc66a9",
   "metadata": {},
   "outputs": [],
   "source": []
  },
  {
   "cell_type": "code",
   "execution_count": null,
   "id": "40e56e16",
   "metadata": {},
   "outputs": [],
   "source": []
  },
  {
   "cell_type": "code",
   "execution_count": null,
   "id": "367834ac",
   "metadata": {},
   "outputs": [],
   "source": []
  },
  {
   "cell_type": "code",
   "execution_count": null,
   "id": "9f9e79b1",
   "metadata": {},
   "outputs": [],
   "source": []
  },
  {
   "cell_type": "code",
   "execution_count": null,
   "id": "adcda1f0",
   "metadata": {},
   "outputs": [],
   "source": []
  },
  {
   "cell_type": "code",
   "execution_count": null,
   "id": "2d6adb02",
   "metadata": {},
   "outputs": [],
   "source": []
  },
  {
   "cell_type": "code",
   "execution_count": null,
   "id": "2e7fc376",
   "metadata": {},
   "outputs": [],
   "source": []
  },
  {
   "cell_type": "code",
   "execution_count": null,
   "id": "ce4c29ee",
   "metadata": {},
   "outputs": [],
   "source": []
  },
  {
   "cell_type": "code",
   "execution_count": null,
   "id": "5e4f490a",
   "metadata": {},
   "outputs": [],
   "source": []
  },
  {
   "cell_type": "code",
   "execution_count": null,
   "id": "67a28ab3",
   "metadata": {},
   "outputs": [],
   "source": []
  },
  {
   "cell_type": "code",
   "execution_count": null,
   "id": "39f92003",
   "metadata": {},
   "outputs": [],
   "source": []
  },
  {
   "cell_type": "code",
   "execution_count": null,
   "id": "1a5748e6",
   "metadata": {},
   "outputs": [],
   "source": []
  },
  {
   "cell_type": "code",
   "execution_count": null,
   "id": "67305534",
   "metadata": {},
   "outputs": [],
   "source": []
  },
  {
   "cell_type": "code",
   "execution_count": null,
   "id": "af572ae7",
   "metadata": {},
   "outputs": [],
   "source": []
  },
  {
   "cell_type": "code",
   "execution_count": null,
   "id": "91ee1b55",
   "metadata": {},
   "outputs": [],
   "source": []
  },
  {
   "cell_type": "code",
   "execution_count": null,
   "id": "03749d7a",
   "metadata": {},
   "outputs": [],
   "source": []
  },
  {
   "cell_type": "code",
   "execution_count": null,
   "id": "bec3344e",
   "metadata": {},
   "outputs": [],
   "source": []
  },
  {
   "cell_type": "code",
   "execution_count": null,
   "id": "ac9765ed",
   "metadata": {},
   "outputs": [],
   "source": []
  },
  {
   "cell_type": "code",
   "execution_count": null,
   "id": "8723c9c5",
   "metadata": {},
   "outputs": [],
   "source": []
  }
 ],
 "metadata": {
  "kernelspec": {
   "display_name": "Python 3 (ipykernel)",
   "language": "python",
   "name": "python3"
  },
  "language_info": {
   "codemirror_mode": {
    "name": "ipython",
    "version": 3
   },
   "file_extension": ".py",
   "mimetype": "text/x-python",
   "name": "python",
   "nbconvert_exporter": "python",
   "pygments_lexer": "ipython3",
   "version": "3.10.9"
  }
 },
 "nbformat": 4,
 "nbformat_minor": 5
}
