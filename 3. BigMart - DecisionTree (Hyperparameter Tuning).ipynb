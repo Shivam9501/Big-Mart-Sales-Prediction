{
 "cells": [
  {
   "cell_type": "markdown",
   "id": "e5845da3",
   "metadata": {},
   "source": [
    "# BigMart - DecisionTree (Hyperparameter Tuning)"
   ]
  },
  {
   "cell_type": "code",
   "execution_count": 70,
   "id": "4806d52e",
   "metadata": {},
   "outputs": [],
   "source": [
    "import numpy as np\n",
    "import pandas as pd\n",
    "import matplotlib.pyplot as plt\n",
    "import seaborn as sns\n",
    "import warnings\n",
    "from tqdm import tqdm, tqdm_notebook\n",
    "\n",
    "from sklearn.model_selection import KFold, train_test_split\n",
    "from sklearn.metrics import mean_squared_error as mse\n",
    "from sklearn.preprocessing import StandardScaler\n",
    "\n",
    "from sklearn.tree import DecisionTreeRegressor\n",
    "\n",
    "warnings.filterwarnings('ignore')\n",
    "%matplotlib inline"
   ]
  },
  {
   "cell_type": "code",
   "execution_count": 59,
   "id": "38927ee2",
   "metadata": {},
   "outputs": [],
   "source": [
    "df = pd.read_csv('final_train.csv')"
   ]
  },
  {
   "cell_type": "code",
   "execution_count": 60,
   "id": "066874f7",
   "metadata": {},
   "outputs": [
    {
     "data": {
      "text/html": [
       "<div>\n",
       "<style scoped>\n",
       "    .dataframe tbody tr th:only-of-type {\n",
       "        vertical-align: middle;\n",
       "    }\n",
       "\n",
       "    .dataframe tbody tr th {\n",
       "        vertical-align: top;\n",
       "    }\n",
       "\n",
       "    .dataframe thead th {\n",
       "        text-align: right;\n",
       "    }\n",
       "</style>\n",
       "<table border=\"1\" class=\"dataframe\">\n",
       "  <thead>\n",
       "    <tr style=\"text-align: right;\">\n",
       "      <th></th>\n",
       "      <th>Item_Fat_Content</th>\n",
       "      <th>Item_Visibility</th>\n",
       "      <th>Item_MRP</th>\n",
       "      <th>Outlet_Establishment_Year</th>\n",
       "      <th>Outlet_Size</th>\n",
       "      <th>Outlet_Location_Type</th>\n",
       "      <th>Item_Weight_y</th>\n",
       "      <th>Item_Type_Baking Goods</th>\n",
       "      <th>Item_Type_Breads</th>\n",
       "      <th>Item_Type_Breakfast</th>\n",
       "      <th>...</th>\n",
       "      <th>Outlet_Identifier_OUT027</th>\n",
       "      <th>Outlet_Identifier_OUT035</th>\n",
       "      <th>Outlet_Identifier_OUT045</th>\n",
       "      <th>Outlet_Identifier_OUT046</th>\n",
       "      <th>Outlet_Identifier_OUT049</th>\n",
       "      <th>Outlet_Type_Grocery Store</th>\n",
       "      <th>Outlet_Type_Supermarket Type1</th>\n",
       "      <th>Outlet_Type_Supermarket Type2</th>\n",
       "      <th>Outlet_Type_Supermarket Type3</th>\n",
       "      <th>Item_Outlet_Sales</th>\n",
       "    </tr>\n",
       "  </thead>\n",
       "  <tbody>\n",
       "    <tr>\n",
       "      <th>0</th>\n",
       "      <td>-0.737887</td>\n",
       "      <td>-0.970891</td>\n",
       "      <td>1.763875</td>\n",
       "      <td>0.133879</td>\n",
       "      <td>0.285343</td>\n",
       "      <td>-1.365170</td>\n",
       "      <td>-0.768435</td>\n",
       "      <td>-0.28777</td>\n",
       "      <td>-0.174363</td>\n",
       "      <td>-0.114158</td>\n",
       "      <td>...</td>\n",
       "      <td>-0.344522</td>\n",
       "      <td>-0.350919</td>\n",
       "      <td>-0.35007</td>\n",
       "      <td>-0.350495</td>\n",
       "      <td>2.847938</td>\n",
       "      <td>-0.382818</td>\n",
       "      <td>0.723256</td>\n",
       "      <td>-0.350707</td>\n",
       "      <td>-0.344522</td>\n",
       "      <td>3735.1380</td>\n",
       "    </tr>\n",
       "    <tr>\n",
       "      <th>1</th>\n",
       "      <td>1.355222</td>\n",
       "      <td>-0.908348</td>\n",
       "      <td>-1.486518</td>\n",
       "      <td>1.331598</td>\n",
       "      <td>0.285343</td>\n",
       "      <td>1.095912</td>\n",
       "      <td>-1.496059</td>\n",
       "      <td>-0.28777</td>\n",
       "      <td>-0.174363</td>\n",
       "      <td>-0.114158</td>\n",
       "      <td>...</td>\n",
       "      <td>-0.344522</td>\n",
       "      <td>-0.350919</td>\n",
       "      <td>-0.35007</td>\n",
       "      <td>-0.350495</td>\n",
       "      <td>-0.351131</td>\n",
       "      <td>-0.382818</td>\n",
       "      <td>-1.382637</td>\n",
       "      <td>2.851384</td>\n",
       "      <td>-0.344522</td>\n",
       "      <td>443.4228</td>\n",
       "    </tr>\n",
       "  </tbody>\n",
       "</table>\n",
       "<p>2 rows × 38 columns</p>\n",
       "</div>"
      ],
      "text/plain": [
       "   Item_Fat_Content  Item_Visibility  Item_MRP  Outlet_Establishment_Year  \\\n",
       "0         -0.737887        -0.970891  1.763875                   0.133879   \n",
       "1          1.355222        -0.908348 -1.486518                   1.331598   \n",
       "\n",
       "   Outlet_Size  Outlet_Location_Type  Item_Weight_y  Item_Type_Baking Goods  \\\n",
       "0     0.285343             -1.365170      -0.768435                -0.28777   \n",
       "1     0.285343              1.095912      -1.496059                -0.28777   \n",
       "\n",
       "   Item_Type_Breads  Item_Type_Breakfast  ...  Outlet_Identifier_OUT027  \\\n",
       "0         -0.174363            -0.114158  ...                 -0.344522   \n",
       "1         -0.174363            -0.114158  ...                 -0.344522   \n",
       "\n",
       "   Outlet_Identifier_OUT035  Outlet_Identifier_OUT045  \\\n",
       "0                 -0.350919                  -0.35007   \n",
       "1                 -0.350919                  -0.35007   \n",
       "\n",
       "   Outlet_Identifier_OUT046  Outlet_Identifier_OUT049  \\\n",
       "0                 -0.350495                  2.847938   \n",
       "1                 -0.350495                 -0.351131   \n",
       "\n",
       "   Outlet_Type_Grocery Store  Outlet_Type_Supermarket Type1  \\\n",
       "0                  -0.382818                       0.723256   \n",
       "1                  -0.382818                      -1.382637   \n",
       "\n",
       "   Outlet_Type_Supermarket Type2  Outlet_Type_Supermarket Type3  \\\n",
       "0                      -0.350707                      -0.344522   \n",
       "1                       2.851384                      -0.344522   \n",
       "\n",
       "   Item_Outlet_Sales  \n",
       "0          3735.1380  \n",
       "1           443.4228  \n",
       "\n",
       "[2 rows x 38 columns]"
      ]
     },
     "execution_count": 60,
     "metadata": {},
     "output_type": "execute_result"
    }
   ],
   "source": [
    "# LEt's seggregate the target and independent variables first\n",
    "X = df.drop(columns= 'Item_Outlet_Sales', axis=1)\n",
    "Y = df['Item_Outlet_Sales']\n",
    "\n",
    "# Let's scale the independent variables and store them in a dataframe\n",
    "ss = StandardScaler()\n",
    "X_scaled = ss.fit_transform(X)\n",
    "x = pd.DataFrame(X_scaled, columns= X.columns)\n",
    "\n",
    "# merge the independent and target variables to create a new dataframe with scaled features\n",
    "scaled_df= pd.concat([x,Y], axis=1)\n",
    "scaled_df.head(2)"
   ]
  },
  {
   "cell_type": "markdown",
   "id": "0b7c57ee",
   "metadata": {},
   "source": [
    "We will tune the following hyperparamters in the DecisionTreeRegressor:\n",
    "* max_depth\n",
    "* min_samples_split\n",
    "* min_samples_leaf\n",
    "\n",
    "### 1. max_depth"
   ]
  },
  {
   "cell_type": "code",
   "execution_count": 61,
   "id": "08339187",
   "metadata": {},
   "outputs": [],
   "source": [
    "def depth_score(data, min_r=1, max_r=10):\n",
    "    \n",
    "    X = data.drop(columns = 'Item_Outlet_Sales', axis= 1)\n",
    "    Y = data['Item_Outlet_Sales']\n",
    "    \n",
    "    KF = KFold(n_splits= 5, shuffle= True, random_state= 0)\n",
    "    \n",
    "    results= []\n",
    "    \n",
    "    for depth in tqdm_notebook(range(min_r, max_r, 1), desc=\"Processing\", leave=True):\n",
    "        x = {}\n",
    "        train_score = []\n",
    "        val_score = []\n",
    "        \n",
    "        for i, (train_index, val_index) in enumerate(KF.split(X, Y)):\n",
    "            xtr, xval = X.iloc[train_index], X.iloc[val_index]\n",
    "            ytr, yval = Y.iloc[train_index], Y.iloc[val_index]\n",
    "        \n",
    "            model= DecisionTreeRegressor(random_state= 0, \n",
    "                                     max_depth= depth,\n",
    "                                     min_samples_split= 5,\n",
    "                                     min_samples_leaf= 5)\n",
    "    \n",
    "            model.fit(xtr, ytr)\n",
    "\n",
    "            train_preds = model.predict(xtr)\n",
    "            val_preds = model.predict(xval)\n",
    "\n",
    "            train_rmse = np.sqrt(mse(ytr, train_preds))\n",
    "            val_rmse = np.sqrt(mse(yval, val_preds))\n",
    "\n",
    "            train_score.append(train_rmse)\n",
    "            val_score.append(val_rmse)\n",
    "            \n",
    "            \n",
    "        mean_score_train = np.mean(train_score)\n",
    "        mean_score_valid = np.mean(val_score)\n",
    "\n",
    "        print('With max_depth:\\t' + str(depth) + '\\tMean_RMSLE_Train:\\t' + str(mean_score_train) + '\\tMean_RMSLE_Valid:\\t' + str(mean_score_valid))\n",
    "                 \n",
    "        x['depth'] = depth\n",
    "        x['train'] = mean_score_train\n",
    "        x['valid'] = mean_score_valid\n",
    "    \n",
    "        results.append(x)\n",
    "        \n",
    "    return pd.DataFrame(results)"
   ]
  },
  {
   "cell_type": "code",
   "execution_count": 62,
   "id": "3ef58712",
   "metadata": {},
   "outputs": [
    {
     "data": {
      "application/vnd.jupyter.widget-view+json": {
       "model_id": "8b6c8ecade3d44b18f7847a66e2c63c2",
       "version_major": 2,
       "version_minor": 0
      },
      "text/plain": [
       "Processing:   0%|          | 0/24 [00:00<?, ?it/s]"
      ]
     },
     "metadata": {},
     "output_type": "display_data"
    },
    {
     "name": "stdout",
     "output_type": "stream",
     "text": [
      "With max_depth:\t1\tMean_RMSLE_Train:\t1416.0279493108453\tMean_RMSLE_Valid:\t1416.9109081158633\n",
      "With max_depth:\t2\tMean_RMSLE_Train:\t1207.1803299275532\tMean_RMSLE_Valid:\t1210.2905755128106\n",
      "With max_depth:\t3\tMean_RMSLE_Train:\t1117.5097672564123\tMean_RMSLE_Valid:\t1120.2367120492036\n",
      "With max_depth:\t4\tMean_RMSLE_Train:\t1049.3038562663417\tMean_RMSLE_Valid:\t1056.261521283564\n",
      "With max_depth:\t5\tMean_RMSLE_Train:\t1024.928967379469\tMean_RMSLE_Valid:\t1044.1598115989168\n",
      "With max_depth:\t6\tMean_RMSLE_Train:\t1012.0160268957186\tMean_RMSLE_Valid:\t1042.5962567774916\n",
      "With max_depth:\t7\tMean_RMSLE_Train:\t996.6388920803817\tMean_RMSLE_Valid:\t1052.3322132395037\n",
      "With max_depth:\t8\tMean_RMSLE_Train:\t978.0926822178374\tMean_RMSLE_Valid:\t1068.7986795709035\n",
      "With max_depth:\t9\tMean_RMSLE_Train:\t957.9335599699531\tMean_RMSLE_Valid:\t1088.3776337349962\n",
      "With max_depth:\t10\tMean_RMSLE_Train:\t934.5921183429884\tMean_RMSLE_Valid:\t1104.678516996484\n",
      "With max_depth:\t11\tMean_RMSLE_Train:\t910.1092546634445\tMean_RMSLE_Valid:\t1127.5877226471835\n",
      "With max_depth:\t12\tMean_RMSLE_Train:\t886.3228912305719\tMean_RMSLE_Valid:\t1147.9124779317674\n",
      "With max_depth:\t13\tMean_RMSLE_Train:\t862.3880309770557\tMean_RMSLE_Valid:\t1164.8309968397068\n",
      "With max_depth:\t14\tMean_RMSLE_Train:\t841.1453120572718\tMean_RMSLE_Valid:\t1182.982622897359\n",
      "With max_depth:\t15\tMean_RMSLE_Train:\t819.8610926765234\tMean_RMSLE_Valid:\t1196.089869669287\n",
      "With max_depth:\t16\tMean_RMSLE_Train:\t802.1405791431887\tMean_RMSLE_Valid:\t1210.6811640529986\n",
      "With max_depth:\t17\tMean_RMSLE_Train:\t788.7342740466718\tMean_RMSLE_Valid:\t1217.9703486778976\n",
      "With max_depth:\t18\tMean_RMSLE_Train:\t778.1012449180472\tMean_RMSLE_Valid:\t1223.9946067899252\n",
      "With max_depth:\t19\tMean_RMSLE_Train:\t769.166910653876\tMean_RMSLE_Valid:\t1228.4159234078136\n",
      "With max_depth:\t20\tMean_RMSLE_Train:\t761.2202651686785\tMean_RMSLE_Valid:\t1235.223777871186\n",
      "With max_depth:\t21\tMean_RMSLE_Train:\t755.2104647258791\tMean_RMSLE_Valid:\t1239.6803856677614\n",
      "With max_depth:\t22\tMean_RMSLE_Train:\t750.8943372667227\tMean_RMSLE_Valid:\t1242.737880127447\n",
      "With max_depth:\t23\tMean_RMSLE_Train:\t747.5761721200455\tMean_RMSLE_Valid:\t1243.6654064247775\n",
      "With max_depth:\t24\tMean_RMSLE_Train:\t745.4512638600445\tMean_RMSLE_Valid:\t1244.1121383267694\n"
     ]
    }
   ],
   "source": [
    "depth_results = depth_score(scaled_df, min_r= 1, max_r= 25)"
   ]
  },
  {
   "cell_type": "code",
   "execution_count": 63,
   "id": "5b8f55bf",
   "metadata": {},
   "outputs": [
    {
     "data": {
      "image/png": "[encoded data removed]",
      "text/plain": [
       "<Figure size 1000x300 with 1 Axes>"
      ]
     },
     "metadata": {},
     "output_type": "display_data"
    }
   ],
   "source": [
    "plt.figure(figsize= (10,3), dpi= 100)\n",
    "sns.lineplot(x= depth_results['depth'], y= depth_results['train'], color = 'orange', marker= 'o', label= 'Train')\n",
    "sns.lineplot(x= depth_results['depth'], y= depth_results['valid'], color = 'red', marker= 'o', label= 'Valid')\n",
    "plt.xlabel('max_depth')\n",
    "plt.ylabel('RMSE')\n",
    "plt.legend()\n",
    "plt.show()"
   ]
  },
  {
   "cell_type": "markdown",
   "id": "233c86d7",
   "metadata": {},
   "source": [
    "We can see after **max_depth = 6, (RMSE= 1042)** the RMSE on validation is increasing and the training model has started over fitting.\n",
    "\n",
    "### 2. min_samples_split"
   ]
  },
  {
   "cell_type": "code",
   "execution_count": 64,
   "id": "f948bf92",
   "metadata": {},
   "outputs": [],
   "source": [
    "def min_split_score(data, min_r=1, max_r=10):\n",
    "    \n",
    "    X = data.drop(columns = 'Item_Outlet_Sales', axis= 1)\n",
    "    Y = data['Item_Outlet_Sales']\n",
    "    \n",
    "    KF = KFold(n_splits= 5, shuffle= True, random_state= 0)\n",
    "    \n",
    "    results= []\n",
    "    \n",
    "    for splits in tqdm_notebook(range(min_r, max_r, 1), desc=\"Processing\", leave=True):\n",
    "        x = {}\n",
    "        train_score = []\n",
    "        val_score = []\n",
    "        \n",
    "        for i, (train_index, val_index) in enumerate(KF.split(X, Y)):\n",
    "            xtr, xval = X.iloc[train_index], X.iloc[val_index]\n",
    "            ytr, yval = Y.iloc[train_index], Y.iloc[val_index]\n",
    "        \n",
    "            model= DecisionTreeRegressor(random_state= 0, \n",
    "                                     max_depth= 6,\n",
    "                                     min_samples_split= splits,\n",
    "                                     min_samples_leaf= 5)\n",
    "    \n",
    "            model.fit(xtr, ytr)\n",
    "\n",
    "            train_preds = model.predict(xtr)\n",
    "            val_preds = model.predict(xval)\n",
    "\n",
    "            train_rmse = np.sqrt(mse(ytr, train_preds))\n",
    "            val_rmse = np.sqrt(mse(yval, val_preds))\n",
    "\n",
    "            train_score.append(train_rmse)\n",
    "            val_score.append(val_rmse)\n",
    "            \n",
    "            \n",
    "        mean_score_train = np.mean(train_score)\n",
    "        mean_score_valid = np.mean(val_score)\n",
    "\n",
    "        print('With min_samples_split:\\t' + str(splits) + '\\tMean_RMSLE_Train:\\t' + str(mean_score_train) + '\\tMean_RMSLE_Valid:\\t' + str(mean_score_valid))\n",
    "                 \n",
    "        x['min_split'] = splits\n",
    "        x['train'] = mean_score_train\n",
    "        x['valid'] = mean_score_valid\n",
    "    \n",
    "        results.append(x)\n",
    "        \n",
    "    return pd.DataFrame(results)"
   ]
  },
  {
   "cell_type": "code",
   "execution_count": 65,
   "id": "ee7e07db",
   "metadata": {},
   "outputs": [
    {
     "data": {
      "application/vnd.jupyter.widget-view+json": {
       "model_id": "b9ad2b8090de4ba0a0f5abc7040f5c74",
       "version_major": 2,
       "version_minor": 0
      },
      "text/plain": [
       "Processing:   0%|          | 0/24 [00:00<?, ?it/s]"
      ]
     },
     "metadata": {},
     "output_type": "display_data"
    },
    {
     "name": "stdout",
     "output_type": "stream",
     "text": [
      "With min_samples_split:\t1\tMean_RMSLE_Train:\t1012.0160268957186\tMean_RMSLE_Valid:\t1042.5962567774916\n",
      "With min_samples_split:\t2\tMean_RMSLE_Train:\t1012.0160268957186\tMean_RMSLE_Valid:\t1042.5962567774916\n",
      "With min_samples_split:\t3\tMean_RMSLE_Train:\t1012.0160268957186\tMean_RMSLE_Valid:\t1042.5962567774916\n",
      "With min_samples_split:\t4\tMean_RMSLE_Train:\t1012.0160268957186\tMean_RMSLE_Valid:\t1042.5962567774916\n",
      "With min_samples_split:\t5\tMean_RMSLE_Train:\t1012.0160268957186\tMean_RMSLE_Valid:\t1042.5962567774916\n",
      "With min_samples_split:\t6\tMean_RMSLE_Train:\t1012.0160268957186\tMean_RMSLE_Valid:\t1042.5962567774916\n",
      "With min_samples_split:\t7\tMean_RMSLE_Train:\t1012.0160268957186\tMean_RMSLE_Valid:\t1042.5962567774916\n",
      "With min_samples_split:\t8\tMean_RMSLE_Train:\t1012.0160268957186\tMean_RMSLE_Valid:\t1042.5962567774916\n",
      "With min_samples_split:\t9\tMean_RMSLE_Train:\t1012.0160268957186\tMean_RMSLE_Valid:\t1042.5962567774916\n",
      "With min_samples_split:\t10\tMean_RMSLE_Train:\t1012.0160268957186\tMean_RMSLE_Valid:\t1042.5962567774916\n",
      "With min_samples_split:\t11\tMean_RMSLE_Train:\t1012.034921757196\tMean_RMSLE_Valid:\t1042.5309931121287\n",
      "With min_samples_split:\t12\tMean_RMSLE_Train:\t1012.0439806747652\tMean_RMSLE_Valid:\t1042.5328110118285\n",
      "With min_samples_split:\t13\tMean_RMSLE_Train:\t1012.0439806747652\tMean_RMSLE_Valid:\t1042.5328110118285\n",
      "With min_samples_split:\t14\tMean_RMSLE_Train:\t1012.0739416119895\tMean_RMSLE_Valid:\t1041.770427441233\n",
      "With min_samples_split:\t15\tMean_RMSLE_Train:\t1012.0739416119895\tMean_RMSLE_Valid:\t1041.770427441233\n",
      "With min_samples_split:\t16\tMean_RMSLE_Train:\t1012.26918832993\tMean_RMSLE_Valid:\t1041.4918594904268\n",
      "With min_samples_split:\t17\tMean_RMSLE_Train:\t1012.2700851800043\tMean_RMSLE_Valid:\t1041.4913574735913\n",
      "With min_samples_split:\t18\tMean_RMSLE_Train:\t1012.2856630551354\tMean_RMSLE_Valid:\t1041.4715172670046\n",
      "With min_samples_split:\t19\tMean_RMSLE_Train:\t1012.6932393339706\tMean_RMSLE_Valid:\t1040.9405149854304\n",
      "With min_samples_split:\t20\tMean_RMSLE_Train:\t1012.6961401440752\tMean_RMSLE_Valid:\t1040.9388368351129\n",
      "With min_samples_split:\t21\tMean_RMSLE_Train:\t1012.8115726485754\tMean_RMSLE_Valid:\t1041.000627458519\n",
      "With min_samples_split:\t22\tMean_RMSLE_Train:\t1012.8115726485754\tMean_RMSLE_Valid:\t1041.000627458519\n",
      "With min_samples_split:\t23\tMean_RMSLE_Train:\t1012.8958209344106\tMean_RMSLE_Valid:\t1041.146219801572\n",
      "With min_samples_split:\t24\tMean_RMSLE_Train:\t1012.8958209344106\tMean_RMSLE_Valid:\t1041.146219801572\n"
     ]
    }
   ],
   "source": [
    "split_results= min_split_score(scaled_df, min_r= 1, max_r= 25)"
   ]
  },
  {
   "cell_type": "code",
   "execution_count": 66,
   "id": "29aff443",
   "metadata": {},
   "outputs": [
    {
     "data": {
      "image/png": "[encoded data removed]",
      "text/plain": [
       "<Figure size 1000x300 with 1 Axes>"
      ]
     },
     "metadata": {},
     "output_type": "display_data"
    }
   ],
   "source": [
    "plt.figure(figsize= (10,3), dpi= 100)\n",
    "#sns.lineplot(x= split_results['min_split'], y= split_results['train'], color = 'orange', marker= 'o', label= 'Train')\n",
    "sns.lineplot(x= split_results['min_split'], y= split_results['valid'], color = 'red', marker= 'o', label= 'Valid')\n",
    "plt.xlabel('min_samples_split')\n",
    "plt.ylabel('RMSE')\n",
    "plt.legend()\n",
    "plt.show()"
   ]
  },
  {
   "cell_type": "markdown",
   "id": "8489539d",
   "metadata": {},
   "source": [
    "At **min_samples_split = 20 (RMSE = 1040.93)** the valid RMSE is lowest.\n",
    "\n",
    "### 3. min_samples_leaf"
   ]
  },
  {
   "cell_type": "code",
   "execution_count": 67,
   "id": "b7da5572",
   "metadata": {},
   "outputs": [],
   "source": [
    "def min_leaf_score(data, min_r=1, max_r=10):\n",
    "    \n",
    "    X = data.drop(columns = 'Item_Outlet_Sales', axis= 1)\n",
    "    Y = data['Item_Outlet_Sales']\n",
    "    \n",
    "    KF = KFold(n_splits= 5, shuffle= True, random_state= 0)\n",
    "    \n",
    "    results= []\n",
    "    \n",
    "    for leaf in tqdm_notebook(range(min_r, max_r, 1), desc=\"Processing\", leave=True):\n",
    "        x = {}\n",
    "        train_score = []\n",
    "        val_score = []\n",
    "        \n",
    "        for i, (train_index, val_index) in enumerate(KF.split(X, Y)):\n",
    "            xtr, xval = X.iloc[train_index], X.iloc[val_index]\n",
    "            ytr, yval = Y.iloc[train_index], Y.iloc[val_index]\n",
    "        \n",
    "            model= DecisionTreeRegressor(random_state= 0, \n",
    "                                     max_depth= 6,\n",
    "                                     min_samples_split= 20,\n",
    "                                     min_samples_leaf= leaf)\n",
    "    \n",
    "            model.fit(xtr, ytr)\n",
    "\n",
    "            train_preds = model.predict(xtr)\n",
    "            val_preds = model.predict(xval)\n",
    "\n",
    "            train_rmse = np.sqrt(mse(ytr, train_preds))\n",
    "            val_rmse = np.sqrt(mse(yval, val_preds))\n",
    "\n",
    "            train_score.append(train_rmse)\n",
    "            val_score.append(val_rmse)\n",
    "            \n",
    "            \n",
    "        mean_score_train = np.mean(train_score)\n",
    "        mean_score_valid = np.mean(val_score)\n",
    "\n",
    "        print('With min_samples_leaf:\\t' + str(leaf) + '\\tMean_RMSLE_Train:\\t' + str(mean_score_train) + '\\tMean_RMSLE_Valid:\\t' + str(mean_score_valid))\n",
    "                 \n",
    "        x['min_leaf'] = leaf\n",
    "        x['train'] = mean_score_train\n",
    "        x['valid'] = mean_score_valid\n",
    "    \n",
    "        results.append(x)\n",
    "        \n",
    "    return pd.DataFrame(results)"
   ]
  },
  {
   "cell_type": "code",
   "execution_count": 68,
   "id": "27325116",
   "metadata": {},
   "outputs": [
    {
     "data": {
      "application/vnd.jupyter.widget-view+json": {
       "model_id": "e58cc03ce39d44b5929ff1e6f4763fa3",
       "version_major": 2,
       "version_minor": 0
      },
      "text/plain": [
       "Processing:   0%|          | 0/99 [00:00<?, ?it/s]"
      ]
     },
     "metadata": {},
     "output_type": "display_data"
    },
    {
     "name": "stdout",
     "output_type": "stream",
     "text": [
      "With min_samples_leaf:\t1\tMean_RMSLE_Train:\t1012.4661272423916\tMean_RMSLE_Valid:\t1045.1447385448384\n",
      "With min_samples_leaf:\t2\tMean_RMSLE_Train:\t1012.5008151511007\tMean_RMSLE_Valid:\t1044.9606498160651\n",
      "With min_samples_leaf:\t3\tMean_RMSLE_Train:\t1012.7388741843637\tMean_RMSLE_Valid:\t1042.3079998285841\n",
      "With min_samples_leaf:\t4\tMean_RMSLE_Train:\t1012.68214717996\tMean_RMSLE_Valid:\t1041.6454290283714\n",
      "With min_samples_leaf:\t5\tMean_RMSLE_Train:\t1012.6961401440752\tMean_RMSLE_Valid:\t1040.9388368351129\n",
      "With min_samples_leaf:\t6\tMean_RMSLE_Train:\t1012.8740442374517\tMean_RMSLE_Valid:\t1041.0127968712416\n",
      "With min_samples_leaf:\t7\tMean_RMSLE_Train:\t1012.9043813816494\tMean_RMSLE_Valid:\t1040.7505426345847\n",
      "With min_samples_leaf:\t8\tMean_RMSLE_Train:\t1012.9612007596832\tMean_RMSLE_Valid:\t1040.304696187436\n",
      "With min_samples_leaf:\t9\tMean_RMSLE_Train:\t1013.0945078548259\tMean_RMSLE_Valid:\t1040.6688850448672\n",
      "With min_samples_leaf:\t10\tMean_RMSLE_Train:\t1013.2001959915664\tMean_RMSLE_Valid:\t1040.4560452254632\n",
      "With min_samples_leaf:\t11\tMean_RMSLE_Train:\t1013.2393032978191\tMean_RMSLE_Valid:\t1040.3801315549115\n",
      "With min_samples_leaf:\t12\tMean_RMSLE_Train:\t1013.3125890761867\tMean_RMSLE_Valid:\t1040.4369777546221\n",
      "With min_samples_leaf:\t13\tMean_RMSLE_Train:\t1013.3601047044806\tMean_RMSLE_Valid:\t1040.3905393920159\n",
      "With min_samples_leaf:\t14\tMean_RMSLE_Train:\t1013.4601977996429\tMean_RMSLE_Valid:\t1040.5311641088679\n",
      "With min_samples_leaf:\t15\tMean_RMSLE_Train:\t1013.6992237425345\tMean_RMSLE_Valid:\t1041.112240089054\n",
      "With min_samples_leaf:\t16\tMean_RMSLE_Train:\t1013.9018922308726\tMean_RMSLE_Valid:\t1041.2858182910022\n",
      "With min_samples_leaf:\t17\tMean_RMSLE_Train:\t1014.0873524541199\tMean_RMSLE_Valid:\t1040.2379680192055\n",
      "With min_samples_leaf:\t18\tMean_RMSLE_Train:\t1014.2654746783752\tMean_RMSLE_Valid:\t1040.0163148597537\n",
      "With min_samples_leaf:\t19\tMean_RMSLE_Train:\t1014.3835092598185\tMean_RMSLE_Valid:\t1040.4735907375482\n",
      "With min_samples_leaf:\t20\tMean_RMSLE_Train:\t1014.5278156827178\tMean_RMSLE_Valid:\t1039.9613017151212\n",
      "With min_samples_leaf:\t21\tMean_RMSLE_Train:\t1014.7703324952961\tMean_RMSLE_Valid:\t1038.941607626813\n",
      "With min_samples_leaf:\t22\tMean_RMSLE_Train:\t1014.935516322879\tMean_RMSLE_Valid:\t1038.8040015760846\n",
      "With min_samples_leaf:\t23\tMean_RMSLE_Train:\t1015.0957695345332\tMean_RMSLE_Valid:\t1038.9664047932042\n",
      "With min_samples_leaf:\t24\tMean_RMSLE_Train:\t1015.2984230188713\tMean_RMSLE_Valid:\t1039.9460441247986\n",
      "With min_samples_leaf:\t25\tMean_RMSLE_Train:\t1015.4247068971565\tMean_RMSLE_Valid:\t1040.1845166234789\n",
      "With min_samples_leaf:\t26\tMean_RMSLE_Train:\t1015.6157200060225\tMean_RMSLE_Valid:\t1039.412734905602\n",
      "With min_samples_leaf:\t27\tMean_RMSLE_Train:\t1015.8154293154115\tMean_RMSLE_Valid:\t1039.3972518221995\n",
      "With min_samples_leaf:\t28\tMean_RMSLE_Train:\t1016.0797375407334\tMean_RMSLE_Valid:\t1040.0898913772737\n",
      "With min_samples_leaf:\t29\tMean_RMSLE_Train:\t1016.1445057148078\tMean_RMSLE_Valid:\t1040.6288773547133\n",
      "With min_samples_leaf:\t30\tMean_RMSLE_Train:\t1016.2243281921519\tMean_RMSLE_Valid:\t1040.72764499451\n",
      "With min_samples_leaf:\t31\tMean_RMSLE_Train:\t1016.2346214316658\tMean_RMSLE_Valid:\t1040.5519157837502\n",
      "With min_samples_leaf:\t32\tMean_RMSLE_Train:\t1016.3228222927835\tMean_RMSLE_Valid:\t1039.8525269831068\n",
      "With min_samples_leaf:\t33\tMean_RMSLE_Train:\t1016.418106738049\tMean_RMSLE_Valid:\t1039.8498119180924\n",
      "With min_samples_leaf:\t34\tMean_RMSLE_Train:\t1016.4746306455247\tMean_RMSLE_Valid:\t1039.9233522422103\n",
      "With min_samples_leaf:\t35\tMean_RMSLE_Train:\t1016.5127620974861\tMean_RMSLE_Valid:\t1039.7825205074766\n",
      "With min_samples_leaf:\t36\tMean_RMSLE_Train:\t1016.663579376251\tMean_RMSLE_Valid:\t1039.5469144265635\n",
      "With min_samples_leaf:\t37\tMean_RMSLE_Train:\t1016.7615831638448\tMean_RMSLE_Valid:\t1039.4176919954416\n",
      "With min_samples_leaf:\t38\tMean_RMSLE_Train:\t1016.778653363798\tMean_RMSLE_Valid:\t1039.5107306826649\n",
      "With min_samples_leaf:\t39\tMean_RMSLE_Train:\t1016.812590699803\tMean_RMSLE_Valid:\t1039.2298552641582\n",
      "With min_samples_leaf:\t40\tMean_RMSLE_Train:\t1016.8693154893978\tMean_RMSLE_Valid:\t1038.6901462895426\n",
      "With min_samples_leaf:\t41\tMean_RMSLE_Train:\t1016.9372934821355\tMean_RMSLE_Valid:\t1038.8208327986154\n",
      "With min_samples_leaf:\t42\tMean_RMSLE_Train:\t1016.993920092296\tMean_RMSLE_Valid:\t1038.5108997548245\n",
      "With min_samples_leaf:\t43\tMean_RMSLE_Train:\t1017.0617624800332\tMean_RMSLE_Valid:\t1038.7247244800353\n",
      "With min_samples_leaf:\t44\tMean_RMSLE_Train:\t1017.1273895135752\tMean_RMSLE_Valid:\t1038.7252095583817\n",
      "With min_samples_leaf:\t45\tMean_RMSLE_Train:\t1017.1628129016405\tMean_RMSLE_Valid:\t1038.772072364565\n",
      "With min_samples_leaf:\t46\tMean_RMSLE_Train:\t1017.209989186108\tMean_RMSLE_Valid:\t1038.7282006436997\n",
      "With min_samples_leaf:\t47\tMean_RMSLE_Train:\t1017.2900536035324\tMean_RMSLE_Valid:\t1038.7810779524723\n",
      "With min_samples_leaf:\t48\tMean_RMSLE_Train:\t1017.3585127943373\tMean_RMSLE_Valid:\t1038.402600581174\n",
      "With min_samples_leaf:\t49\tMean_RMSLE_Train:\t1017.4968314902222\tMean_RMSLE_Valid:\t1038.779946742767\n",
      "With min_samples_leaf:\t50\tMean_RMSLE_Train:\t1017.8321424270831\tMean_RMSLE_Valid:\t1039.3072241150817\n",
      "With min_samples_leaf:\t51\tMean_RMSLE_Train:\t1017.8364986689712\tMean_RMSLE_Valid:\t1039.12374773473\n",
      "With min_samples_leaf:\t52\tMean_RMSLE_Train:\t1017.8880247374752\tMean_RMSLE_Valid:\t1039.7077349480737\n",
      "With min_samples_leaf:\t53\tMean_RMSLE_Train:\t1018.0314962611246\tMean_RMSLE_Valid:\t1039.7567284114907\n",
      "With min_samples_leaf:\t54\tMean_RMSLE_Train:\t1018.1102743928874\tMean_RMSLE_Valid:\t1039.4774554636042\n",
      "With min_samples_leaf:\t55\tMean_RMSLE_Train:\t1018.3072162522765\tMean_RMSLE_Valid:\t1039.5972835615623\n",
      "With min_samples_leaf:\t56\tMean_RMSLE_Train:\t1018.5941697256388\tMean_RMSLE_Valid:\t1039.5757120491492\n",
      "With min_samples_leaf:\t57\tMean_RMSLE_Train:\t1018.634024098223\tMean_RMSLE_Valid:\t1039.4410075995147\n",
      "With min_samples_leaf:\t58\tMean_RMSLE_Train:\t1018.6850365117014\tMean_RMSLE_Valid:\t1039.4880796522743\n",
      "With min_samples_leaf:\t59\tMean_RMSLE_Train:\t1018.7713740842892\tMean_RMSLE_Valid:\t1039.4519343529118\n",
      "With min_samples_leaf:\t60\tMean_RMSLE_Train:\t1018.9548655706728\tMean_RMSLE_Valid:\t1039.801625919608\n",
      "With min_samples_leaf:\t61\tMean_RMSLE_Train:\t1019.0989402613679\tMean_RMSLE_Valid:\t1039.498530487886\n",
      "With min_samples_leaf:\t62\tMean_RMSLE_Train:\t1019.4395722748679\tMean_RMSLE_Valid:\t1039.5126670224977\n",
      "With min_samples_leaf:\t63\tMean_RMSLE_Train:\t1019.5830681624324\tMean_RMSLE_Valid:\t1038.7485816189912\n",
      "With min_samples_leaf:\t64\tMean_RMSLE_Train:\t1019.6582839423976\tMean_RMSLE_Valid:\t1039.0553379705138\n",
      "With min_samples_leaf:\t65\tMean_RMSLE_Train:\t1019.8890633807038\tMean_RMSLE_Valid:\t1038.744859077228\n",
      "With min_samples_leaf:\t66\tMean_RMSLE_Train:\t1020.1602089600722\tMean_RMSLE_Valid:\t1037.8820198502901\n",
      "With min_samples_leaf:\t67\tMean_RMSLE_Train:\t1020.610883105341\tMean_RMSLE_Valid:\t1037.2126989341245\n",
      "With min_samples_leaf:\t68\tMean_RMSLE_Train:\t1020.8070103792368\tMean_RMSLE_Valid:\t1036.4564693938803\n",
      "With min_samples_leaf:\t69\tMean_RMSLE_Train:\t1021.271156919556\tMean_RMSLE_Valid:\t1036.7776811301217\n",
      "With min_samples_leaf:\t70\tMean_RMSLE_Train:\t1021.6078219115849\tMean_RMSLE_Valid:\t1036.8657865227708\n",
      "With min_samples_leaf:\t71\tMean_RMSLE_Train:\t1021.692038404461\tMean_RMSLE_Valid:\t1036.9353915809884\n",
      "With min_samples_leaf:\t72\tMean_RMSLE_Train:\t1021.7351412952366\tMean_RMSLE_Valid:\t1037.030699751603\n",
      "With min_samples_leaf:\t73\tMean_RMSLE_Train:\t1021.8437062450627\tMean_RMSLE_Valid:\t1037.5685690553523\n",
      "With min_samples_leaf:\t74\tMean_RMSLE_Train:\t1021.9227679727271\tMean_RMSLE_Valid:\t1037.6701739694454\n",
      "With min_samples_leaf:\t75\tMean_RMSLE_Train:\t1021.9587905905112\tMean_RMSLE_Valid:\t1037.86396044598\n",
      "With min_samples_leaf:\t76\tMean_RMSLE_Train:\t1021.9794697932218\tMean_RMSLE_Valid:\t1037.8768207322476\n",
      "With min_samples_leaf:\t77\tMean_RMSLE_Train:\t1021.9881048074351\tMean_RMSLE_Valid:\t1037.8415117130826\n",
      "With min_samples_leaf:\t78\tMean_RMSLE_Train:\t1022.0256358653427\tMean_RMSLE_Valid:\t1037.9259297650908\n",
      "With min_samples_leaf:\t79\tMean_RMSLE_Train:\t1022.0295635797231\tMean_RMSLE_Valid:\t1037.9310980684975\n",
      "With min_samples_leaf:\t80\tMean_RMSLE_Train:\t1022.1371367475306\tMean_RMSLE_Valid:\t1037.9696386853082\n",
      "With min_samples_leaf:\t81\tMean_RMSLE_Train:\t1022.150305438521\tMean_RMSLE_Valid:\t1037.9995157745748\n",
      "With min_samples_leaf:\t82\tMean_RMSLE_Train:\t1022.1671657393688\tMean_RMSLE_Valid:\t1038.0020447398788\n",
      "With min_samples_leaf:\t83\tMean_RMSLE_Train:\t1022.1708636964801\tMean_RMSLE_Valid:\t1038.0073333509076\n",
      "With min_samples_leaf:\t84\tMean_RMSLE_Train:\t1022.1902496580699\tMean_RMSLE_Valid:\t1037.5903221568176\n"
     ]
    },
    {
     "name": "stdout",
     "output_type": "stream",
     "text": [
      "With min_samples_leaf:\t85\tMean_RMSLE_Train:\t1022.2009668446244\tMean_RMSLE_Valid:\t1037.4719007158046\n",
      "With min_samples_leaf:\t86\tMean_RMSLE_Train:\t1022.2011135455899\tMean_RMSLE_Valid:\t1037.4717929529859\n",
      "With min_samples_leaf:\t87\tMean_RMSLE_Train:\t1022.2112457293613\tMean_RMSLE_Valid:\t1037.6505866446041\n",
      "With min_samples_leaf:\t88\tMean_RMSLE_Train:\t1022.3777821492349\tMean_RMSLE_Valid:\t1038.3983068872417\n",
      "With min_samples_leaf:\t89\tMean_RMSLE_Train:\t1022.3928998228788\tMean_RMSLE_Valid:\t1038.5388720074443\n",
      "With min_samples_leaf:\t90\tMean_RMSLE_Train:\t1022.6009192623917\tMean_RMSLE_Valid:\t1039.0665107608818\n",
      "With min_samples_leaf:\t91\tMean_RMSLE_Train:\t1022.6478061182139\tMean_RMSLE_Valid:\t1039.001591405006\n",
      "With min_samples_leaf:\t92\tMean_RMSLE_Train:\t1022.6586365767868\tMean_RMSLE_Valid:\t1039.1916021050681\n",
      "With min_samples_leaf:\t93\tMean_RMSLE_Train:\t1022.6985854778059\tMean_RMSLE_Valid:\t1039.1007200897643\n",
      "With min_samples_leaf:\t94\tMean_RMSLE_Train:\t1022.7073543563677\tMean_RMSLE_Valid:\t1039.0962581674235\n",
      "With min_samples_leaf:\t95\tMean_RMSLE_Train:\t1022.8011343384485\tMean_RMSLE_Valid:\t1038.9336604406692\n",
      "With min_samples_leaf:\t96\tMean_RMSLE_Train:\t1022.8271873648844\tMean_RMSLE_Valid:\t1038.997021411833\n",
      "With min_samples_leaf:\t97\tMean_RMSLE_Train:\t1022.8604071112637\tMean_RMSLE_Valid:\t1038.9941109929944\n",
      "With min_samples_leaf:\t98\tMean_RMSLE_Train:\t1022.9223739942415\tMean_RMSLE_Valid:\t1038.9277316845426\n",
      "With min_samples_leaf:\t99\tMean_RMSLE_Train:\t1022.9539823955132\tMean_RMSLE_Valid:\t1038.9237698747731\n"
     ]
    }
   ],
   "source": [
    "leaf_results = min_leaf_score(scaled_df, min_r= 1, max_r= 100)"
   ]
  },
  {
   "cell_type": "code",
   "execution_count": 69,
   "id": "64477347",
   "metadata": {},
   "outputs": [
    {
     "data": {
      "image/png": "[encoded data removed]",
      "text/plain": [
       "<Figure size 1000x300 with 1 Axes>"
      ]
     },
     "metadata": {},
     "output_type": "display_data"
    }
   ],
   "source": [
    "plt.figure(figsize= (10,3), dpi= 100)\n",
    "#sns.lineplot(x= leaf_results['min_leaf'], y= leaf_results['train'], color = 'orange', marker= 'o', label= 'Train')\n",
    "sns.lineplot(x= leaf_results['min_leaf'], y= leaf_results['valid'], color = 'red', marker= 'o', label= 'Valid')\n",
    "plt.xlabel('min_samples_leaf')\n",
    "plt.ylabel('RMSE')\n",
    "plt.legend()\n",
    "plt.show()"
   ]
  },
  {
   "cell_type": "markdown",
   "id": "f8c6e207",
   "metadata": {},
   "source": [
    "At **min_samples_leaf = 67**, the RMSE on validation is lowest **(RMSE= 1037.21)**\n",
    "\n",
    "these are the final hyperparameters for DecisionTreeRegressor:\n",
    "* **max_depth = 6**\n",
    "* **min_samples_split = 20**\n",
    "* **min_samples_leaf = 67**"
   ]
  },
  {
   "cell_type": "code",
   "execution_count": null,
   "id": "b5ca8a39",
   "metadata": {},
   "outputs": [],
   "source": []
  },
  {
   "cell_type": "code",
   "execution_count": null,
   "id": "431bc1ac",
   "metadata": {},
   "outputs": [],
   "source": []
  },
  {
   "cell_type": "code",
   "execution_count": null,
   "id": "2bd32f3d",
   "metadata": {},
   "outputs": [],
   "source": []
  },
  {
   "cell_type": "code",
   "execution_count": null,
   "id": "a17223a4",
   "metadata": {},
   "outputs": [],
   "source": []
  }
 ],
 "metadata": {
  "kernelspec": {
   "display_name": "Python 3 (ipykernel)",
   "language": "python",
   "name": "python3"
  },
  "language_info": {
   "codemirror_mode": {
    "name": "ipython",
    "version": 3
   },
   "file_extension": ".py",
   "mimetype": "text/x-python",
   "name": "python",
   "nbconvert_exporter": "python",
   "pygments_lexer": "ipython3",
   "version": "3.10.9"
  }
 },
 "nbformat": 4,
 "nbformat_minor": 5
}
