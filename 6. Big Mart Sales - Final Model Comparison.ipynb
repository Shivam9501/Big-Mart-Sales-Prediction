{
 "cells": [
  {
   "cell_type": "markdown",
   "id": "dbfa4d3e",
   "metadata": {},
   "source": [
    "# Big Mart Sales - Final Model Comparison\n",
    "\n",
    "After Hyperparameter Tuning we have concluded that, best hyperparameters for:\n",
    "\n",
    "**1. Decision Tree :**\n",
    "* max_depth = 6\n",
    "* min_samples_split = 20\n",
    "* min_samples_leaf = 67\n",
    "\n",
    "**2. Random Forest :**\n",
    "* n_estimators : 260\n",
    "* max_depth : 6\n",
    "* min_samples_split : 5\n",
    "* min_samples_leaf : 24\n",
    "\n",
    "**3. XGBoost :**\n",
    "* n_estimators: 300\n",
    "* max_depth: 4\n",
    "* min_child_weight: 10\n",
    "* gamma: 0\n",
    "* subsample: 0.6\n",
    "\n",
    "Let's calculate and compare the perormance of each model:"
   ]
  },
  {
   "cell_type": "code",
   "execution_count": 1,
   "id": "51c3c572",
   "metadata": {},
   "outputs": [],
   "source": [
    "import numpy as np\n",
    "import pandas as pd\n",
    "import matplotlib.pyplot as plt\n",
    "import seaborn as sns\n",
    "import warnings\n",
    "from tqdm import tqdm, tqdm_notebook\n",
    "\n",
    "from sklearn.model_selection import KFold, train_test_split\n",
    "from sklearn.metrics import mean_squared_error as mse\n",
    "from sklearn.preprocessing import StandardScaler\n",
    "\n",
    "from sklearn.linear_model import LinearRegression\n",
    "from sklearn.tree import DecisionTreeRegressor\n",
    "from sklearn.ensemble import RandomForestRegressor\n",
    "from xgboost import XGBRegressor\n",
    "\n",
    "warnings.filterwarnings('ignore')\n",
    "%matplotlib inline"
   ]
  },
  {
   "cell_type": "code",
   "execution_count": 2,
   "id": "45029f7c",
   "metadata": {},
   "outputs": [],
   "source": [
    "df = pd.read_csv('final_train.csv')"
   ]
  },
  {
   "cell_type": "code",
   "execution_count": 3,
   "id": "60026012",
   "metadata": {},
   "outputs": [
    {
     "data": {
      "text/html": [
       "<div>\n",
       "<style scoped>\n",
       "    .dataframe tbody tr th:only-of-type {\n",
       "        vertical-align: middle;\n",
       "    }\n",
       "\n",
       "    .dataframe tbody tr th {\n",
       "        vertical-align: top;\n",
       "    }\n",
       "\n",
       "    .dataframe thead th {\n",
       "        text-align: right;\n",
       "    }\n",
       "</style>\n",
       "<table border=\"1\" class=\"dataframe\">\n",
       "  <thead>\n",
       "    <tr style=\"text-align: right;\">\n",
       "      <th></th>\n",
       "      <th>Item_Fat_Content</th>\n",
       "      <th>Item_Visibility</th>\n",
       "      <th>Item_MRP</th>\n",
       "      <th>Outlet_Establishment_Year</th>\n",
       "      <th>Outlet_Size</th>\n",
       "      <th>Outlet_Location_Type</th>\n",
       "      <th>Item_Weight_y</th>\n",
       "      <th>Item_Type_Baking Goods</th>\n",
       "      <th>Item_Type_Breads</th>\n",
       "      <th>Item_Type_Breakfast</th>\n",
       "      <th>...</th>\n",
       "      <th>Outlet_Identifier_OUT027</th>\n",
       "      <th>Outlet_Identifier_OUT035</th>\n",
       "      <th>Outlet_Identifier_OUT045</th>\n",
       "      <th>Outlet_Identifier_OUT046</th>\n",
       "      <th>Outlet_Identifier_OUT049</th>\n",
       "      <th>Outlet_Type_Grocery Store</th>\n",
       "      <th>Outlet_Type_Supermarket Type1</th>\n",
       "      <th>Outlet_Type_Supermarket Type2</th>\n",
       "      <th>Outlet_Type_Supermarket Type3</th>\n",
       "      <th>Item_Outlet_Sales</th>\n",
       "    </tr>\n",
       "  </thead>\n",
       "  <tbody>\n",
       "    <tr>\n",
       "      <th>0</th>\n",
       "      <td>-0.737887</td>\n",
       "      <td>-0.970891</td>\n",
       "      <td>1.763875</td>\n",
       "      <td>0.133879</td>\n",
       "      <td>0.285343</td>\n",
       "      <td>-1.365170</td>\n",
       "      <td>-0.768435</td>\n",
       "      <td>-0.28777</td>\n",
       "      <td>-0.174363</td>\n",
       "      <td>-0.114158</td>\n",
       "      <td>...</td>\n",
       "      <td>-0.344522</td>\n",
       "      <td>-0.350919</td>\n",
       "      <td>-0.35007</td>\n",
       "      <td>-0.350495</td>\n",
       "      <td>2.847938</td>\n",
       "      <td>-0.382818</td>\n",
       "      <td>0.723256</td>\n",
       "      <td>-0.350707</td>\n",
       "      <td>-0.344522</td>\n",
       "      <td>3735.1380</td>\n",
       "    </tr>\n",
       "    <tr>\n",
       "      <th>1</th>\n",
       "      <td>1.355222</td>\n",
       "      <td>-0.908348</td>\n",
       "      <td>-1.486518</td>\n",
       "      <td>1.331598</td>\n",
       "      <td>0.285343</td>\n",
       "      <td>1.095912</td>\n",
       "      <td>-1.496059</td>\n",
       "      <td>-0.28777</td>\n",
       "      <td>-0.174363</td>\n",
       "      <td>-0.114158</td>\n",
       "      <td>...</td>\n",
       "      <td>-0.344522</td>\n",
       "      <td>-0.350919</td>\n",
       "      <td>-0.35007</td>\n",
       "      <td>-0.350495</td>\n",
       "      <td>-0.351131</td>\n",
       "      <td>-0.382818</td>\n",
       "      <td>-1.382637</td>\n",
       "      <td>2.851384</td>\n",
       "      <td>-0.344522</td>\n",
       "      <td>443.4228</td>\n",
       "    </tr>\n",
       "  </tbody>\n",
       "</table>\n",
       "<p>2 rows × 38 columns</p>\n",
       "</div>"
      ],
      "text/plain": [
       "   Item_Fat_Content  Item_Visibility  Item_MRP  Outlet_Establishment_Year  \\\n",
       "0         -0.737887        -0.970891  1.763875                   0.133879   \n",
       "1          1.355222        -0.908348 -1.486518                   1.331598   \n",
       "\n",
       "   Outlet_Size  Outlet_Location_Type  Item_Weight_y  Item_Type_Baking Goods  \\\n",
       "0     0.285343             -1.365170      -0.768435                -0.28777   \n",
       "1     0.285343              1.095912      -1.496059                -0.28777   \n",
       "\n",
       "   Item_Type_Breads  Item_Type_Breakfast  ...  Outlet_Identifier_OUT027  \\\n",
       "0         -0.174363            -0.114158  ...                 -0.344522   \n",
       "1         -0.174363            -0.114158  ...                 -0.344522   \n",
       "\n",
       "   Outlet_Identifier_OUT035  Outlet_Identifier_OUT045  \\\n",
       "0                 -0.350919                  -0.35007   \n",
       "1                 -0.350919                  -0.35007   \n",
       "\n",
       "   Outlet_Identifier_OUT046  Outlet_Identifier_OUT049  \\\n",
       "0                 -0.350495                  2.847938   \n",
       "1                 -0.350495                 -0.351131   \n",
       "\n",
       "   Outlet_Type_Grocery Store  Outlet_Type_Supermarket Type1  \\\n",
       "0                  -0.382818                       0.723256   \n",
       "1                  -0.382818                      -1.382637   \n",
       "\n",
       "   Outlet_Type_Supermarket Type2  Outlet_Type_Supermarket Type3  \\\n",
       "0                      -0.350707                      -0.344522   \n",
       "1                       2.851384                      -0.344522   \n",
       "\n",
       "   Item_Outlet_Sales  \n",
       "0          3735.1380  \n",
       "1           443.4228  \n",
       "\n",
       "[2 rows x 38 columns]"
      ]
     },
     "execution_count": 3,
     "metadata": {},
     "output_type": "execute_result"
    }
   ],
   "source": [
    "# LEt's seggregate the target and independent variables first\n",
    "X = df.drop(columns= 'Item_Outlet_Sales', axis=1)\n",
    "Y = df['Item_Outlet_Sales']\n",
    "\n",
    "# Let's scale the independent variables and store them in a dataframe\n",
    "ss = StandardScaler()\n",
    "X_scaled = ss.fit_transform(X)\n",
    "x = pd.DataFrame(X_scaled, columns= X.columns)\n",
    "\n",
    "# merge the independent and target variables to create a new dataframe with scaled features\n",
    "scaled_df= pd.concat([x,Y], axis=1)\n",
    "scaled_df.head(2)"
   ]
  },
  {
   "cell_type": "markdown",
   "id": "9076a64e",
   "metadata": {},
   "source": [
    "Let's define the function to calculate the train-validation RMSE."
   ]
  },
  {
   "cell_type": "code",
   "execution_count": 4,
   "id": "8498ae0e",
   "metadata": {},
   "outputs": [],
   "source": [
    "def baseline_score(model, data, k= 2):\n",
    "    \n",
    "    X = data.drop(columns = 'Item_Outlet_Sales', axis= 1)\n",
    "    Y = data['Item_Outlet_Sales']\n",
    "    \n",
    "    KF = KFold(n_splits= k, shuffle= True, random_state= 0)\n",
    "    train_score = []\n",
    "    val_score = []\n",
    "    \n",
    "    \n",
    "    for i, (train_index, val_index) in enumerate(KF.split(X, Y)):\n",
    "        print('{} of KFold {}'.format((i+1), KF.n_splits))\n",
    "        xtr, xval = X.iloc[train_index], X.iloc[val_index]\n",
    "        ytr, yval = Y.iloc[train_index], Y.iloc[val_index]\n",
    "        \n",
    "        \n",
    "        model.fit(xtr, ytr)\n",
    "\n",
    "        train_preds = model.predict(xtr)\n",
    "        val_preds = model.predict(xval)\n",
    "\n",
    "        train_rmse = np.sqrt(mse(ytr, train_preds))\n",
    "        val_rmse = np.sqrt(mse(yval, val_preds))\n",
    "\n",
    "        print('RMSE on Train: {}'.format(train_rmse))\n",
    "        print('RMSE on Valid: {}'.format(val_rmse))\n",
    "        print('====================================================================')\n",
    "        \n",
    "        train_score.append(train_rmse)\n",
    "        val_score.append(val_rmse)\n",
    "\n",
    "    print('Mean RMSE on Training: {}'.format(np.mean(train_score)))\n",
    "    print('Mean RMSE on Validation: {}'.format(np.mean(val_score)))\n",
    "    mean_val_rmse = np.mean(val_score)\n",
    "    \n",
    "    return mean_val_rmse"
   ]
  },
  {
   "cell_type": "markdown",
   "id": "c72d43a1",
   "metadata": {},
   "source": [
    "Let's compare all the models with their tuned hyperparameters. We had made predictions on these models:\n",
    "* Linear Regression\n",
    "* Decision Tree\n",
    "* Random Forest\n",
    "* XGBoost\n",
    "\n",
    "### 1. Linear Regression"
   ]
  },
  {
   "cell_type": "code",
   "execution_count": 5,
   "id": "e21340de",
   "metadata": {},
   "outputs": [],
   "source": [
    "LR = LinearRegression()"
   ]
  },
  {
   "cell_type": "code",
   "execution_count": 6,
   "id": "fdf167b5",
   "metadata": {},
   "outputs": [
    {
     "name": "stdout",
     "output_type": "stream",
     "text": [
      "1 of KFold 5\n",
      "RMSE on Train: 1080.4710322357055\n",
      "RMSE on Valid: 1052.4251438002075\n",
      "====================================================================\n",
      "2 of KFold 5\n",
      "RMSE on Train: 1074.3904881431336\n",
      "RMSE on Valid: 1073.3301897977872\n",
      "====================================================================\n",
      "3 of KFold 5\n",
      "RMSE on Train: 1071.3205754235419\n",
      "RMSE on Valid: 1088.1794877938582\n",
      "====================================================================\n",
      "4 of KFold 5\n",
      "RMSE on Train: 1071.401944691728\n",
      "RMSE on Valid: 1086.4735456147216\n",
      "====================================================================\n",
      "5 of KFold 5\n",
      "RMSE on Train: 1071.5592569705025\n",
      "RMSE on Valid: 1086.0045680357437\n",
      "====================================================================\n",
      "Mean RMSE on Training: 1073.8286594929223\n",
      "Mean RMSE on Validation: 1077.2825870084637\n"
     ]
    }
   ],
   "source": [
    "LR_score = baseline_score(LR, scaled_df, k= 5)"
   ]
  },
  {
   "cell_type": "code",
   "execution_count": null,
   "id": "779b43eb",
   "metadata": {},
   "outputs": [],
   "source": []
  },
  {
   "cell_type": "markdown",
   "id": "50e642d8",
   "metadata": {},
   "source": [
    "### 2. DecisionTree"
   ]
  },
  {
   "cell_type": "code",
   "execution_count": 7,
   "id": "b5a169d6",
   "metadata": {},
   "outputs": [],
   "source": [
    "DT = DecisionTreeRegressor(random_state= 0, \n",
    "                                     max_depth= 6,\n",
    "                                     min_samples_split= 20,\n",
    "                                     min_samples_leaf= 67)"
   ]
  },
  {
   "cell_type": "code",
   "execution_count": 8,
   "id": "8f2de863",
   "metadata": {},
   "outputs": [
    {
     "name": "stdout",
     "output_type": "stream",
     "text": [
      "1 of KFold 5\n",
      "RMSE on Train: 1026.5832548003418\n",
      "RMSE on Valid: 1020.7823523916912\n",
      "====================================================================\n",
      "2 of KFold 5\n",
      "RMSE on Train: 1022.6600875022632\n",
      "RMSE on Valid: 1023.8692980733765\n",
      "====================================================================\n",
      "3 of KFold 5\n",
      "RMSE on Train: 1017.4399188234758\n",
      "RMSE on Valid: 1049.1545075189122\n",
      "====================================================================\n",
      "4 of KFold 5\n",
      "RMSE on Train: 1018.697125059028\n",
      "RMSE on Valid: 1048.6840245248893\n",
      "====================================================================\n",
      "5 of KFold 5\n",
      "RMSE on Train: 1017.6740293415962\n",
      "RMSE on Valid: 1043.5733121617538\n",
      "====================================================================\n",
      "Mean RMSE on Training: 1020.610883105341\n",
      "Mean RMSE on Validation: 1037.2126989341245\n"
     ]
    }
   ],
   "source": [
    "DT_score = baseline_score(DT, scaled_df, k= 5)"
   ]
  },
  {
   "cell_type": "code",
   "execution_count": 30,
   "id": "d08152d7",
   "metadata": {},
   "outputs": [
    {
     "data": {
      "text/plain": [
       "Text(0.5, 1.0, 'Feature Importance Decision Tree')"
      ]
     },
     "execution_count": 30,
     "metadata": {},
     "output_type": "execute_result"
    },
    {
     "data": {
      "image/png": "[encoded data removed]",
      "text/plain": [
       "<Figure size 1000x300 with 1 Axes>"
      ]
     },
     "metadata": {},
     "output_type": "display_data"
    }
   ],
   "source": [
    "plt.figure(figsize= (10,3), dpi= 100)\n",
    "pd.Series(DT.feature_importances_, index = x.columns).nlargest(10).plot(kind= 'bar')\n",
    "plt.xlabel('Features')\n",
    "plt.title('Feature Importance Decision Tree')"
   ]
  },
  {
   "cell_type": "markdown",
   "id": "8b0da955",
   "metadata": {},
   "source": [
    "### 3. RandomForest"
   ]
  },
  {
   "cell_type": "code",
   "execution_count": 9,
   "id": "92658ace",
   "metadata": {},
   "outputs": [],
   "source": [
    "RF = RandomForestRegressor(random_state= 0,\n",
    "                                     n_estimators= 260,\n",
    "                                     max_depth= 6,\n",
    "                                     min_samples_split= 5,\n",
    "                                     min_samples_leaf= 24)"
   ]
  },
  {
   "cell_type": "code",
   "execution_count": 10,
   "id": "2a965f4d",
   "metadata": {},
   "outputs": [
    {
     "name": "stdout",
     "output_type": "stream",
     "text": [
      "1 of KFold 5\n",
      "RMSE on Train: 1011.0958819747731\n",
      "RMSE on Valid: 1017.9792474039918\n",
      "====================================================================\n",
      "2 of KFold 5\n",
      "RMSE on Train: 1012.8055300684744\n",
      "RMSE on Valid: 1019.3662494005087\n",
      "====================================================================\n",
      "3 of KFold 5\n",
      "RMSE on Train: 1006.2790306039168\n",
      "RMSE on Valid: 1044.483482299538\n",
      "====================================================================\n",
      "4 of KFold 5\n",
      "RMSE on Train: 1006.8822681905702\n",
      "RMSE on Valid: 1041.0594555293137\n",
      "====================================================================\n",
      "5 of KFold 5\n",
      "RMSE on Train: 1007.401737369262\n",
      "RMSE on Valid: 1037.8103732334537\n",
      "====================================================================\n",
      "Mean RMSE on Training: 1008.8928896413994\n",
      "Mean RMSE on Validation: 1032.1397615733613\n"
     ]
    }
   ],
   "source": [
    "RF_score = baseline_score(RF, scaled_df, k= 5)"
   ]
  },
  {
   "cell_type": "code",
   "execution_count": 28,
   "id": "3e6d63ee",
   "metadata": {},
   "outputs": [
    {
     "data": {
      "text/plain": [
       "Text(0.5, 1.0, 'Feature Importance Random Forest')"
      ]
     },
     "execution_count": 28,
     "metadata": {},
     "output_type": "execute_result"
    },
    {
     "data": {
      "image/png": "[encoded data removed]",
      "text/plain": [
       "<Figure size 1000x300 with 1 Axes>"
      ]
     },
     "metadata": {},
     "output_type": "display_data"
    }
   ],
   "source": [
    "plt.figure(figsize= (10,3), dpi= 100)\n",
    "pd.Series(RF.feature_importances_, index = x.columns).nlargest(10).plot(kind= 'bar')\n",
    "plt.xlabel('Features')\n",
    "plt.title('Feature Importance Random Forest')"
   ]
  },
  {
   "cell_type": "markdown",
   "id": "ba2e32de",
   "metadata": {},
   "source": [
    "### 4. XGBoost"
   ]
  },
  {
   "cell_type": "code",
   "execution_count": 11,
   "id": "b5bb29f4",
   "metadata": {},
   "outputs": [],
   "source": [
    "XGB = XGBRegressor(n_estimators = 300,\n",
    "                                 max_depth = 4,\n",
    "                                    learning_rate = 0.01,\n",
    "                                 min_child_weight = 10,\n",
    "                                 gamma = 0,\n",
    "                                 subsample= 0.6,\n",
    "                                    n_jobs = 4,\n",
    "                                    random_state = 0,\n",
    "                                    objective = 'reg:squarederror')"
   ]
  },
  {
   "cell_type": "code",
   "execution_count": 12,
   "id": "f221edb3",
   "metadata": {},
   "outputs": [
    {
     "name": "stdout",
     "output_type": "stream",
     "text": [
      "1 of KFold 5\n",
      "RMSE on Train: 1019.8857988705249\n",
      "RMSE on Valid: 1013.2917049324794\n",
      "====================================================================\n",
      "2 of KFold 5\n",
      "RMSE on Train: 1020.3720915154416\n",
      "RMSE on Valid: 1032.699712007009\n",
      "====================================================================\n",
      "3 of KFold 5\n",
      "RMSE on Train: 1014.5244971554223\n",
      "RMSE on Valid: 1051.7745774161322\n",
      "====================================================================\n",
      "4 of KFold 5\n",
      "RMSE on Train: 1015.796765323943\n",
      "RMSE on Valid: 1046.8942293096331\n",
      "====================================================================\n",
      "5 of KFold 5\n",
      "RMSE on Train: 1015.837788787291\n",
      "RMSE on Valid: 1041.6030922545863\n",
      "====================================================================\n",
      "Mean RMSE on Training: 1017.2833883305245\n",
      "Mean RMSE on Validation: 1037.252663183968\n"
     ]
    }
   ],
   "source": [
    "XGB_score = baseline_score(XGB, scaled_df, k= 5)"
   ]
  },
  {
   "cell_type": "code",
   "execution_count": 29,
   "id": "834b3e12",
   "metadata": {},
   "outputs": [
    {
     "data": {
      "text/plain": [
       "Text(0.5, 1.0, 'Feature Importance XGBoost')"
      ]
     },
     "execution_count": 29,
     "metadata": {},
     "output_type": "execute_result"
    },
    {
     "data": {
      "image/png": "[encoded data removed]",
      "text/plain": [
       "<Figure size 1000x300 with 1 Axes>"
      ]
     },
     "metadata": {},
     "output_type": "display_data"
    }
   ],
   "source": [
    "plt.figure(figsize= (10,3), dpi= 100)\n",
    "pd.Series(XGB.feature_importances_, index = x.columns).nlargest(10).plot(kind= 'bar')\n",
    "plt.xlabel('Features')\n",
    "plt.title('Feature Importance XGBoost')"
   ]
  },
  {
   "cell_type": "code",
   "execution_count": 13,
   "id": "cf8cd5e8",
   "metadata": {},
   "outputs": [
    {
     "data": {
      "text/html": [
       "<div>\n",
       "<style scoped>\n",
       "    .dataframe tbody tr th:only-of-type {\n",
       "        vertical-align: middle;\n",
       "    }\n",
       "\n",
       "    .dataframe tbody tr th {\n",
       "        vertical-align: top;\n",
       "    }\n",
       "\n",
       "    .dataframe thead th {\n",
       "        text-align: right;\n",
       "    }\n",
       "</style>\n",
       "<table border=\"1\" class=\"dataframe\">\n",
       "  <thead>\n",
       "    <tr style=\"text-align: right;\">\n",
       "      <th></th>\n",
       "      <th>LR</th>\n",
       "      <th>DT</th>\n",
       "      <th>RF</th>\n",
       "      <th>XGB</th>\n",
       "    </tr>\n",
       "  </thead>\n",
       "  <tbody>\n",
       "    <tr>\n",
       "      <th>0</th>\n",
       "      <td>1077.282587</td>\n",
       "      <td>1037.212699</td>\n",
       "      <td>1032.139762</td>\n",
       "      <td>1037.252663</td>\n",
       "    </tr>\n",
       "  </tbody>\n",
       "</table>\n",
       "</div>"
      ],
      "text/plain": [
       "            LR           DT           RF          XGB\n",
       "0  1077.282587  1037.212699  1032.139762  1037.252663"
      ]
     },
     "execution_count": 13,
     "metadata": {},
     "output_type": "execute_result"
    }
   ],
   "source": [
    "a = ({'LR': LR_score,\n",
    "      'DT': DT_score,\n",
    "      'RF': RF_score,\n",
    "      'XGB': XGB_score})\n",
    "a= pd.DataFrame([a])\n",
    "a"
   ]
  },
  {
   "cell_type": "code",
   "execution_count": 14,
   "id": "6d6bc5d6",
   "metadata": {},
   "outputs": [
    {
     "data": {
      "text/plain": [
       "<Figure size 100x100 with 0 Axes>"
      ]
     },
     "metadata": {},
     "output_type": "display_data"
    },
    {
     "data": {
      "image/png": "[encoded data removed]",
      "text/plain": [
       "<Figure size 640x480 with 1 Axes>"
      ]
     },
     "metadata": {},
     "output_type": "display_data"
    }
   ],
   "source": [
    "plt.figure(figsize=(1,1), dpi= 100)\n",
    "a.plot(kind= 'bar')\n",
    "plt.legend(bbox_to_anchor=(1.05, 1), loc=2, borderaxespad=0.)\n",
    "plt.ylabel('RMSE')\n",
    "plt.show()"
   ]
  },
  {
   "cell_type": "markdown",
   "id": "846ca930",
   "metadata": {},
   "source": [
    "# TEST PREDICTIONS\n",
    "\n",
    "finally we will use the Random Forest Model to predict the results, as it has given us the Lowest RMSE."
   ]
  },
  {
   "cell_type": "code",
   "execution_count": 61,
   "id": "79450a48",
   "metadata": {},
   "outputs": [
    {
     "data": {
      "text/plain": [
       "((5681, 37), (5681, 11))"
      ]
     },
     "execution_count": 61,
     "metadata": {},
     "output_type": "execute_result"
    }
   ],
   "source": [
    "test_df = pd.read_csv('final_test.csv')\n",
    "test_raw = pd.read_csv('bigmart_test.csv')\n",
    "test_df.shape, test_raw.shape"
   ]
  },
  {
   "cell_type": "code",
   "execution_count": 56,
   "id": "8903b7eb",
   "metadata": {},
   "outputs": [
    {
     "data": {
      "text/html": [
       "<div>\n",
       "<style scoped>\n",
       "    .dataframe tbody tr th:only-of-type {\n",
       "        vertical-align: middle;\n",
       "    }\n",
       "\n",
       "    .dataframe tbody tr th {\n",
       "        vertical-align: top;\n",
       "    }\n",
       "\n",
       "    .dataframe thead th {\n",
       "        text-align: right;\n",
       "    }\n",
       "</style>\n",
       "<table border=\"1\" class=\"dataframe\">\n",
       "  <thead>\n",
       "    <tr style=\"text-align: right;\">\n",
       "      <th></th>\n",
       "      <th>Item_Fat_Content</th>\n",
       "      <th>Item_Visibility</th>\n",
       "      <th>Item_MRP</th>\n",
       "      <th>Outlet_Establishment_Year</th>\n",
       "      <th>Outlet_Size</th>\n",
       "      <th>Outlet_Location_Type</th>\n",
       "      <th>Item_Weight_y</th>\n",
       "      <th>Item_Type_Baking Goods</th>\n",
       "      <th>Item_Type_Breads</th>\n",
       "      <th>Item_Type_Breakfast</th>\n",
       "      <th>...</th>\n",
       "      <th>Outlet_Identifier_OUT019</th>\n",
       "      <th>Outlet_Identifier_OUT027</th>\n",
       "      <th>Outlet_Identifier_OUT035</th>\n",
       "      <th>Outlet_Identifier_OUT045</th>\n",
       "      <th>Outlet_Identifier_OUT046</th>\n",
       "      <th>Outlet_Identifier_OUT049</th>\n",
       "      <th>Outlet_Type_Grocery Store</th>\n",
       "      <th>Outlet_Type_Supermarket Type1</th>\n",
       "      <th>Outlet_Type_Supermarket Type2</th>\n",
       "      <th>Outlet_Type_Supermarket Type3</th>\n",
       "    </tr>\n",
       "  </thead>\n",
       "  <tbody>\n",
       "    <tr>\n",
       "      <th>0</th>\n",
       "      <td>-0.740811</td>\n",
       "      <td>-1.134077</td>\n",
       "      <td>-0.536555</td>\n",
       "      <td>0.139891</td>\n",
       "      <td>0.284737</td>\n",
       "      <td>-1.369215</td>\n",
       "      <td>1.736744</td>\n",
       "      <td>-0.289033</td>\n",
       "      <td>-0.172954</td>\n",
       "      <td>-0.116445</td>\n",
       "      <td>...</td>\n",
       "      <td>-0.257009</td>\n",
       "      <td>-0.351274</td>\n",
       "      <td>-0.350008</td>\n",
       "      <td>-0.349691</td>\n",
       "      <td>-0.350008</td>\n",
       "      <td>2.857079</td>\n",
       "      <td>-0.381568</td>\n",
       "      <td>0.726900</td>\n",
       "      <td>-0.349374</td>\n",
       "      <td>-0.351274</td>\n",
       "    </tr>\n",
       "    <tr>\n",
       "      <th>1</th>\n",
       "      <td>1.349873</td>\n",
       "      <td>-0.531850</td>\n",
       "      <td>-0.868937</td>\n",
       "      <td>1.095512</td>\n",
       "      <td>0.284737</td>\n",
       "      <td>-0.138827</td>\n",
       "      <td>-0.941284</td>\n",
       "      <td>-0.289033</td>\n",
       "      <td>-0.172954</td>\n",
       "      <td>-0.116445</td>\n",
       "      <td>...</td>\n",
       "      <td>-0.257009</td>\n",
       "      <td>-0.351274</td>\n",
       "      <td>-0.350008</td>\n",
       "      <td>-0.349691</td>\n",
       "      <td>-0.350008</td>\n",
       "      <td>-0.350008</td>\n",
       "      <td>-0.381568</td>\n",
       "      <td>0.726900</td>\n",
       "      <td>-0.349374</td>\n",
       "      <td>-0.351274</td>\n",
       "    </tr>\n",
       "    <tr>\n",
       "      <th>2</th>\n",
       "      <td>-0.740811</td>\n",
       "      <td>0.661316</td>\n",
       "      <td>1.629848</td>\n",
       "      <td>0.020438</td>\n",
       "      <td>0.284737</td>\n",
       "      <td>1.091560</td>\n",
       "      <td>0.413863</td>\n",
       "      <td>-0.289033</td>\n",
       "      <td>-0.172954</td>\n",
       "      <td>-0.116445</td>\n",
       "      <td>...</td>\n",
       "      <td>-0.257009</td>\n",
       "      <td>-0.351274</td>\n",
       "      <td>-0.350008</td>\n",
       "      <td>-0.349691</td>\n",
       "      <td>-0.350008</td>\n",
       "      <td>-0.350008</td>\n",
       "      <td>2.620767</td>\n",
       "      <td>-1.375706</td>\n",
       "      <td>-0.349374</td>\n",
       "      <td>-0.351274</td>\n",
       "    </tr>\n",
       "    <tr>\n",
       "      <th>3</th>\n",
       "      <td>-0.740811</td>\n",
       "      <td>-0.981416</td>\n",
       "      <td>0.226697</td>\n",
       "      <td>1.095512</td>\n",
       "      <td>0.284737</td>\n",
       "      <td>-0.138827</td>\n",
       "      <td>-1.153160</td>\n",
       "      <td>-0.289033</td>\n",
       "      <td>-0.172954</td>\n",
       "      <td>-0.116445</td>\n",
       "      <td>...</td>\n",
       "      <td>-0.257009</td>\n",
       "      <td>-0.351274</td>\n",
       "      <td>-0.350008</td>\n",
       "      <td>-0.349691</td>\n",
       "      <td>-0.350008</td>\n",
       "      <td>-0.350008</td>\n",
       "      <td>-0.381568</td>\n",
       "      <td>0.726900</td>\n",
       "      <td>-0.349374</td>\n",
       "      <td>-0.351274</td>\n",
       "    </tr>\n",
       "    <tr>\n",
       "      <th>4</th>\n",
       "      <td>1.349873</td>\n",
       "      <td>1.032540</td>\n",
       "      <td>1.508110</td>\n",
       "      <td>-1.532446</td>\n",
       "      <td>0.284737</td>\n",
       "      <td>1.091560</td>\n",
       "      <td>0.198760</td>\n",
       "      <td>-0.289033</td>\n",
       "      <td>-0.172954</td>\n",
       "      <td>-0.116445</td>\n",
       "      <td>...</td>\n",
       "      <td>-0.257009</td>\n",
       "      <td>2.846782</td>\n",
       "      <td>-0.350008</td>\n",
       "      <td>-0.349691</td>\n",
       "      <td>-0.350008</td>\n",
       "      <td>-0.350008</td>\n",
       "      <td>-0.381568</td>\n",
       "      <td>-1.375706</td>\n",
       "      <td>-0.349374</td>\n",
       "      <td>2.846782</td>\n",
       "    </tr>\n",
       "  </tbody>\n",
       "</table>\n",
       "<p>5 rows × 37 columns</p>\n",
       "</div>"
      ],
      "text/plain": [
       "   Item_Fat_Content  Item_Visibility  Item_MRP  Outlet_Establishment_Year  \\\n",
       "0         -0.740811        -1.134077 -0.536555                   0.139891   \n",
       "1          1.349873        -0.531850 -0.868937                   1.095512   \n",
       "2         -0.740811         0.661316  1.629848                   0.020438   \n",
       "3         -0.740811        -0.981416  0.226697                   1.095512   \n",
       "4          1.349873         1.032540  1.508110                  -1.532446   \n",
       "\n",
       "   Outlet_Size  Outlet_Location_Type  Item_Weight_y  Item_Type_Baking Goods  \\\n",
       "0     0.284737             -1.369215       1.736744               -0.289033   \n",
       "1     0.284737             -0.138827      -0.941284               -0.289033   \n",
       "2     0.284737              1.091560       0.413863               -0.289033   \n",
       "3     0.284737             -0.138827      -1.153160               -0.289033   \n",
       "4     0.284737              1.091560       0.198760               -0.289033   \n",
       "\n",
       "   Item_Type_Breads  Item_Type_Breakfast  ...  Outlet_Identifier_OUT019  \\\n",
       "0         -0.172954            -0.116445  ...                 -0.257009   \n",
       "1         -0.172954            -0.116445  ...                 -0.257009   \n",
       "2         -0.172954            -0.116445  ...                 -0.257009   \n",
       "3         -0.172954            -0.116445  ...                 -0.257009   \n",
       "4         -0.172954            -0.116445  ...                 -0.257009   \n",
       "\n",
       "   Outlet_Identifier_OUT027  Outlet_Identifier_OUT035  \\\n",
       "0                 -0.351274                 -0.350008   \n",
       "1                 -0.351274                 -0.350008   \n",
       "2                 -0.351274                 -0.350008   \n",
       "3                 -0.351274                 -0.350008   \n",
       "4                  2.846782                 -0.350008   \n",
       "\n",
       "   Outlet_Identifier_OUT045  Outlet_Identifier_OUT046  \\\n",
       "0                 -0.349691                 -0.350008   \n",
       "1                 -0.349691                 -0.350008   \n",
       "2                 -0.349691                 -0.350008   \n",
       "3                 -0.349691                 -0.350008   \n",
       "4                 -0.349691                 -0.350008   \n",
       "\n",
       "   Outlet_Identifier_OUT049  Outlet_Type_Grocery Store  \\\n",
       "0                  2.857079                  -0.381568   \n",
       "1                 -0.350008                  -0.381568   \n",
       "2                 -0.350008                   2.620767   \n",
       "3                 -0.350008                  -0.381568   \n",
       "4                 -0.350008                  -0.381568   \n",
       "\n",
       "   Outlet_Type_Supermarket Type1  Outlet_Type_Supermarket Type2  \\\n",
       "0                       0.726900                      -0.349374   \n",
       "1                       0.726900                      -0.349374   \n",
       "2                      -1.375706                      -0.349374   \n",
       "3                       0.726900                      -0.349374   \n",
       "4                      -1.375706                      -0.349374   \n",
       "\n",
       "   Outlet_Type_Supermarket Type3  \n",
       "0                      -0.351274  \n",
       "1                      -0.351274  \n",
       "2                      -0.351274  \n",
       "3                      -0.351274  \n",
       "4                       2.846782  \n",
       "\n",
       "[5 rows x 37 columns]"
      ]
     },
     "execution_count": 56,
     "metadata": {},
     "output_type": "execute_result"
    }
   ],
   "source": [
    "ss= StandardScaler()\n",
    "\n",
    "test_array = ss.fit_transform(test_df)\n",
    "\n",
    "scaled_test = pd.DataFrame(test_array, columns= test_df.columns)\n",
    "scaled_test.head()"
   ]
  },
  {
   "cell_type": "code",
   "execution_count": 67,
   "id": "49782e8a",
   "metadata": {},
   "outputs": [],
   "source": [
    "rf_preds = RF.predict(scaled_test)\n",
    "\n",
    "preds = pd.DataFrame(rf_preds, columns= ['Item_Outlet_Sales'])"
   ]
  },
  {
   "cell_type": "code",
   "execution_count": 69,
   "id": "d1c0d9a8",
   "metadata": {},
   "outputs": [
    {
     "data": {
      "text/plain": [
       "(5681, 12)"
      ]
     },
     "execution_count": 69,
     "metadata": {},
     "output_type": "execute_result"
    }
   ],
   "source": [
    "pred_df = pd.concat([test_raw, preds], axis= 1)\n",
    "pred_df.shape"
   ]
  },
  {
   "cell_type": "code",
   "execution_count": 73,
   "id": "bb040108",
   "metadata": {},
   "outputs": [],
   "source": [
    "pred_df.drop(columns= ['Item_Weight', 'Item_Fat_Content', 'Item_Visibility',\n",
    "       'Item_Type', 'Item_MRP',\n",
    "       'Outlet_Establishment_Year', 'Outlet_Size', 'Outlet_Location_Type',\n",
    "       'Outlet_Type'], axis=1, inplace= True)"
   ]
  },
  {
   "cell_type": "code",
   "execution_count": 75,
   "id": "a0e6ae85",
   "metadata": {},
   "outputs": [],
   "source": [
    "pred_df.to_csv('bigmart_preds.csv', index= False)"
   ]
  },
  {
   "cell_type": "code",
   "execution_count": 79,
   "id": "b45468bc",
   "metadata": {},
   "outputs": [
    {
     "data": {
      "text/html": [
       "<div>\n",
       "<style scoped>\n",
       "    .dataframe tbody tr th:only-of-type {\n",
       "        vertical-align: middle;\n",
       "    }\n",
       "\n",
       "    .dataframe tbody tr th {\n",
       "        vertical-align: top;\n",
       "    }\n",
       "\n",
       "    .dataframe thead th {\n",
       "        text-align: right;\n",
       "    }\n",
       "</style>\n",
       "<table border=\"1\" class=\"dataframe\">\n",
       "  <thead>\n",
       "    <tr style=\"text-align: right;\">\n",
       "      <th></th>\n",
       "      <th>Item_Identifier</th>\n",
       "      <th>Outlet_Identifier</th>\n",
       "      <th>Item_Outlet_Sales</th>\n",
       "    </tr>\n",
       "  </thead>\n",
       "  <tbody>\n",
       "    <tr>\n",
       "      <th>0</th>\n",
       "      <td>FDW58</td>\n",
       "      <td>OUT049</td>\n",
       "      <td>1659.252949</td>\n",
       "    </tr>\n",
       "    <tr>\n",
       "      <th>1</th>\n",
       "      <td>FDW14</td>\n",
       "      <td>OUT017</td>\n",
       "      <td>1347.077043</td>\n",
       "    </tr>\n",
       "    <tr>\n",
       "      <th>2</th>\n",
       "      <td>NCN55</td>\n",
       "      <td>OUT010</td>\n",
       "      <td>612.210450</td>\n",
       "    </tr>\n",
       "    <tr>\n",
       "      <th>3</th>\n",
       "      <td>FDQ58</td>\n",
       "      <td>OUT017</td>\n",
       "      <td>2467.302777</td>\n",
       "    </tr>\n",
       "    <tr>\n",
       "      <th>4</th>\n",
       "      <td>FDY38</td>\n",
       "      <td>OUT027</td>\n",
       "      <td>5422.758213</td>\n",
       "    </tr>\n",
       "    <tr>\n",
       "      <th>...</th>\n",
       "      <td>...</td>\n",
       "      <td>...</td>\n",
       "      <td>...</td>\n",
       "    </tr>\n",
       "    <tr>\n",
       "      <th>5676</th>\n",
       "      <td>FDB58</td>\n",
       "      <td>OUT046</td>\n",
       "      <td>2145.529202</td>\n",
       "    </tr>\n",
       "    <tr>\n",
       "      <th>5677</th>\n",
       "      <td>FDD47</td>\n",
       "      <td>OUT018</td>\n",
       "      <td>2567.607318</td>\n",
       "    </tr>\n",
       "    <tr>\n",
       "      <th>5678</th>\n",
       "      <td>NCO17</td>\n",
       "      <td>OUT045</td>\n",
       "      <td>1917.509939</td>\n",
       "    </tr>\n",
       "    <tr>\n",
       "      <th>5679</th>\n",
       "      <td>FDJ26</td>\n",
       "      <td>OUT017</td>\n",
       "      <td>3617.022418</td>\n",
       "    </tr>\n",
       "    <tr>\n",
       "      <th>5680</th>\n",
       "      <td>FDU37</td>\n",
       "      <td>OUT045</td>\n",
       "      <td>1271.290034</td>\n",
       "    </tr>\n",
       "  </tbody>\n",
       "</table>\n",
       "<p>5681 rows × 3 columns</p>\n",
       "</div>"
      ],
      "text/plain": [
       "     Item_Identifier Outlet_Identifier  Item_Outlet_Sales\n",
       "0              FDW58            OUT049        1659.252949\n",
       "1              FDW14            OUT017        1347.077043\n",
       "2              NCN55            OUT010         612.210450\n",
       "3              FDQ58            OUT017        2467.302777\n",
       "4              FDY38            OUT027        5422.758213\n",
       "...              ...               ...                ...\n",
       "5676           FDB58            OUT046        2145.529202\n",
       "5677           FDD47            OUT018        2567.607318\n",
       "5678           NCO17            OUT045        1917.509939\n",
       "5679           FDJ26            OUT017        3617.022418\n",
       "5680           FDU37            OUT045        1271.290034\n",
       "\n",
       "[5681 rows x 3 columns]"
      ]
     },
     "execution_count": 79,
     "metadata": {},
     "output_type": "execute_result"
    }
   ],
   "source": [
    "pred_df"
   ]
  },
  {
   "cell_type": "code",
   "execution_count": null,
   "id": "efaf574a",
   "metadata": {},
   "outputs": [],
   "source": []
  }
 ],
 "metadata": {
  "kernelspec": {
   "display_name": "Python 3 (ipykernel)",
   "language": "python",
   "name": "python3"
  },
  "language_info": {
   "codemirror_mode": {
    "name": "ipython",
    "version": 3
   },
   "file_extension": ".py",
   "mimetype": "text/x-python",
   "name": "python",
   "nbconvert_exporter": "python",
   "pygments_lexer": "ipython3",
   "version": "3.10.9"
  }
 },
 "nbformat": 4,
 "nbformat_minor": 5
}
