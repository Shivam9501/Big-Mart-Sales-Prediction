{
 "cells": [
  {
   "cell_type": "markdown",
   "id": "4778ae8b",
   "metadata": {},
   "source": [
    "# BigMart - Baseline Model and Validation Strategy"
   ]
  },
  {
   "cell_type": "code",
   "execution_count": 1,
   "id": "26d87dca",
   "metadata": {},
   "outputs": [],
   "source": [
    "import numpy as np\n",
    "import pandas as pd\n",
    "import matplotlib.pyplot as plt\n",
    "import seaborn as sns\n",
    "import warnings\n",
    "from tqdm import tqdm\n",
    "\n",
    "from sklearn.model_selection import KFold, train_test_split\n",
    "from sklearn.metrics import mean_squared_error as mse\n",
    "from sklearn.preprocessing import StandardScaler\n",
    "\n",
    "from sklearn.linear_model import LinearRegression\n",
    "from sklearn.tree import DecisionTreeRegressor\n",
    "from sklearn.ensemble import RandomForestRegressor\n",
    "from xgboost import XGBRegressor\n",
    "\n",
    "warnings.filterwarnings('ignore')\n",
    "%matplotlib inline"
   ]
  },
  {
   "cell_type": "code",
   "execution_count": 2,
   "id": "ec5a395b",
   "metadata": {},
   "outputs": [
    {
     "data": {
      "text/plain": [
       "(8473, 38)"
      ]
     },
     "execution_count": 2,
     "metadata": {},
     "output_type": "execute_result"
    }
   ],
   "source": [
    "df = pd.read_csv('final_train.csv')\n",
    "df.shape"
   ]
  },
  {
   "cell_type": "code",
   "execution_count": 3,
   "id": "7839366e",
   "metadata": {},
   "outputs": [
    {
     "data": {
      "text/html": [
       "<div>\n",
       "<style scoped>\n",
       "    .dataframe tbody tr th:only-of-type {\n",
       "        vertical-align: middle;\n",
       "    }\n",
       "\n",
       "    .dataframe tbody tr th {\n",
       "        vertical-align: top;\n",
       "    }\n",
       "\n",
       "    .dataframe thead th {\n",
       "        text-align: right;\n",
       "    }\n",
       "</style>\n",
       "<table border=\"1\" class=\"dataframe\">\n",
       "  <thead>\n",
       "    <tr style=\"text-align: right;\">\n",
       "      <th></th>\n",
       "      <th>Item_Fat_Content</th>\n",
       "      <th>Item_Visibility</th>\n",
       "      <th>Item_MRP</th>\n",
       "      <th>Outlet_Establishment_Year</th>\n",
       "      <th>Outlet_Size</th>\n",
       "      <th>Outlet_Location_Type</th>\n",
       "      <th>Item_Outlet_Sales</th>\n",
       "      <th>Item_Weight_y</th>\n",
       "      <th>Item_Type_Baking Goods</th>\n",
       "      <th>Item_Type_Breads</th>\n",
       "      <th>...</th>\n",
       "      <th>Outlet_Identifier_OUT019</th>\n",
       "      <th>Outlet_Identifier_OUT027</th>\n",
       "      <th>Outlet_Identifier_OUT035</th>\n",
       "      <th>Outlet_Identifier_OUT045</th>\n",
       "      <th>Outlet_Identifier_OUT046</th>\n",
       "      <th>Outlet_Identifier_OUT049</th>\n",
       "      <th>Outlet_Type_Grocery Store</th>\n",
       "      <th>Outlet_Type_Supermarket Type1</th>\n",
       "      <th>Outlet_Type_Supermarket Type2</th>\n",
       "      <th>Outlet_Type_Supermarket Type3</th>\n",
       "    </tr>\n",
       "  </thead>\n",
       "  <tbody>\n",
       "    <tr>\n",
       "      <th>0</th>\n",
       "      <td>1</td>\n",
       "      <td>0.016047</td>\n",
       "      <td>249.8092</td>\n",
       "      <td>1999</td>\n",
       "      <td>2</td>\n",
       "      <td>1</td>\n",
       "      <td>3735.1380</td>\n",
       "      <td>9.30</td>\n",
       "      <td>0</td>\n",
       "      <td>0</td>\n",
       "      <td>...</td>\n",
       "      <td>0</td>\n",
       "      <td>0</td>\n",
       "      <td>0</td>\n",
       "      <td>0</td>\n",
       "      <td>0</td>\n",
       "      <td>1</td>\n",
       "      <td>0</td>\n",
       "      <td>1</td>\n",
       "      <td>0</td>\n",
       "      <td>0</td>\n",
       "    </tr>\n",
       "    <tr>\n",
       "      <th>1</th>\n",
       "      <td>2</td>\n",
       "      <td>0.019278</td>\n",
       "      <td>48.2692</td>\n",
       "      <td>2009</td>\n",
       "      <td>2</td>\n",
       "      <td>3</td>\n",
       "      <td>443.4228</td>\n",
       "      <td>5.92</td>\n",
       "      <td>0</td>\n",
       "      <td>0</td>\n",
       "      <td>...</td>\n",
       "      <td>0</td>\n",
       "      <td>0</td>\n",
       "      <td>0</td>\n",
       "      <td>0</td>\n",
       "      <td>0</td>\n",
       "      <td>0</td>\n",
       "      <td>0</td>\n",
       "      <td>0</td>\n",
       "      <td>1</td>\n",
       "      <td>0</td>\n",
       "    </tr>\n",
       "  </tbody>\n",
       "</table>\n",
       "<p>2 rows × 38 columns</p>\n",
       "</div>"
      ],
      "text/plain": [
       "   Item_Fat_Content  Item_Visibility  Item_MRP  Outlet_Establishment_Year  \\\n",
       "0                 1         0.016047  249.8092                       1999   \n",
       "1                 2         0.019278   48.2692                       2009   \n",
       "\n",
       "   Outlet_Size  Outlet_Location_Type  Item_Outlet_Sales  Item_Weight_y  \\\n",
       "0            2                     1          3735.1380           9.30   \n",
       "1            2                     3           443.4228           5.92   \n",
       "\n",
       "   Item_Type_Baking Goods  Item_Type_Breads  ...  Outlet_Identifier_OUT019  \\\n",
       "0                       0                 0  ...                         0   \n",
       "1                       0                 0  ...                         0   \n",
       "\n",
       "   Outlet_Identifier_OUT027  Outlet_Identifier_OUT035  \\\n",
       "0                         0                         0   \n",
       "1                         0                         0   \n",
       "\n",
       "   Outlet_Identifier_OUT045  Outlet_Identifier_OUT046  \\\n",
       "0                         0                         0   \n",
       "1                         0                         0   \n",
       "\n",
       "   Outlet_Identifier_OUT049  Outlet_Type_Grocery Store  \\\n",
       "0                         1                          0   \n",
       "1                         0                          0   \n",
       "\n",
       "   Outlet_Type_Supermarket Type1  Outlet_Type_Supermarket Type2  \\\n",
       "0                              1                              0   \n",
       "1                              0                              1   \n",
       "\n",
       "   Outlet_Type_Supermarket Type3  \n",
       "0                              0  \n",
       "1                              0  \n",
       "\n",
       "[2 rows x 38 columns]"
      ]
     },
     "execution_count": 3,
     "metadata": {},
     "output_type": "execute_result"
    }
   ],
   "source": [
    "df.head(2)"
   ]
  },
  {
   "cell_type": "code",
   "execution_count": 4,
   "id": "3ef00209",
   "metadata": {},
   "outputs": [
    {
     "data": {
      "text/plain": [
       "0"
      ]
     },
     "execution_count": 4,
     "metadata": {},
     "output_type": "execute_result"
    }
   ],
   "source": [
    "df.isnull().sum().sum()"
   ]
  },
  {
   "cell_type": "markdown",
   "id": "38ee601f",
   "metadata": {},
   "source": [
    "Before building any model on the dataset, we will scale the independent variables.\n",
    "\n",
    "### Scaling"
   ]
  },
  {
   "cell_type": "code",
   "execution_count": 5,
   "id": "8c6ced65",
   "metadata": {},
   "outputs": [],
   "source": [
    "X = df.drop(columns= 'Item_Outlet_Sales', axis= 1)\n",
    "y = df['Item_Outlet_Sales']"
   ]
  },
  {
   "cell_type": "code",
   "execution_count": 6,
   "id": "873f8d42",
   "metadata": {},
   "outputs": [],
   "source": [
    "ss= StandardScaler()\n",
    "X_scaled = ss.fit_transform(X)"
   ]
  },
  {
   "cell_type": "code",
   "execution_count": 7,
   "id": "d2416da0",
   "metadata": {},
   "outputs": [],
   "source": [
    "x = pd.DataFrame(X_scaled, columns= X.columns)"
   ]
  },
  {
   "cell_type": "code",
   "execution_count": 8,
   "id": "04903dd4",
   "metadata": {},
   "outputs": [
    {
     "data": {
      "text/html": [
       "<div>\n",
       "<style scoped>\n",
       "    .dataframe tbody tr th:only-of-type {\n",
       "        vertical-align: middle;\n",
       "    }\n",
       "\n",
       "    .dataframe tbody tr th {\n",
       "        vertical-align: top;\n",
       "    }\n",
       "\n",
       "    .dataframe thead th {\n",
       "        text-align: right;\n",
       "    }\n",
       "</style>\n",
       "<table border=\"1\" class=\"dataframe\">\n",
       "  <thead>\n",
       "    <tr style=\"text-align: right;\">\n",
       "      <th></th>\n",
       "      <th>Item_Fat_Content</th>\n",
       "      <th>Item_Visibility</th>\n",
       "      <th>Item_MRP</th>\n",
       "      <th>Outlet_Establishment_Year</th>\n",
       "      <th>Outlet_Size</th>\n",
       "      <th>Outlet_Location_Type</th>\n",
       "      <th>Item_Weight_y</th>\n",
       "      <th>Item_Type_Baking Goods</th>\n",
       "      <th>Item_Type_Breads</th>\n",
       "      <th>Item_Type_Breakfast</th>\n",
       "      <th>...</th>\n",
       "      <th>Outlet_Identifier_OUT019</th>\n",
       "      <th>Outlet_Identifier_OUT027</th>\n",
       "      <th>Outlet_Identifier_OUT035</th>\n",
       "      <th>Outlet_Identifier_OUT045</th>\n",
       "      <th>Outlet_Identifier_OUT046</th>\n",
       "      <th>Outlet_Identifier_OUT049</th>\n",
       "      <th>Outlet_Type_Grocery Store</th>\n",
       "      <th>Outlet_Type_Supermarket Type1</th>\n",
       "      <th>Outlet_Type_Supermarket Type2</th>\n",
       "      <th>Outlet_Type_Supermarket Type3</th>\n",
       "    </tr>\n",
       "  </thead>\n",
       "  <tbody>\n",
       "    <tr>\n",
       "      <th>0</th>\n",
       "      <td>-0.737887</td>\n",
       "      <td>-0.970891</td>\n",
       "      <td>1.763875</td>\n",
       "      <td>0.133879</td>\n",
       "      <td>0.285343</td>\n",
       "      <td>-1.365170</td>\n",
       "      <td>-0.768435</td>\n",
       "      <td>-0.287770</td>\n",
       "      <td>-0.174363</td>\n",
       "      <td>-0.114158</td>\n",
       "      <td>...</td>\n",
       "      <td>-0.257792</td>\n",
       "      <td>-0.344522</td>\n",
       "      <td>-0.350919</td>\n",
       "      <td>-0.350070</td>\n",
       "      <td>-0.350495</td>\n",
       "      <td>2.847938</td>\n",
       "      <td>-0.382818</td>\n",
       "      <td>0.723256</td>\n",
       "      <td>-0.350707</td>\n",
       "      <td>-0.344522</td>\n",
       "    </tr>\n",
       "    <tr>\n",
       "      <th>1</th>\n",
       "      <td>1.355222</td>\n",
       "      <td>-0.908348</td>\n",
       "      <td>-1.486518</td>\n",
       "      <td>1.331598</td>\n",
       "      <td>0.285343</td>\n",
       "      <td>1.095912</td>\n",
       "      <td>-1.496059</td>\n",
       "      <td>-0.287770</td>\n",
       "      <td>-0.174363</td>\n",
       "      <td>-0.114158</td>\n",
       "      <td>...</td>\n",
       "      <td>-0.257792</td>\n",
       "      <td>-0.344522</td>\n",
       "      <td>-0.350919</td>\n",
       "      <td>-0.350070</td>\n",
       "      <td>-0.350495</td>\n",
       "      <td>-0.351131</td>\n",
       "      <td>-0.382818</td>\n",
       "      <td>-1.382637</td>\n",
       "      <td>2.851384</td>\n",
       "      <td>-0.344522</td>\n",
       "    </tr>\n",
       "    <tr>\n",
       "      <th>2</th>\n",
       "      <td>-0.737887</td>\n",
       "      <td>-0.957093</td>\n",
       "      <td>0.018991</td>\n",
       "      <td>0.133879</td>\n",
       "      <td>0.285343</td>\n",
       "      <td>-1.365170</td>\n",
       "      <td>0.996806</td>\n",
       "      <td>-0.287770</td>\n",
       "      <td>-0.174363</td>\n",
       "      <td>-0.114158</td>\n",
       "      <td>...</td>\n",
       "      <td>-0.257792</td>\n",
       "      <td>-0.344522</td>\n",
       "      <td>-0.350919</td>\n",
       "      <td>-0.350070</td>\n",
       "      <td>-0.350495</td>\n",
       "      <td>2.847938</td>\n",
       "      <td>-0.382818</td>\n",
       "      <td>0.723256</td>\n",
       "      <td>-0.350707</td>\n",
       "      <td>-0.344522</td>\n",
       "    </tr>\n",
       "    <tr>\n",
       "      <th>3</th>\n",
       "      <td>1.355222</td>\n",
       "      <td>-1.281526</td>\n",
       "      <td>0.671795</td>\n",
       "      <td>0.014107</td>\n",
       "      <td>0.285343</td>\n",
       "      <td>1.095912</td>\n",
       "      <td>1.362771</td>\n",
       "      <td>-0.287770</td>\n",
       "      <td>-0.174363</td>\n",
       "      <td>-0.114158</td>\n",
       "      <td>...</td>\n",
       "      <td>-0.257792</td>\n",
       "      <td>-0.344522</td>\n",
       "      <td>-0.350919</td>\n",
       "      <td>-0.350070</td>\n",
       "      <td>-0.350495</td>\n",
       "      <td>-0.351131</td>\n",
       "      <td>2.612209</td>\n",
       "      <td>-1.382637</td>\n",
       "      <td>-0.350707</td>\n",
       "      <td>-0.344522</td>\n",
       "    </tr>\n",
       "    <tr>\n",
       "      <th>4</th>\n",
       "      <td>-0.737887</td>\n",
       "      <td>-1.281526</td>\n",
       "      <td>-1.396328</td>\n",
       "      <td>-1.303383</td>\n",
       "      <td>1.948141</td>\n",
       "      <td>1.095912</td>\n",
       "      <td>-0.848086</td>\n",
       "      <td>-0.287770</td>\n",
       "      <td>-0.174363</td>\n",
       "      <td>-0.114158</td>\n",
       "      <td>...</td>\n",
       "      <td>-0.257792</td>\n",
       "      <td>-0.344522</td>\n",
       "      <td>-0.350919</td>\n",
       "      <td>-0.350070</td>\n",
       "      <td>-0.350495</td>\n",
       "      <td>-0.351131</td>\n",
       "      <td>-0.382818</td>\n",
       "      <td>0.723256</td>\n",
       "      <td>-0.350707</td>\n",
       "      <td>-0.344522</td>\n",
       "    </tr>\n",
       "    <tr>\n",
       "      <th>...</th>\n",
       "      <td>...</td>\n",
       "      <td>...</td>\n",
       "      <td>...</td>\n",
       "      <td>...</td>\n",
       "      <td>...</td>\n",
       "      <td>...</td>\n",
       "      <td>...</td>\n",
       "      <td>...</td>\n",
       "      <td>...</td>\n",
       "      <td>...</td>\n",
       "      <td>...</td>\n",
       "      <td>...</td>\n",
       "      <td>...</td>\n",
       "      <td>...</td>\n",
       "      <td>...</td>\n",
       "      <td>...</td>\n",
       "      <td>...</td>\n",
       "      <td>...</td>\n",
       "      <td>...</td>\n",
       "      <td>...</td>\n",
       "      <td>...</td>\n",
       "    </tr>\n",
       "    <tr>\n",
       "      <th>8468</th>\n",
       "      <td>-0.737887</td>\n",
       "      <td>-0.182343</td>\n",
       "      <td>1.194768</td>\n",
       "      <td>-1.303383</td>\n",
       "      <td>1.948141</td>\n",
       "      <td>1.095912</td>\n",
       "      <td>-1.292626</td>\n",
       "      <td>-0.287770</td>\n",
       "      <td>-0.174363</td>\n",
       "      <td>-0.114158</td>\n",
       "      <td>...</td>\n",
       "      <td>-0.257792</td>\n",
       "      <td>-0.344522</td>\n",
       "      <td>-0.350919</td>\n",
       "      <td>-0.350070</td>\n",
       "      <td>-0.350495</td>\n",
       "      <td>-0.351131</td>\n",
       "      <td>-0.382818</td>\n",
       "      <td>0.723256</td>\n",
       "      <td>-0.350707</td>\n",
       "      <td>-0.344522</td>\n",
       "    </tr>\n",
       "    <tr>\n",
       "      <th>8469</th>\n",
       "      <td>1.355222</td>\n",
       "      <td>-0.372064</td>\n",
       "      <td>-0.520660</td>\n",
       "      <td>0.493195</td>\n",
       "      <td>0.285343</td>\n",
       "      <td>-0.134629</td>\n",
       "      <td>-0.966487</td>\n",
       "      <td>3.474999</td>\n",
       "      <td>-0.174363</td>\n",
       "      <td>-0.114158</td>\n",
       "      <td>...</td>\n",
       "      <td>-0.257792</td>\n",
       "      <td>-0.344522</td>\n",
       "      <td>-0.350919</td>\n",
       "      <td>2.856571</td>\n",
       "      <td>-0.350495</td>\n",
       "      <td>-0.351131</td>\n",
       "      <td>-0.382818</td>\n",
       "      <td>0.723256</td>\n",
       "      <td>-0.350707</td>\n",
       "      <td>-0.344522</td>\n",
       "    </tr>\n",
       "    <tr>\n",
       "      <th>8470</th>\n",
       "      <td>-0.737887</td>\n",
       "      <td>-0.600408</td>\n",
       "      <td>-0.892157</td>\n",
       "      <td>0.732739</td>\n",
       "      <td>-1.377456</td>\n",
       "      <td>-0.134629</td>\n",
       "      <td>-0.488580</td>\n",
       "      <td>-0.287770</td>\n",
       "      <td>-0.174363</td>\n",
       "      <td>-0.114158</td>\n",
       "      <td>...</td>\n",
       "      <td>-0.257792</td>\n",
       "      <td>-0.344522</td>\n",
       "      <td>2.849660</td>\n",
       "      <td>-0.350070</td>\n",
       "      <td>-0.350495</td>\n",
       "      <td>-0.351131</td>\n",
       "      <td>-0.382818</td>\n",
       "      <td>0.723256</td>\n",
       "      <td>-0.350707</td>\n",
       "      <td>-0.344522</td>\n",
       "    </tr>\n",
       "    <tr>\n",
       "      <th>8471</th>\n",
       "      <td>1.355222</td>\n",
       "      <td>1.529581</td>\n",
       "      <td>-0.601683</td>\n",
       "      <td>1.331598</td>\n",
       "      <td>0.285343</td>\n",
       "      <td>1.095912</td>\n",
       "      <td>-1.218357</td>\n",
       "      <td>-0.287770</td>\n",
       "      <td>-0.174363</td>\n",
       "      <td>-0.114158</td>\n",
       "      <td>...</td>\n",
       "      <td>-0.257792</td>\n",
       "      <td>-0.344522</td>\n",
       "      <td>-0.350919</td>\n",
       "      <td>-0.350070</td>\n",
       "      <td>-0.350495</td>\n",
       "      <td>-0.351131</td>\n",
       "      <td>-0.382818</td>\n",
       "      <td>-1.382637</td>\n",
       "      <td>2.851384</td>\n",
       "      <td>-0.344522</td>\n",
       "    </tr>\n",
       "    <tr>\n",
       "      <th>8472</th>\n",
       "      <td>-0.737887</td>\n",
       "      <td>-0.412796</td>\n",
       "      <td>-1.047877</td>\n",
       "      <td>-0.105664</td>\n",
       "      <td>-1.377456</td>\n",
       "      <td>-1.365170</td>\n",
       "      <td>0.415568</td>\n",
       "      <td>-0.287770</td>\n",
       "      <td>-0.174363</td>\n",
       "      <td>-0.114158</td>\n",
       "      <td>...</td>\n",
       "      <td>-0.257792</td>\n",
       "      <td>-0.344522</td>\n",
       "      <td>-0.350919</td>\n",
       "      <td>-0.350070</td>\n",
       "      <td>2.853110</td>\n",
       "      <td>-0.351131</td>\n",
       "      <td>-0.382818</td>\n",
       "      <td>0.723256</td>\n",
       "      <td>-0.350707</td>\n",
       "      <td>-0.344522</td>\n",
       "    </tr>\n",
       "  </tbody>\n",
       "</table>\n",
       "<p>8473 rows × 37 columns</p>\n",
       "</div>"
      ],
      "text/plain": [
       "      Item_Fat_Content  Item_Visibility  Item_MRP  Outlet_Establishment_Year  \\\n",
       "0            -0.737887        -0.970891  1.763875                   0.133879   \n",
       "1             1.355222        -0.908348 -1.486518                   1.331598   \n",
       "2            -0.737887        -0.957093  0.018991                   0.133879   \n",
       "3             1.355222        -1.281526  0.671795                   0.014107   \n",
       "4            -0.737887        -1.281526 -1.396328                  -1.303383   \n",
       "...                ...              ...       ...                        ...   \n",
       "8468         -0.737887        -0.182343  1.194768                  -1.303383   \n",
       "8469          1.355222        -0.372064 -0.520660                   0.493195   \n",
       "8470         -0.737887        -0.600408 -0.892157                   0.732739   \n",
       "8471          1.355222         1.529581 -0.601683                   1.331598   \n",
       "8472         -0.737887        -0.412796 -1.047877                  -0.105664   \n",
       "\n",
       "      Outlet_Size  Outlet_Location_Type  Item_Weight_y  \\\n",
       "0        0.285343             -1.365170      -0.768435   \n",
       "1        0.285343              1.095912      -1.496059   \n",
       "2        0.285343             -1.365170       0.996806   \n",
       "3        0.285343              1.095912       1.362771   \n",
       "4        1.948141              1.095912      -0.848086   \n",
       "...           ...                   ...            ...   \n",
       "8468     1.948141              1.095912      -1.292626   \n",
       "8469     0.285343             -0.134629      -0.966487   \n",
       "8470    -1.377456             -0.134629      -0.488580   \n",
       "8471     0.285343              1.095912      -1.218357   \n",
       "8472    -1.377456             -1.365170       0.415568   \n",
       "\n",
       "      Item_Type_Baking Goods  Item_Type_Breads  Item_Type_Breakfast  ...  \\\n",
       "0                  -0.287770         -0.174363            -0.114158  ...   \n",
       "1                  -0.287770         -0.174363            -0.114158  ...   \n",
       "2                  -0.287770         -0.174363            -0.114158  ...   \n",
       "3                  -0.287770         -0.174363            -0.114158  ...   \n",
       "4                  -0.287770         -0.174363            -0.114158  ...   \n",
       "...                      ...               ...                  ...  ...   \n",
       "8468               -0.287770         -0.174363            -0.114158  ...   \n",
       "8469                3.474999         -0.174363            -0.114158  ...   \n",
       "8470               -0.287770         -0.174363            -0.114158  ...   \n",
       "8471               -0.287770         -0.174363            -0.114158  ...   \n",
       "8472               -0.287770         -0.174363            -0.114158  ...   \n",
       "\n",
       "      Outlet_Identifier_OUT019  Outlet_Identifier_OUT027  \\\n",
       "0                    -0.257792                 -0.344522   \n",
       "1                    -0.257792                 -0.344522   \n",
       "2                    -0.257792                 -0.344522   \n",
       "3                    -0.257792                 -0.344522   \n",
       "4                    -0.257792                 -0.344522   \n",
       "...                        ...                       ...   \n",
       "8468                 -0.257792                 -0.344522   \n",
       "8469                 -0.257792                 -0.344522   \n",
       "8470                 -0.257792                 -0.344522   \n",
       "8471                 -0.257792                 -0.344522   \n",
       "8472                 -0.257792                 -0.344522   \n",
       "\n",
       "      Outlet_Identifier_OUT035  Outlet_Identifier_OUT045  \\\n",
       "0                    -0.350919                 -0.350070   \n",
       "1                    -0.350919                 -0.350070   \n",
       "2                    -0.350919                 -0.350070   \n",
       "3                    -0.350919                 -0.350070   \n",
       "4                    -0.350919                 -0.350070   \n",
       "...                        ...                       ...   \n",
       "8468                 -0.350919                 -0.350070   \n",
       "8469                 -0.350919                  2.856571   \n",
       "8470                  2.849660                 -0.350070   \n",
       "8471                 -0.350919                 -0.350070   \n",
       "8472                 -0.350919                 -0.350070   \n",
       "\n",
       "      Outlet_Identifier_OUT046  Outlet_Identifier_OUT049  \\\n",
       "0                    -0.350495                  2.847938   \n",
       "1                    -0.350495                 -0.351131   \n",
       "2                    -0.350495                  2.847938   \n",
       "3                    -0.350495                 -0.351131   \n",
       "4                    -0.350495                 -0.351131   \n",
       "...                        ...                       ...   \n",
       "8468                 -0.350495                 -0.351131   \n",
       "8469                 -0.350495                 -0.351131   \n",
       "8470                 -0.350495                 -0.351131   \n",
       "8471                 -0.350495                 -0.351131   \n",
       "8472                  2.853110                 -0.351131   \n",
       "\n",
       "      Outlet_Type_Grocery Store  Outlet_Type_Supermarket Type1  \\\n",
       "0                     -0.382818                       0.723256   \n",
       "1                     -0.382818                      -1.382637   \n",
       "2                     -0.382818                       0.723256   \n",
       "3                      2.612209                      -1.382637   \n",
       "4                     -0.382818                       0.723256   \n",
       "...                         ...                            ...   \n",
       "8468                  -0.382818                       0.723256   \n",
       "8469                  -0.382818                       0.723256   \n",
       "8470                  -0.382818                       0.723256   \n",
       "8471                  -0.382818                      -1.382637   \n",
       "8472                  -0.382818                       0.723256   \n",
       "\n",
       "      Outlet_Type_Supermarket Type2  Outlet_Type_Supermarket Type3  \n",
       "0                         -0.350707                      -0.344522  \n",
       "1                          2.851384                      -0.344522  \n",
       "2                         -0.350707                      -0.344522  \n",
       "3                         -0.350707                      -0.344522  \n",
       "4                         -0.350707                      -0.344522  \n",
       "...                             ...                            ...  \n",
       "8468                      -0.350707                      -0.344522  \n",
       "8469                      -0.350707                      -0.344522  \n",
       "8470                      -0.350707                      -0.344522  \n",
       "8471                       2.851384                      -0.344522  \n",
       "8472                      -0.350707                      -0.344522  \n",
       "\n",
       "[8473 rows x 37 columns]"
      ]
     },
     "execution_count": 8,
     "metadata": {},
     "output_type": "execute_result"
    }
   ],
   "source": [
    "x"
   ]
  },
  {
   "cell_type": "code",
   "execution_count": 9,
   "id": "dc0a4881",
   "metadata": {},
   "outputs": [],
   "source": [
    "scaled_df = pd.concat([x,y], axis=1)"
   ]
  },
  {
   "cell_type": "markdown",
   "id": "d936fdc3",
   "metadata": {},
   "source": [
    "### RMSE on Average Sales"
   ]
  },
  {
   "cell_type": "code",
   "execution_count": 10,
   "id": "50fdfb37",
   "metadata": {},
   "outputs": [],
   "source": [
    "mean_sales = []\n",
    "\n",
    "for i in range(df.shape[0]):\n",
    "    sales = df['Item_Outlet_Sales'].mean()\n",
    "    mean_sales.append(sales)"
   ]
  },
  {
   "cell_type": "code",
   "execution_count": 11,
   "id": "6db60a2d",
   "metadata": {},
   "outputs": [
    {
     "data": {
      "text/plain": [
       "1623.2436560597782"
      ]
     },
     "execution_count": 11,
     "metadata": {},
     "output_type": "execute_result"
    }
   ],
   "source": [
    "mean_rmse = np.sqrt(mse(df['Item_Outlet_Sales'], mean_sales))\n",
    "mean_rmse"
   ]
  },
  {
   "cell_type": "markdown",
   "id": "fb8315c3",
   "metadata": {},
   "source": [
    "Now when we have a rough idea about RMSE from the average sales amount. We will predict the sales using different algorithms and check which algorithm is returning least RMSE. \n",
    "\n",
    "Let us first define the function to calculate RMSE using KFold Cross validation."
   ]
  },
  {
   "cell_type": "code",
   "execution_count": 27,
   "id": "83ada372",
   "metadata": {},
   "outputs": [],
   "source": [
    "def baseline_score(model, data, k= 2):\n",
    "    \n",
    "    X = data.drop(columns = 'Item_Outlet_Sales', axis= 1)\n",
    "    Y = data['Item_Outlet_Sales']\n",
    "    \n",
    "    KF = KFold(n_splits= k, shuffle= True, random_state= 0)\n",
    "    train_score = []\n",
    "    val_score = []\n",
    "    \n",
    "    \n",
    "    for i, (train_index, val_index) in enumerate(KF.split(X, Y)):\n",
    "        print('{} of KFold {}'.format((i+1), KF.n_splits))\n",
    "        xtr, xval = X.iloc[train_index], X.iloc[val_index]\n",
    "        ytr, yval = Y.iloc[train_index], Y.iloc[val_index]\n",
    "        \n",
    "        \n",
    "        model.fit(xtr, ytr)\n",
    "\n",
    "        train_preds = model.predict(xtr)\n",
    "        val_preds = model.predict(xval)\n",
    "\n",
    "        train_rmse = np.sqrt(mse(ytr, train_preds))\n",
    "        val_rmse = np.sqrt(mse(yval, val_preds))\n",
    "\n",
    "        print('RMSE on Train: {}'.format(train_rmse))\n",
    "        print('RMSE on Valid: {}'.format(val_rmse))\n",
    "        print('====================================================================')\n",
    "        \n",
    "        train_score.append(train_rmse)\n",
    "        val_score.append(val_rmse)\n",
    "\n",
    "    print('Mean RMSE on Training: {}'.format(np.mean(train_score)))\n",
    "    print('Mean RMSE on Validation: {}'.format(np.mean(val_score)))\n",
    "    mean_val_rmse = np.mean(val_score)\n",
    "    \n",
    "    return mean_val_rmse"
   ]
  },
  {
   "cell_type": "markdown",
   "id": "2bef307d",
   "metadata": {},
   "source": [
    "### Test for Linear Regression\n",
    "\n",
    "We will check if the data is suitable for linear regression or not. By checking the Vriance and Normality of the Residuals from the Predicted and Actual Sales values"
   ]
  },
  {
   "cell_type": "code",
   "execution_count": 13,
   "id": "30ed4c8b",
   "metadata": {},
   "outputs": [
    {
     "data": {
      "text/plain": [
       "((5648, 37), (2825, 37), (5648,), (2825,))"
      ]
     },
     "execution_count": 13,
     "metadata": {},
     "output_type": "execute_result"
    }
   ],
   "source": [
    "X = scaled_df.drop(columns = 'Item_Outlet_Sales', axis= 1)\n",
    "Y = scaled_df['Item_Outlet_Sales']\n",
    "\n",
    "xtr, xval, ytr, yval = train_test_split(X,Y, random_state= 0, test_size= 1/3)\n",
    "xtr.shape, xval.shape, ytr.shape, yval.shape"
   ]
  },
  {
   "cell_type": "code",
   "execution_count": 14,
   "id": "3b9d4007",
   "metadata": {},
   "outputs": [],
   "source": [
    "LR = LinearRegression()\n",
    "LR.fit(xtr,ytr)\n",
    "preds = LR.predict(xval)\n",
    "\n",
    "xval['Residual'] = preds - yval"
   ]
  },
  {
   "cell_type": "code",
   "execution_count": 15,
   "id": "99491d31",
   "metadata": {},
   "outputs": [
    {
     "data": {
      "image/png": "[encoded data removed]",
      "text/plain": [
       "<Figure size 1000x300 with 1 Axes>"
      ]
     },
     "metadata": {},
     "output_type": "display_data"
    }
   ],
   "source": [
    "plt.figure(figsize= (10,3), dpi= 100)\n",
    "sns.lineplot(x= (i for i in range(len(xval))), y= xval['Residual'])\n",
    "plt.xlabel('Residuals')\n",
    "plt.title('Homoscedasticity / Low variance in Residuals')\n",
    "plt.show()"
   ]
  },
  {
   "cell_type": "code",
   "execution_count": 16,
   "id": "87f10db4",
   "metadata": {},
   "outputs": [
    {
     "data": {
      "image/png": "[encoded data removed]",
      "text/plain": [
       "<Figure size 400x400 with 1 Axes>"
      ]
     },
     "metadata": {},
     "output_type": "display_data"
    }
   ],
   "source": [
    "plt.figure(figsize= (4,4), dpi= 100)\n",
    "sns.kdeplot(xval['Residual'], fill= True)\n",
    "plt.xlabel('Residuals')\n",
    "plt.ylabel('Frequency')\n",
    "plt.title('Normality of Errors')\n",
    "plt.show()"
   ]
  },
  {
   "cell_type": "markdown",
   "id": "ed494e5b",
   "metadata": {},
   "source": [
    "We can see Linear Regression Model is apt for using on this dataset because:\n",
    "* The first plot shows that Errors (residuals) do not follow any underlined trend and are uniformly distributed either in positive or negative direction.\n",
    "* The second plot shows the errors follow an almost Normal Distribution. \n",
    "\n",
    "So, let's go ahead and see KFold cross validation RMSE on Linear Regression. \n",
    "\n",
    "\n",
    "### RMSE on Linear Regression"
   ]
  },
  {
   "cell_type": "code",
   "execution_count": 17,
   "id": "f5a335cd",
   "metadata": {},
   "outputs": [],
   "source": [
    "LR = LinearRegression()"
   ]
  },
  {
   "cell_type": "code",
   "execution_count": 18,
   "id": "158fd374",
   "metadata": {},
   "outputs": [
    {
     "name": "stdout",
     "output_type": "stream",
     "text": [
      "1 of KFold 5\n",
      "RMSE on Train: 1080.4710322357055\n",
      "RMSE on Valid: 1052.4251438002075\n",
      "====================================================================\n",
      "2 of KFold 5\n",
      "RMSE on Train: 1074.3904881431336\n",
      "RMSE on Valid: 1073.3301897977872\n",
      "====================================================================\n",
      "3 of KFold 5\n",
      "RMSE on Train: 1071.3205754235419\n",
      "RMSE on Valid: 1088.1794877938582\n",
      "====================================================================\n",
      "4 of KFold 5\n",
      "RMSE on Train: 1071.401944691728\n",
      "RMSE on Valid: 1086.4735456147216\n",
      "====================================================================\n",
      "5 of KFold 5\n",
      "RMSE on Train: 1071.5592569705025\n",
      "RMSE on Valid: 1086.0045680357437\n",
      "====================================================================\n",
      "Mean RMSE on Training: 1073.8286594929223\n",
      "Mean RMSE on Validation: 1077.2825870084637\n"
     ]
    }
   ],
   "source": [
    "LR_valid = baseline_score(LR, scaled_df, k=5)"
   ]
  },
  {
   "cell_type": "markdown",
   "id": "95f4d325",
   "metadata": {},
   "source": [
    "### RMSE on Decision Tree"
   ]
  },
  {
   "cell_type": "code",
   "execution_count": 21,
   "id": "aac3c8ab",
   "metadata": {},
   "outputs": [],
   "source": [
    "DT = DecisionTreeRegressor(max_depth= 5, random_state= 42)"
   ]
  },
  {
   "cell_type": "code",
   "execution_count": 22,
   "id": "b030e782",
   "metadata": {},
   "outputs": [
    {
     "name": "stdout",
     "output_type": "stream",
     "text": [
      "1 of KFold 5\n",
      "RMSE on Train: 1029.3375781943962\n",
      "RMSE on Valid: 1023.2192585690666\n",
      "====================================================================\n",
      "2 of KFold 5\n",
      "RMSE on Train: 1028.9460589457892\n",
      "RMSE on Valid: 1031.4635334095485\n",
      "====================================================================\n",
      "3 of KFold 5\n",
      "RMSE on Train: 1020.9836049899174\n",
      "RMSE on Valid: 1056.2518251218282\n",
      "====================================================================\n",
      "4 of KFold 5\n",
      "RMSE on Train: 1021.1566928406573\n",
      "RMSE on Valid: 1056.4679416662998\n",
      "====================================================================\n",
      "5 of KFold 5\n",
      "RMSE on Train: 1023.7305191269774\n",
      "RMSE on Valid: 1051.9127883848396\n",
      "====================================================================\n",
      "Mean RMSE on Training: 1024.8308908195474\n",
      "Mean RMSE on Validation: 1043.8630694303167\n"
     ]
    }
   ],
   "source": [
    "DT_valid = baseline_score(DT, scaled_df, k=5)"
   ]
  },
  {
   "cell_type": "markdown",
   "id": "68049f29",
   "metadata": {},
   "source": [
    "### RMSE on Random Forest"
   ]
  },
  {
   "cell_type": "code",
   "execution_count": 23,
   "id": "e334dab1",
   "metadata": {},
   "outputs": [],
   "source": [
    "RF = RandomForestRegressor(random_state= 0)"
   ]
  },
  {
   "cell_type": "code",
   "execution_count": 24,
   "id": "d109efd1",
   "metadata": {},
   "outputs": [
    {
     "name": "stdout",
     "output_type": "stream",
     "text": [
      "1 of KFold 5\n",
      "RMSE on Train: 404.57920756526386\n",
      "RMSE on Valid: 1068.7992026662573\n",
      "====================================================================\n",
      "2 of KFold 5\n",
      "RMSE on Train: 405.08596833244536\n",
      "RMSE on Valid: 1055.1714749585144\n",
      "====================================================================\n",
      "3 of KFold 5\n",
      "RMSE on Train: 399.9268065211262\n",
      "RMSE on Valid: 1109.4490799563757\n",
      "====================================================================\n",
      "4 of KFold 5\n",
      "RMSE on Train: 405.15850553475843\n",
      "RMSE on Valid: 1075.4227940321693\n",
      "====================================================================\n",
      "5 of KFold 5\n",
      "RMSE on Train: 402.34185777593524\n",
      "RMSE on Valid: 1083.4392265374138\n",
      "====================================================================\n",
      "Mean RMSE on Training: 403.4184691459058\n",
      "Mean RMSE on Validation: 1078.4563556301462\n"
     ]
    }
   ],
   "source": [
    "RF_valid = baseline_score(RF, scaled_df, k= 5)"
   ]
  },
  {
   "cell_type": "markdown",
   "id": "582dfc8f",
   "metadata": {},
   "source": [
    "### RMSE on XGBoost"
   ]
  },
  {
   "cell_type": "code",
   "execution_count": 25,
   "id": "d001778b",
   "metadata": {},
   "outputs": [],
   "source": [
    "XGB = XGBRegressor(random_state= 0)"
   ]
  },
  {
   "cell_type": "code",
   "execution_count": 28,
   "id": "22784926",
   "metadata": {},
   "outputs": [
    {
     "name": "stdout",
     "output_type": "stream",
     "text": [
      "1 of KFold 5\n",
      "RMSE on Train: 617.443869478914\n",
      "RMSE on Valid: 1091.9556526108597\n",
      "====================================================================\n",
      "2 of KFold 5\n",
      "RMSE on Train: 646.3748829303713\n",
      "RMSE on Valid: 1101.6638519833475\n",
      "====================================================================\n",
      "3 of KFold 5\n",
      "RMSE on Train: 612.4603778357975\n",
      "RMSE on Valid: 1155.179258090784\n",
      "====================================================================\n",
      "4 of KFold 5\n",
      "RMSE on Train: 624.3849264640392\n",
      "RMSE on Valid: 1123.2405420005327\n",
      "====================================================================\n",
      "5 of KFold 5\n",
      "RMSE on Train: 646.5034610278336\n",
      "RMSE on Valid: 1122.5599334449905\n",
      "====================================================================\n",
      "Mean RMSE on Training: 629.4335035473912\n",
      "Mean RMSE on Validation: 1118.919847626103\n"
     ]
    }
   ],
   "source": [
    "XGB_valid = baseline_score(XGB, scaled_df, k=5)"
   ]
  },
  {
   "cell_type": "code",
   "execution_count": 35,
   "id": "7ade9d38",
   "metadata": {},
   "outputs": [
    {
     "data": {
      "text/html": [
       "<div>\n",
       "<style scoped>\n",
       "    .dataframe tbody tr th:only-of-type {\n",
       "        vertical-align: middle;\n",
       "    }\n",
       "\n",
       "    .dataframe tbody tr th {\n",
       "        vertical-align: top;\n",
       "    }\n",
       "\n",
       "    .dataframe thead th {\n",
       "        text-align: right;\n",
       "    }\n",
       "</style>\n",
       "<table border=\"1\" class=\"dataframe\">\n",
       "  <thead>\n",
       "    <tr style=\"text-align: right;\">\n",
       "      <th></th>\n",
       "      <th>Average</th>\n",
       "      <th>LR</th>\n",
       "      <th>DT</th>\n",
       "      <th>RF</th>\n",
       "      <th>XGB</th>\n",
       "    </tr>\n",
       "  </thead>\n",
       "  <tbody>\n",
       "    <tr>\n",
       "      <th>0</th>\n",
       "      <td>1623.243656</td>\n",
       "      <td>1077.282587</td>\n",
       "      <td>1043.863069</td>\n",
       "      <td>1078.456356</td>\n",
       "      <td>1118.919848</td>\n",
       "    </tr>\n",
       "  </tbody>\n",
       "</table>\n",
       "</div>"
      ],
      "text/plain": [
       "       Average           LR           DT           RF          XGB\n",
       "0  1623.243656  1077.282587  1043.863069  1078.456356  1118.919848"
      ]
     },
     "execution_count": 35,
     "metadata": {},
     "output_type": "execute_result"
    }
   ],
   "source": [
    "a = ({'Average': mean_rmse,\n",
    "      'LR': LR_valid,\n",
    "      'DT': DT_valid,\n",
    "      'RF': RF_valid,\n",
    "      'XGB': XGB_valid})\n",
    "a= pd.DataFrame([a])\n",
    "a"
   ]
  },
  {
   "cell_type": "markdown",
   "id": "0702e8d1",
   "metadata": {},
   "source": []
  },
  {
   "cell_type": "code",
   "execution_count": 53,
   "id": "0ad62dde",
   "metadata": {},
   "outputs": [
    {
     "data": {
      "text/plain": [
       "<Figure size 100x100 with 0 Axes>"
      ]
     },
     "metadata": {},
     "output_type": "display_data"
    },
    {
     "data": {
      "image/png": "[encoded data removed]",
      "text/plain": [
       "<Figure size 640x480 with 1 Axes>"
      ]
     },
     "metadata": {},
     "output_type": "display_data"
    }
   ],
   "source": [
    "plt.figure(figsize=(1,1), dpi= 100)\n",
    "a.plot(kind= 'bar')\n",
    "plt.legend(bbox_to_anchor=(1.05, 1), loc=2, borderaxespad=0.)\n",
    "plt.ylabel('RMSE')\n",
    "plt.show()"
   ]
  },
  {
   "cell_type": "code",
   "execution_count": null,
   "id": "60e337e7",
   "metadata": {},
   "outputs": [],
   "source": []
  },
  {
   "cell_type": "code",
   "execution_count": null,
   "id": "24ec0d38",
   "metadata": {},
   "outputs": [],
   "source": []
  },
  {
   "cell_type": "code",
   "execution_count": null,
   "id": "80dde69d",
   "metadata": {},
   "outputs": [],
   "source": []
  },
  {
   "cell_type": "code",
   "execution_count": null,
   "id": "e62ae4b2",
   "metadata": {},
   "outputs": [],
   "source": []
  },
  {
   "cell_type": "code",
   "execution_count": null,
   "id": "4d3fd69f",
   "metadata": {},
   "outputs": [],
   "source": []
  }
 ],
 "metadata": {
  "kernelspec": {
   "display_name": "Python 3 (ipykernel)",
   "language": "python",
   "name": "python3"
  },
  "language_info": {
   "codemirror_mode": {
    "name": "ipython",
    "version": 3
   },
   "file_extension": ".py",
   "mimetype": "text/x-python",
   "name": "python",
   "nbconvert_exporter": "python",
   "pygments_lexer": "ipython3",
   "version": "3.10.9"
  }
 },
 "nbformat": 4,
 "nbformat_minor": 5
}
